{
 "cells": [
  {
   "cell_type": "markdown",
   "metadata": {},
   "source": [
    "## Libraries"
   ]
  },
  {
   "cell_type": "code",
   "execution_count": 67,
   "metadata": {},
   "outputs": [],
   "source": [
    "import pandas as pd\n",
    "import numpy as np\n",
    "import matplotlib.pyplot as plt\n",
    "from sklearn.model_selection import train_test_split\n",
    "from imblearn.over_sampling import RandomOverSampler\n",
    "from sklearn.metrics import classification_report, accuracy_score, confusion_matrix, ConfusionMatrixDisplay, f1_score\n",
    "from sklearn.linear_model import LogisticRegression\n",
    "from sklearn.tree import DecisionTreeClassifier\n",
    "from sklearn.ensemble import RandomForestClassifier\n",
    "from sklearn.svm import SVC\n",
    "from xgboost import XGBClassifier\n",
    "import tensorflow as tf\n",
    "from sklearn.model_selection import cross_val_score\n",
    "from tensorflow.keras.models import Sequential\n",
    "from tensorflow.keras.layers import Dense\n",
    "from tensorflow.keras.losses import SparseCategoricalCrossentropy\n"
   ]
  },
  {
   "cell_type": "markdown",
   "metadata": {},
   "source": [
    "## Exploratory Analysis"
   ]
  },
  {
   "cell_type": "code",
   "execution_count": 9,
   "metadata": {},
   "outputs": [],
   "source": [
    "df = pd.read_csv(\"train.csv\", index_col = 0)"
   ]
  },
  {
   "cell_type": "code",
   "execution_count": 10,
   "metadata": {},
   "outputs": [
    {
     "data": {
      "text/plain": [
       "(80176, 13)"
      ]
     },
     "execution_count": 10,
     "metadata": {},
     "output_type": "execute_result"
    }
   ],
   "source": [
    "df.shape"
   ]
  },
  {
   "cell_type": "code",
   "execution_count": 11,
   "metadata": {},
   "outputs": [
    {
     "data": {
      "text/plain": [
       "Index(['date', 'org', 'tld', 'ccs', 'bcced', 'mail_type', 'images', 'urls',\n",
       "       'salutations', 'designation', 'chars_in_subject', 'chars_in_body',\n",
       "       'label'],\n",
       "      dtype='object')"
      ]
     },
     "execution_count": 11,
     "metadata": {},
     "output_type": "execute_result"
    }
   ],
   "source": [
    "df.columns"
   ]
  },
  {
   "cell_type": "code",
   "execution_count": 12,
   "metadata": {},
   "outputs": [
    {
     "data": {
      "text/html": [
       "<div>\n",
       "<style scoped>\n",
       "    .dataframe tbody tr th:only-of-type {\n",
       "        vertical-align: middle;\n",
       "    }\n",
       "\n",
       "    .dataframe tbody tr th {\n",
       "        vertical-align: top;\n",
       "    }\n",
       "\n",
       "    .dataframe thead th {\n",
       "        text-align: right;\n",
       "    }\n",
       "</style>\n",
       "<table border=\"1\" class=\"dataframe\">\n",
       "  <thead>\n",
       "    <tr style=\"text-align: right;\">\n",
       "      <th></th>\n",
       "      <th>date</th>\n",
       "      <th>org</th>\n",
       "      <th>tld</th>\n",
       "      <th>ccs</th>\n",
       "      <th>bcced</th>\n",
       "      <th>mail_type</th>\n",
       "      <th>images</th>\n",
       "      <th>urls</th>\n",
       "      <th>salutations</th>\n",
       "      <th>designation</th>\n",
       "      <th>chars_in_subject</th>\n",
       "      <th>chars_in_body</th>\n",
       "      <th>label</th>\n",
       "    </tr>\n",
       "  </thead>\n",
       "  <tbody>\n",
       "    <tr>\n",
       "      <th>0</th>\n",
       "      <td>Mon, 6 Nov 2017 11:13:45 +0100</td>\n",
       "      <td>reply</td>\n",
       "      <td>ebay.in</td>\n",
       "      <td>0</td>\n",
       "      <td>0</td>\n",
       "      <td>multipart/alternative</td>\n",
       "      <td>35</td>\n",
       "      <td>120</td>\n",
       "      <td>0</td>\n",
       "      <td>0</td>\n",
       "      <td>49.0</td>\n",
       "      <td>80027</td>\n",
       "      <td>2</td>\n",
       "    </tr>\n",
       "    <tr>\n",
       "      <th>1</th>\n",
       "      <td>Wed, 14 Feb 2018 11:00:16 -0000</td>\n",
       "      <td>edm</td>\n",
       "      <td>efinmail.com</td>\n",
       "      <td>0</td>\n",
       "      <td>0</td>\n",
       "      <td>multipart/alternative</td>\n",
       "      <td>1</td>\n",
       "      <td>7</td>\n",
       "      <td>0</td>\n",
       "      <td>0</td>\n",
       "      <td>107.0</td>\n",
       "      <td>2961</td>\n",
       "      <td>1</td>\n",
       "    </tr>\n",
       "    <tr>\n",
       "      <th>2</th>\n",
       "      <td>Wed, 6 Jul 2016 19:53:37 +0000</td>\n",
       "      <td>usebackpack</td>\n",
       "      <td>com</td>\n",
       "      <td>0</td>\n",
       "      <td>0</td>\n",
       "      <td>text/html</td>\n",
       "      <td>4</td>\n",
       "      <td>17</td>\n",
       "      <td>0</td>\n",
       "      <td>0</td>\n",
       "      <td>35.0</td>\n",
       "      <td>25149</td>\n",
       "      <td>1</td>\n",
       "    </tr>\n",
       "    <tr>\n",
       "      <th>3</th>\n",
       "      <td>Fri, 11 Oct 2019 11:25:40 +0200</td>\n",
       "      <td>granular</td>\n",
       "      <td>ai</td>\n",
       "      <td>0</td>\n",
       "      <td>0</td>\n",
       "      <td>multipart/mixed</td>\n",
       "      <td>0</td>\n",
       "      <td>0</td>\n",
       "      <td>0</td>\n",
       "      <td>0</td>\n",
       "      <td>15.0</td>\n",
       "      <td>635296</td>\n",
       "      <td>1</td>\n",
       "    </tr>\n",
       "    <tr>\n",
       "      <th>4</th>\n",
       "      <td>Tue, 07 Nov 2017 11:07:18 +0000 (UTC)</td>\n",
       "      <td>github</td>\n",
       "      <td>com</td>\n",
       "      <td>1</td>\n",
       "      <td>0</td>\n",
       "      <td>multipart/alternative</td>\n",
       "      <td>2</td>\n",
       "      <td>11</td>\n",
       "      <td>0</td>\n",
       "      <td>0</td>\n",
       "      <td>49.0</td>\n",
       "      <td>2355</td>\n",
       "      <td>1</td>\n",
       "    </tr>\n",
       "  </tbody>\n",
       "</table>\n",
       "</div>"
      ],
      "text/plain": [
       "                                    date          org           tld  ccs  \\\n",
       "0         Mon, 6 Nov 2017 11:13:45 +0100        reply       ebay.in    0   \n",
       "1        Wed, 14 Feb 2018 11:00:16 -0000          edm  efinmail.com    0   \n",
       "2         Wed, 6 Jul 2016 19:53:37 +0000  usebackpack           com    0   \n",
       "3        Fri, 11 Oct 2019 11:25:40 +0200     granular            ai    0   \n",
       "4  Tue, 07 Nov 2017 11:07:18 +0000 (UTC)       github           com    1   \n",
       "\n",
       "   bcced              mail_type  images  urls  salutations  designation  \\\n",
       "0      0  multipart/alternative      35   120            0            0   \n",
       "1      0  multipart/alternative       1     7            0            0   \n",
       "2      0              text/html       4    17            0            0   \n",
       "3      0        multipart/mixed       0     0            0            0   \n",
       "4      0  multipart/alternative       2    11            0            0   \n",
       "\n",
       "   chars_in_subject  chars_in_body  label  \n",
       "0              49.0          80027      2  \n",
       "1             107.0           2961      1  \n",
       "2              35.0          25149      1  \n",
       "3              15.0         635296      1  \n",
       "4              49.0           2355      1  "
      ]
     },
     "execution_count": 12,
     "metadata": {},
     "output_type": "execute_result"
    }
   ],
   "source": [
    "df.head()"
   ]
  },
  {
   "cell_type": "code",
   "execution_count": 13,
   "metadata": {},
   "outputs": [
    {
     "data": {
      "text/plain": [
       "date                 object\n",
       "org                  object\n",
       "tld                  object\n",
       "ccs                   int64\n",
       "bcced                 int64\n",
       "mail_type            object\n",
       "images                int64\n",
       "urls                  int64\n",
       "salutations           int64\n",
       "designation           int64\n",
       "chars_in_subject    float64\n",
       "chars_in_body         int64\n",
       "label                 int64\n",
       "dtype: object"
      ]
     },
     "execution_count": 13,
     "metadata": {},
     "output_type": "execute_result"
    }
   ],
   "source": [
    "df.dtypes"
   ]
  },
  {
   "cell_type": "markdown",
   "metadata": {},
   "source": [
    "## Data Cleaning"
   ]
  },
  {
   "cell_type": "markdown",
   "metadata": {},
   "source": [
    "#### Cleaning Date"
   ]
  },
  {
   "cell_type": "code",
   "execution_count": 14,
   "metadata": {},
   "outputs": [],
   "source": [
    "def get_day(x):\n",
    "    days = ['Mon', 'Wed', 'Fri', 'Tue', 'Sun', 'Sat', 'Thu']\n",
    "    if x.split(' ')[0][:-1] in days:\n",
    "        return x.split(' ')[0][:-1]\n",
    "    return 'No day'\n",
    "df['day'] = df['date'].apply(get_day)\n",
    "\n",
    "def get_day_number(x):\n",
    "    try:\n",
    "        day_number = int(x.split(' ')[1])\n",
    "        return day_number\n",
    "    except:\n",
    "        try:\n",
    "            day_number = int(x.split(' ')[0][:-1])\n",
    "            return day_number\n",
    "        except:\n",
    "            return -1\n",
    "        \n",
    "def get_month(x):\n",
    "    months = ['Aug', 'Sep', 'Oct', 'Jul', 'Apr', 'Mar', 'Jan', 'Jun', 'Feb', 'May', 'Nov', 'Dec']\n",
    "    try:\n",
    "        if x.split(' ')[2] in months:\n",
    "            return x.split(' ')[2]\n",
    "        elif x.split(' ')[1] in months:\n",
    "            return x.split(' ')[1]\n",
    "    except:\n",
    "        return 'No Month' \n",
    "    \n",
    "def get_year(x):\n",
    "    try:\n",
    "        year = int(x.split(' ')[3])\n",
    "        return year\n",
    "    except:\n",
    "        try: \n",
    "            year = int(x.split(' ')[2])\n",
    "            if year > 2000:\n",
    "                return year\n",
    "            else:\n",
    "                try:\n",
    "                    year = int(x.split(' ')[1])\n",
    "                    if year > 2000:\n",
    "                        return year\n",
    "                except:\n",
    "                    return 0\n",
    "        except:\n",
    "            return 0\n",
    "def get_hour(x):\n",
    "    try:\n",
    "        hour = int(x.split(' ')[4][:2])\n",
    "        return hour\n",
    "    except:\n",
    "        return -1"
   ]
  },
  {
   "cell_type": "code",
   "execution_count": 15,
   "metadata": {},
   "outputs": [],
   "source": [
    "df['day'] = df['date'].apply(get_day)\n",
    "df['day_number'] = df['date'].apply(get_day_number)\n",
    "df['month'] = df['date'].apply(get_month)\n",
    "df['year'] = df['date'].apply(get_year)\n",
    "df['hour'] = df['date'].apply(get_hour)"
   ]
  },
  {
   "cell_type": "markdown",
   "metadata": {},
   "source": [
    "#### Cleaning ORG"
   ]
  },
  {
   "cell_type": "code",
   "execution_count": 17,
   "metadata": {},
   "outputs": [],
   "source": [
    "def get_top_org(min_count = 1000):\n",
    "    \"\"\"\n",
    "    Gets the mininum occurence number of an organization and \n",
    "    returns the organizations which occur more than the minimu\n",
    "\n",
    "    Args:\n",
    "        min_count (int): The minimum number of occurence for an organization \n",
    "\n",
    "    Returns:\n",
    "        list: All the organizatinos occuring more than the minimum\n",
    "    \"\"\"\n",
    "    (df.org.value_counts() > min_count).value_counts()\n",
    "    df_temp = df.groupby(['org']).count()\n",
    "    df_temp[df_temp['date'] > min_count].shape\n",
    "    df_temp[df_temp['date'] > min_count]['date'].sum()\n",
    "    list_org = list(df_temp[df_temp['date'] > min_count].index)\n",
    "    return list_org\n",
    "\n",
    "org_list = get_top_org()\n",
    "\n",
    "def new_org_column(x):\n",
    "    global org_list\n",
    "    if x in org_list:\n",
    "        return x\n",
    "    else:\n",
    "        return 'Others'\n"
   ]
  },
  {
   "cell_type": "markdown",
   "metadata": {},
   "source": [
    "We can see that 7 org accounts for more than half the count, this could be a parameter"
   ]
  },
  {
   "cell_type": "code",
   "execution_count": 18,
   "metadata": {},
   "outputs": [],
   "source": [
    "df['top_org'] = df['org'].apply(new_org_column)"
   ]
  },
  {
   "cell_type": "code",
   "execution_count": 19,
   "metadata": {},
   "outputs": [
    {
     "data": {
      "text/plain": [
       "0             Others\n",
       "1             Others\n",
       "2        usebackpack\n",
       "3             Others\n",
       "4             github\n",
       "            ...     \n",
       "80171         github\n",
       "80172         Others\n",
       "80173         google\n",
       "80174         Others\n",
       "80175         Others\n",
       "Name: top_org, Length: 80176, dtype: object"
      ]
     },
     "execution_count": 19,
     "metadata": {},
     "output_type": "execute_result"
    }
   ],
   "source": [
    "df['top_org']"
   ]
  },
  {
   "cell_type": "markdown",
   "metadata": {},
   "source": [
    "#### clean TLD"
   ]
  },
  {
   "cell_type": "code",
   "execution_count": 24,
   "metadata": {},
   "outputs": [],
   "source": [
    "def get_top_tld(min_count = 1000):\n",
    "    \"\"\"\n",
    "    Gets the mininum occurence number of an organization and \n",
    "    returns the organizations which occur more than the minimum\n",
    "\n",
    "    Args:\n",
    "        min_count (int) : The minimum number of occurence for an organization \n",
    "\n",
    "    Returns:\n",
    "        list: All the organizatinos occuring more than the minimum\n",
    "    \"\"\"\n",
    "    (df.tld.value_counts() > min_count).value_counts()\n",
    "    df_temp = df.groupby(['tld']).count()\n",
    "    df_temp[df_temp['date'] > min_count].shape\n",
    "    df_temp[df_temp['date'] > min_count]['date'].sum()\n",
    "    list_tld = list(df_temp[df_temp['date'] > min_count].index)\n",
    "    return list_tld\n",
    "\n",
    "org_list = get_top_tld(500)\n",
    "\n",
    "def new_tld_column(x):\n",
    "    global org_list\n",
    "    if x in org_list:\n",
    "        return x\n",
    "    else:\n",
    "        return 'Others'\n"
   ]
  },
  {
   "cell_type": "code",
   "execution_count": 25,
   "metadata": {},
   "outputs": [],
   "source": [
    "df['top_tld'] = df['tld'].apply(new_tld_column)"
   ]
  },
  {
   "cell_type": "code",
   "execution_count": 26,
   "metadata": {},
   "outputs": [
    {
     "data": {
      "text/plain": [
       "top_tld\n",
       "com            34619\n",
       "ac.in          20042\n",
       "Others         12576\n",
       "in              3783\n",
       "org             3428\n",
       "fr              1580\n",
       "gov.in          1540\n",
       "ai               720\n",
       "co.in            704\n",
       "netflix.com      629\n",
       "net              555\n",
       "Name: count, dtype: int64"
      ]
     },
     "execution_count": 26,
     "metadata": {},
     "output_type": "execute_result"
    }
   ],
   "source": [
    "df['top_tld'].value_counts()"
   ]
  },
  {
   "cell_type": "markdown",
   "metadata": {},
   "source": [
    "#### Clean Mail"
   ]
  },
  {
   "cell_type": "code",
   "execution_count": 27,
   "metadata": {},
   "outputs": [
    {
     "data": {
      "text/plain": [
       "array(['multipart/alternative', 'text/html', 'multipart/mixed',\n",
       "       'multipart/related', 'text/plain', nan, 'text/html ',\n",
       "       'multipart/signed', 'Multipart/Mixed', 'Text/Html',\n",
       "       'multipart/report', 'Multipart/Alternative', 'text/calendar',\n",
       "       'multipart/IDM'], dtype=object)"
      ]
     },
     "execution_count": 27,
     "metadata": {},
     "output_type": "execute_result"
    }
   ],
   "source": [
    "df.mail_type.unique()"
   ]
  },
  {
   "cell_type": "code",
   "execution_count": 28,
   "metadata": {},
   "outputs": [],
   "source": [
    "def get_mail_type1(x):\n",
    "    try:\n",
    "        mails = x.split('/')\n",
    "        mail = mails[0].lower()\n",
    "        return mail\n",
    "    except:\n",
    "        return 'other'\n",
    "\n",
    "def get_mail_type2(x):\n",
    "    try:\n",
    "        mails = x.split('/')\n",
    "        mail = mails[1].lower()\n",
    "        return mail\n",
    "    except:\n",
    "        return 'other'"
   ]
  },
  {
   "cell_type": "code",
   "execution_count": 29,
   "metadata": {},
   "outputs": [],
   "source": [
    "df['mail1'] = df.mail_type.apply(get_mail_type1)\n",
    "df['mail2'] = df.mail_type.apply(get_mail_type2)"
   ]
  },
  {
   "cell_type": "code",
   "execution_count": 30,
   "metadata": {},
   "outputs": [
    {
     "data": {
      "text/plain": [
       "mail2\n",
       "alternative    58452\n",
       "html           10234\n",
       "mixed           6500\n",
       "plain           2720\n",
       "related         1996\n",
       "other            172\n",
       "html              58\n",
       "signed            26\n",
       "report            13\n",
       "calendar           4\n",
       "idm                1\n",
       "Name: count, dtype: int64"
      ]
     },
     "execution_count": 30,
     "metadata": {},
     "output_type": "execute_result"
    }
   ],
   "source": [
    "df['mail1'].value_counts()\n",
    "df['mail2'].value_counts()"
   ]
  },
  {
   "cell_type": "markdown",
   "metadata": {},
   "source": [
    "#### Cleaning Missing values"
   ]
  },
  {
   "cell_type": "code",
   "execution_count": 31,
   "metadata": {},
   "outputs": [
    {
     "data": {
      "text/html": [
       "<div>\n",
       "<style scoped>\n",
       "    .dataframe tbody tr th:only-of-type {\n",
       "        vertical-align: middle;\n",
       "    }\n",
       "\n",
       "    .dataframe tbody tr th {\n",
       "        vertical-align: top;\n",
       "    }\n",
       "\n",
       "    .dataframe thead th {\n",
       "        text-align: right;\n",
       "    }\n",
       "</style>\n",
       "<table border=\"1\" class=\"dataframe\">\n",
       "  <thead>\n",
       "    <tr style=\"text-align: right;\">\n",
       "      <th></th>\n",
       "      <th>ccs</th>\n",
       "      <th>bcced</th>\n",
       "      <th>images</th>\n",
       "      <th>urls</th>\n",
       "      <th>salutations</th>\n",
       "      <th>designation</th>\n",
       "      <th>chars_in_subject</th>\n",
       "      <th>chars_in_body</th>\n",
       "      <th>label</th>\n",
       "      <th>day_number</th>\n",
       "      <th>year</th>\n",
       "      <th>hour</th>\n",
       "    </tr>\n",
       "  </thead>\n",
       "  <tbody>\n",
       "    <tr>\n",
       "      <th>count</th>\n",
       "      <td>80176.000000</td>\n",
       "      <td>80176.000000</td>\n",
       "      <td>80176.000000</td>\n",
       "      <td>80176.000000</td>\n",
       "      <td>80176.000000</td>\n",
       "      <td>80176.000000</td>\n",
       "      <td>80160.000000</td>\n",
       "      <td>8.017600e+04</td>\n",
       "      <td>80176.000000</td>\n",
       "      <td>80176.000000</td>\n",
       "      <td>80176.000000</td>\n",
       "      <td>80176.000000</td>\n",
       "    </tr>\n",
       "    <tr>\n",
       "      <th>mean</th>\n",
       "      <td>0.473259</td>\n",
       "      <td>0.002869</td>\n",
       "      <td>7.875998</td>\n",
       "      <td>34.433172</td>\n",
       "      <td>0.406381</td>\n",
       "      <td>0.104246</td>\n",
       "      <td>51.535254</td>\n",
       "      <td>1.971784e+05</td>\n",
       "      <td>1.557187</td>\n",
       "      <td>14.891676</td>\n",
       "      <td>2002.465451</td>\n",
       "      <td>11.328951</td>\n",
       "    </tr>\n",
       "    <tr>\n",
       "      <th>std</th>\n",
       "      <td>3.178805</td>\n",
       "      <td>0.053484</td>\n",
       "      <td>305.444093</td>\n",
       "      <td>97.904682</td>\n",
       "      <td>0.491160</td>\n",
       "      <td>0.305581</td>\n",
       "      <td>33.718283</td>\n",
       "      <td>1.890130e+06</td>\n",
       "      <td>1.713352</td>\n",
       "      <td>9.080254</td>\n",
       "      <td>169.903425</td>\n",
       "      <td>6.238051</td>\n",
       "    </tr>\n",
       "    <tr>\n",
       "      <th>min</th>\n",
       "      <td>0.000000</td>\n",
       "      <td>0.000000</td>\n",
       "      <td>0.000000</td>\n",
       "      <td>0.000000</td>\n",
       "      <td>0.000000</td>\n",
       "      <td>0.000000</td>\n",
       "      <td>0.000000</td>\n",
       "      <td>4.000000e+00</td>\n",
       "      <td>0.000000</td>\n",
       "      <td>-1.000000</td>\n",
       "      <td>0.000000</td>\n",
       "      <td>-1.000000</td>\n",
       "    </tr>\n",
       "    <tr>\n",
       "      <th>25%</th>\n",
       "      <td>0.000000</td>\n",
       "      <td>0.000000</td>\n",
       "      <td>0.000000</td>\n",
       "      <td>4.000000</td>\n",
       "      <td>0.000000</td>\n",
       "      <td>0.000000</td>\n",
       "      <td>32.000000</td>\n",
       "      <td>4.651000e+03</td>\n",
       "      <td>1.000000</td>\n",
       "      <td>7.000000</td>\n",
       "      <td>2016.000000</td>\n",
       "      <td>7.000000</td>\n",
       "    </tr>\n",
       "    <tr>\n",
       "      <th>50%</th>\n",
       "      <td>0.000000</td>\n",
       "      <td>0.000000</td>\n",
       "      <td>2.000000</td>\n",
       "      <td>17.000000</td>\n",
       "      <td>0.000000</td>\n",
       "      <td>0.000000</td>\n",
       "      <td>42.000000</td>\n",
       "      <td>1.999950e+04</td>\n",
       "      <td>1.000000</td>\n",
       "      <td>14.000000</td>\n",
       "      <td>2017.000000</td>\n",
       "      <td>12.000000</td>\n",
       "    </tr>\n",
       "    <tr>\n",
       "      <th>75%</th>\n",
       "      <td>0.000000</td>\n",
       "      <td>0.000000</td>\n",
       "      <td>8.000000</td>\n",
       "      <td>44.000000</td>\n",
       "      <td>1.000000</td>\n",
       "      <td>0.000000</td>\n",
       "      <td>62.000000</td>\n",
       "      <td>4.519300e+04</td>\n",
       "      <td>2.000000</td>\n",
       "      <td>23.000000</td>\n",
       "      <td>2018.000000</td>\n",
       "      <td>16.000000</td>\n",
       "    </tr>\n",
       "    <tr>\n",
       "      <th>max</th>\n",
       "      <td>179.000000</td>\n",
       "      <td>1.000000</td>\n",
       "      <td>83481.000000</td>\n",
       "      <td>21540.000000</td>\n",
       "      <td>1.000000</td>\n",
       "      <td>1.000000</td>\n",
       "      <td>606.000000</td>\n",
       "      <td>7.438108e+07</td>\n",
       "      <td>7.000000</td>\n",
       "      <td>31.000000</td>\n",
       "      <td>2020.000000</td>\n",
       "      <td>23.000000</td>\n",
       "    </tr>\n",
       "  </tbody>\n",
       "</table>\n",
       "</div>"
      ],
      "text/plain": [
       "                ccs         bcced        images          urls   salutations  \\\n",
       "count  80176.000000  80176.000000  80176.000000  80176.000000  80176.000000   \n",
       "mean       0.473259      0.002869      7.875998     34.433172      0.406381   \n",
       "std        3.178805      0.053484    305.444093     97.904682      0.491160   \n",
       "min        0.000000      0.000000      0.000000      0.000000      0.000000   \n",
       "25%        0.000000      0.000000      0.000000      4.000000      0.000000   \n",
       "50%        0.000000      0.000000      2.000000     17.000000      0.000000   \n",
       "75%        0.000000      0.000000      8.000000     44.000000      1.000000   \n",
       "max      179.000000      1.000000  83481.000000  21540.000000      1.000000   \n",
       "\n",
       "        designation  chars_in_subject  chars_in_body         label  \\\n",
       "count  80176.000000      80160.000000   8.017600e+04  80176.000000   \n",
       "mean       0.104246         51.535254   1.971784e+05      1.557187   \n",
       "std        0.305581         33.718283   1.890130e+06      1.713352   \n",
       "min        0.000000          0.000000   4.000000e+00      0.000000   \n",
       "25%        0.000000         32.000000   4.651000e+03      1.000000   \n",
       "50%        0.000000         42.000000   1.999950e+04      1.000000   \n",
       "75%        0.000000         62.000000   4.519300e+04      2.000000   \n",
       "max        1.000000        606.000000   7.438108e+07      7.000000   \n",
       "\n",
       "         day_number          year          hour  \n",
       "count  80176.000000  80176.000000  80176.000000  \n",
       "mean      14.891676   2002.465451     11.328951  \n",
       "std        9.080254    169.903425      6.238051  \n",
       "min       -1.000000      0.000000     -1.000000  \n",
       "25%        7.000000   2016.000000      7.000000  \n",
       "50%       14.000000   2017.000000     12.000000  \n",
       "75%       23.000000   2018.000000     16.000000  \n",
       "max       31.000000   2020.000000     23.000000  "
      ]
     },
     "execution_count": 31,
     "metadata": {},
     "output_type": "execute_result"
    }
   ],
   "source": [
    "df.describe()"
   ]
  },
  {
   "cell_type": "code",
   "execution_count": 32,
   "metadata": {},
   "outputs": [
    {
     "name": "stdout",
     "output_type": "stream",
     "text": [
      "<class 'pandas.core.frame.DataFrame'>\n",
      "Index: 80176 entries, 0 to 80175\n",
      "Data columns (total 22 columns):\n",
      " #   Column            Non-Null Count  Dtype  \n",
      "---  ------            --------------  -----  \n",
      " 0   date              80176 non-null  object \n",
      " 1   org               76725 non-null  object \n",
      " 2   tld               76723 non-null  object \n",
      " 3   ccs               80176 non-null  int64  \n",
      " 4   bcced             80176 non-null  int64  \n",
      " 5   mail_type         80004 non-null  object \n",
      " 6   images            80176 non-null  int64  \n",
      " 7   urls              80176 non-null  int64  \n",
      " 8   salutations       80176 non-null  int64  \n",
      " 9   designation       80176 non-null  int64  \n",
      " 10  chars_in_subject  80160 non-null  float64\n",
      " 11  chars_in_body     80176 non-null  int64  \n",
      " 12  label             80176 non-null  int64  \n",
      " 13  day               80176 non-null  object \n",
      " 14  day_number        80176 non-null  int64  \n",
      " 15  month             79606 non-null  object \n",
      " 16  year              80176 non-null  int64  \n",
      " 17  hour              80176 non-null  int64  \n",
      " 18  top_org           80176 non-null  object \n",
      " 19  top_tld           80176 non-null  object \n",
      " 20  mail1             80176 non-null  object \n",
      " 21  mail2             80176 non-null  object \n",
      "dtypes: float64(1), int64(11), object(10)\n",
      "memory usage: 14.1+ MB\n"
     ]
    }
   ],
   "source": [
    "df.info()"
   ]
  },
  {
   "cell_type": "markdown",
   "metadata": {},
   "source": [
    "#### Cleaning MONTH"
   ]
  },
  {
   "cell_type": "code",
   "execution_count": 33,
   "metadata": {},
   "outputs": [],
   "source": [
    "df.loc[df.month.isna(), 'month'] = 'Missing'"
   ]
  },
  {
   "cell_type": "code",
   "execution_count": 34,
   "metadata": {},
   "outputs": [
    {
     "name": "stdout",
     "output_type": "stream",
     "text": [
      "<class 'pandas.core.frame.DataFrame'>\n",
      "Index: 80176 entries, 0 to 80175\n",
      "Data columns (total 22 columns):\n",
      " #   Column            Non-Null Count  Dtype  \n",
      "---  ------            --------------  -----  \n",
      " 0   date              80176 non-null  object \n",
      " 1   org               76725 non-null  object \n",
      " 2   tld               76723 non-null  object \n",
      " 3   ccs               80176 non-null  int64  \n",
      " 4   bcced             80176 non-null  int64  \n",
      " 5   mail_type         80004 non-null  object \n",
      " 6   images            80176 non-null  int64  \n",
      " 7   urls              80176 non-null  int64  \n",
      " 8   salutations       80176 non-null  int64  \n",
      " 9   designation       80176 non-null  int64  \n",
      " 10  chars_in_subject  80160 non-null  float64\n",
      " 11  chars_in_body     80176 non-null  int64  \n",
      " 12  label             80176 non-null  int64  \n",
      " 13  day               80176 non-null  object \n",
      " 14  day_number        80176 non-null  int64  \n",
      " 15  month             80176 non-null  object \n",
      " 16  year              80176 non-null  int64  \n",
      " 17  hour              80176 non-null  int64  \n",
      " 18  top_org           80176 non-null  object \n",
      " 19  top_tld           80176 non-null  object \n",
      " 20  mail1             80176 non-null  object \n",
      " 21  mail2             80176 non-null  object \n",
      "dtypes: float64(1), int64(11), object(10)\n",
      "memory usage: 14.1+ MB\n"
     ]
    }
   ],
   "source": [
    "df.info()"
   ]
  },
  {
   "cell_type": "markdown",
   "metadata": {},
   "source": [
    "#### CHARS in subject"
   ]
  },
  {
   "cell_type": "code",
   "execution_count": 35,
   "metadata": {},
   "outputs": [],
   "source": [
    "df.loc[df.chars_in_subject.isna(), 'chars_in_subject'] = -1"
   ]
  },
  {
   "cell_type": "code",
   "execution_count": 36,
   "metadata": {},
   "outputs": [],
   "source": [
    "df['has_subject'] = (df['chars_in_subject'] > 0).astype(int)"
   ]
  },
  {
   "cell_type": "markdown",
   "metadata": {},
   "source": [
    "#### Remove the unnecessary columns"
   ]
  },
  {
   "cell_type": "code",
   "execution_count": 37,
   "metadata": {},
   "outputs": [],
   "source": [
    "df = df.drop(['date','org','tld','mail_type'], axis = 1)"
   ]
  },
  {
   "cell_type": "code",
   "execution_count": 38,
   "metadata": {},
   "outputs": [
    {
     "name": "stdout",
     "output_type": "stream",
     "text": [
      "<class 'pandas.core.frame.DataFrame'>\n",
      "Index: 80176 entries, 0 to 80175\n",
      "Data columns (total 19 columns):\n",
      " #   Column            Non-Null Count  Dtype  \n",
      "---  ------            --------------  -----  \n",
      " 0   ccs               80176 non-null  int64  \n",
      " 1   bcced             80176 non-null  int64  \n",
      " 2   images            80176 non-null  int64  \n",
      " 3   urls              80176 non-null  int64  \n",
      " 4   salutations       80176 non-null  int64  \n",
      " 5   designation       80176 non-null  int64  \n",
      " 6   chars_in_subject  80176 non-null  float64\n",
      " 7   chars_in_body     80176 non-null  int64  \n",
      " 8   label             80176 non-null  int64  \n",
      " 9   day               80176 non-null  object \n",
      " 10  day_number        80176 non-null  int64  \n",
      " 11  month             80176 non-null  object \n",
      " 12  year              80176 non-null  int64  \n",
      " 13  hour              80176 non-null  int64  \n",
      " 14  top_org           80176 non-null  object \n",
      " 15  top_tld           80176 non-null  object \n",
      " 16  mail1             80176 non-null  object \n",
      " 17  mail2             80176 non-null  object \n",
      " 18  has_subject       80176 non-null  int64  \n",
      "dtypes: float64(1), int64(12), object(6)\n",
      "memory usage: 12.2+ MB\n"
     ]
    }
   ],
   "source": [
    "df.info()"
   ]
  },
  {
   "cell_type": "code",
   "execution_count": 39,
   "metadata": {},
   "outputs": [
    {
     "name": "stdout",
     "output_type": "stream",
     "text": [
      "<class 'pandas.core.frame.DataFrame'>\n",
      "Index: 80176 entries, 0 to 80175\n",
      "Data columns (total 19 columns):\n",
      " #   Column            Non-Null Count  Dtype  \n",
      "---  ------            --------------  -----  \n",
      " 0   ccs               80176 non-null  int64  \n",
      " 1   bcced             80176 non-null  int64  \n",
      " 2   images            80176 non-null  int64  \n",
      " 3   urls              80176 non-null  int64  \n",
      " 4   salutations       80176 non-null  int64  \n",
      " 5   designation       80176 non-null  int64  \n",
      " 6   chars_in_subject  80176 non-null  float64\n",
      " 7   chars_in_body     80176 non-null  int64  \n",
      " 8   label             80176 non-null  int64  \n",
      " 9   day               80176 non-null  object \n",
      " 10  day_number        80176 non-null  int64  \n",
      " 11  month             80176 non-null  object \n",
      " 12  year              80176 non-null  int64  \n",
      " 13  hour              80176 non-null  int64  \n",
      " 14  top_org           80176 non-null  object \n",
      " 15  top_tld           80176 non-null  object \n",
      " 16  mail1             80176 non-null  object \n",
      " 17  mail2             80176 non-null  object \n",
      " 18  has_subject       80176 non-null  int64  \n",
      "dtypes: float64(1), int64(12), object(6)\n",
      "memory usage: 12.2+ MB\n"
     ]
    }
   ],
   "source": [
    "df.info()"
   ]
  },
  {
   "cell_type": "code",
   "execution_count": 40,
   "metadata": {},
   "outputs": [
    {
     "name": "stdout",
     "output_type": "stream",
     "text": [
      "   ccs  bcced  images  urls  salutations  designation  chars_in_subject  \\\n",
      "0    0      0      35   120            0            0              49.0   \n",
      "1    0      0       1     7            0            0             107.0   \n",
      "2    0      0       4    17            0            0              35.0   \n",
      "3    0      0       0     0            0            0              15.0   \n",
      "4    1      0       2    11            0            0              49.0   \n",
      "\n",
      "   chars_in_body  label  day_number  ...  mail2_calendar  mail2_html  \\\n",
      "0          80027      2           6  ...           False       False   \n",
      "1           2961      1          14  ...           False       False   \n",
      "2          25149      1           6  ...           False        True   \n",
      "3         635296      1          11  ...           False       False   \n",
      "4           2355      1           7  ...           False       False   \n",
      "\n",
      "   mail2_html   mail2_idm  mail2_mixed  mail2_other  mail2_plain  \\\n",
      "0        False      False        False        False        False   \n",
      "1        False      False        False        False        False   \n",
      "2        False      False        False        False        False   \n",
      "3        False      False         True        False        False   \n",
      "4        False      False        False        False        False   \n",
      "\n",
      "   mail2_related  mail2_report  mail2_signed  \n",
      "0          False         False         False  \n",
      "1          False         False         False  \n",
      "2          False         False         False  \n",
      "3          False         False         False  \n",
      "4          False         False         False  \n",
      "\n",
      "[5 rows x 72 columns]\n"
     ]
    }
   ],
   "source": [
    "object_columns = df.select_dtypes(include=['object']).columns\n",
    "\n",
    "# One-hot encode object columns\n",
    "df_encoded = pd.get_dummies(df, columns=object_columns)\n",
    "\n",
    "# Display the encoded DataFrame\n",
    "print(df_encoded.head())"
   ]
  },
  {
   "cell_type": "code",
   "execution_count": 41,
   "metadata": {},
   "outputs": [
    {
     "name": "stdout",
     "output_type": "stream",
     "text": [
      "<class 'pandas.core.frame.DataFrame'>\n",
      "Index: 80176 entries, 0 to 80175\n",
      "Data columns (total 72 columns):\n",
      " #   Column               Non-Null Count  Dtype  \n",
      "---  ------               --------------  -----  \n",
      " 0   ccs                  80176 non-null  int64  \n",
      " 1   bcced                80176 non-null  int64  \n",
      " 2   images               80176 non-null  int64  \n",
      " 3   urls                 80176 non-null  int64  \n",
      " 4   salutations          80176 non-null  int64  \n",
      " 5   designation          80176 non-null  int64  \n",
      " 6   chars_in_subject     80176 non-null  float64\n",
      " 7   chars_in_body        80176 non-null  int64  \n",
      " 8   label                80176 non-null  int64  \n",
      " 9   day_number           80176 non-null  int64  \n",
      " 10  year                 80176 non-null  int64  \n",
      " 11  hour                 80176 non-null  int64  \n",
      " 12  has_subject          80176 non-null  int64  \n",
      " 13  day_Fri              80176 non-null  bool   \n",
      " 14  day_Mon              80176 non-null  bool   \n",
      " 15  day_No day           80176 non-null  bool   \n",
      " 16  day_Sat              80176 non-null  bool   \n",
      " 17  day_Sun              80176 non-null  bool   \n",
      " 18  day_Thu              80176 non-null  bool   \n",
      " 19  day_Tue              80176 non-null  bool   \n",
      " 20  day_Wed              80176 non-null  bool   \n",
      " 21  month_Apr            80176 non-null  bool   \n",
      " 22  month_Aug            80176 non-null  bool   \n",
      " 23  month_Dec            80176 non-null  bool   \n",
      " 24  month_Feb            80176 non-null  bool   \n",
      " 25  month_Jan            80176 non-null  bool   \n",
      " 26  month_Jul            80176 non-null  bool   \n",
      " 27  month_Jun            80176 non-null  bool   \n",
      " 28  month_Mar            80176 non-null  bool   \n",
      " 29  month_May            80176 non-null  bool   \n",
      " 30  month_Missing        80176 non-null  bool   \n",
      " 31  month_No Month       80176 non-null  bool   \n",
      " 32  month_Nov            80176 non-null  bool   \n",
      " 33  month_Oct            80176 non-null  bool   \n",
      " 34  month_Sep            80176 non-null  bool   \n",
      " 35  top_org_Others       80176 non-null  bool   \n",
      " 36  top_org_amazon       80176 non-null  bool   \n",
      " 37  top_org_github       80176 non-null  bool   \n",
      " 38  top_org_gmail        80176 non-null  bool   \n",
      " 39  top_org_google       80176 non-null  bool   \n",
      " 40  top_org_iiitd        80176 non-null  bool   \n",
      " 41  top_org_linkedin     80176 non-null  bool   \n",
      " 42  top_org_nrsc         80176 non-null  bool   \n",
      " 43  top_org_quora        80176 non-null  bool   \n",
      " 44  top_org_twitter      80176 non-null  bool   \n",
      " 45  top_org_usebackpack  80176 non-null  bool   \n",
      " 46  top_org_youtube      80176 non-null  bool   \n",
      " 47  top_tld_Others       80176 non-null  bool   \n",
      " 48  top_tld_ac.in        80176 non-null  bool   \n",
      " 49  top_tld_ai           80176 non-null  bool   \n",
      " 50  top_tld_co.in        80176 non-null  bool   \n",
      " 51  top_tld_com          80176 non-null  bool   \n",
      " 52  top_tld_fr           80176 non-null  bool   \n",
      " 53  top_tld_gov.in       80176 non-null  bool   \n",
      " 54  top_tld_in           80176 non-null  bool   \n",
      " 55  top_tld_net          80176 non-null  bool   \n",
      " 56  top_tld_netflix.com  80176 non-null  bool   \n",
      " 57  top_tld_org          80176 non-null  bool   \n",
      " 58  mail1_multipart      80176 non-null  bool   \n",
      " 59  mail1_other          80176 non-null  bool   \n",
      " 60  mail1_text           80176 non-null  bool   \n",
      " 61  mail2_alternative    80176 non-null  bool   \n",
      " 62  mail2_calendar       80176 non-null  bool   \n",
      " 63  mail2_html           80176 non-null  bool   \n",
      " 64  mail2_html           80176 non-null  bool   \n",
      " 65  mail2_idm            80176 non-null  bool   \n",
      " 66  mail2_mixed          80176 non-null  bool   \n",
      " 67  mail2_other          80176 non-null  bool   \n",
      " 68  mail2_plain          80176 non-null  bool   \n",
      " 69  mail2_related        80176 non-null  bool   \n",
      " 70  mail2_report         80176 non-null  bool   \n",
      " 71  mail2_signed         80176 non-null  bool   \n",
      "dtypes: bool(59), float64(1), int64(12)\n",
      "memory usage: 13.1 MB\n"
     ]
    }
   ],
   "source": [
    "df_encoded.info()"
   ]
  },
  {
   "cell_type": "markdown",
   "metadata": {},
   "source": [
    "## Modeling"
   ]
  },
  {
   "cell_type": "markdown",
   "metadata": {},
   "source": [
    "#### Apply logistic regression"
   ]
  },
  {
   "cell_type": "code",
   "execution_count": 42,
   "metadata": {},
   "outputs": [],
   "source": [
    "columns_to_apply = ['ccs','images','salutations','chars_in_subject', 'urls', 'chars_in_body','day_number','year','hour']"
   ]
  },
  {
   "cell_type": "markdown",
   "metadata": {},
   "source": [
    "Explanation"
   ]
  },
  {
   "cell_type": "code",
   "execution_count": 43,
   "metadata": {},
   "outputs": [
    {
     "data": {
      "text/plain": [
       "(array([8.0111e+04, 2.0000e+01, 9.0000e+00, 2.0000e+00, 9.0000e+00,\n",
       "        1.0000e+00, 0.0000e+00, 0.0000e+00, 2.3000e+01, 1.0000e+00]),\n",
       " array([  0. ,  17.9,  35.8,  53.7,  71.6,  89.5, 107.4, 125.3, 143.2,\n",
       "        161.1, 179. ]),\n",
       " <BarContainer object of 10 artists>)"
      ]
     },
     "execution_count": 43,
     "metadata": {},
     "output_type": "execute_result"
    },
    {
     "data": {
      "image/png": "[encoded data removed]",
      "text/plain": [
       "<Figure size 640x480 with 1 Axes>"
      ]
     },
     "metadata": {},
     "output_type": "display_data"
    }
   ],
   "source": [
    "plt.hist(df['ccs'])"
   ]
  },
  {
   "cell_type": "code",
   "execution_count": 44,
   "metadata": {},
   "outputs": [
    {
     "data": {
      "text/plain": [
       "(array([6.7283e+04, 5.3640e+03, 5.0090e+03, 1.7610e+03, 5.5800e+02,\n",
       "        1.5100e+02, 5.0000e+00, 9.0000e+00, 1.2000e+01, 2.4000e+01]),\n",
       " array([0.        , 0.51929569, 1.03859137, 1.55788706, 2.07718274,\n",
       "        2.59647843, 3.11577411, 3.6350698 , 4.15436548, 4.67366117,\n",
       "        5.19295685]),\n",
       " <BarContainer object of 10 artists>)"
      ]
     },
     "execution_count": 44,
     "metadata": {},
     "output_type": "execute_result"
    },
    {
     "data": {
      "image/png": "[encoded data removed]",
      "text/plain": [
       "<Figure size 640x480 with 1 Axes>"
      ]
     },
     "metadata": {},
     "output_type": "display_data"
    }
   ],
   "source": [
    "plt.hist(np.log(df['ccs'] + 1))"
   ]
  },
  {
   "cell_type": "code",
   "execution_count": 45,
   "metadata": {},
   "outputs": [],
   "source": [
    "for column in columns_to_apply:\n",
    "    df_encoded[column] = np.log(df_encoded[column] + 3)"
   ]
  },
  {
   "cell_type": "code",
   "execution_count": 46,
   "metadata": {},
   "outputs": [
    {
     "data": {
      "text/html": [
       "<div>\n",
       "<style scoped>\n",
       "    .dataframe tbody tr th:only-of-type {\n",
       "        vertical-align: middle;\n",
       "    }\n",
       "\n",
       "    .dataframe tbody tr th {\n",
       "        vertical-align: top;\n",
       "    }\n",
       "\n",
       "    .dataframe thead th {\n",
       "        text-align: right;\n",
       "    }\n",
       "</style>\n",
       "<table border=\"1\" class=\"dataframe\">\n",
       "  <thead>\n",
       "    <tr style=\"text-align: right;\">\n",
       "      <th></th>\n",
       "      <th>ccs</th>\n",
       "      <th>bcced</th>\n",
       "      <th>images</th>\n",
       "      <th>urls</th>\n",
       "      <th>salutations</th>\n",
       "      <th>designation</th>\n",
       "      <th>chars_in_subject</th>\n",
       "      <th>chars_in_body</th>\n",
       "      <th>label</th>\n",
       "      <th>day_number</th>\n",
       "      <th>year</th>\n",
       "      <th>hour</th>\n",
       "      <th>has_subject</th>\n",
       "    </tr>\n",
       "  </thead>\n",
       "  <tbody>\n",
       "    <tr>\n",
       "      <th>count</th>\n",
       "      <td>80176.000000</td>\n",
       "      <td>80176.000000</td>\n",
       "      <td>80176.000000</td>\n",
       "      <td>80176.000000</td>\n",
       "      <td>80176.000000</td>\n",
       "      <td>80176.000000</td>\n",
       "      <td>80176.000000</td>\n",
       "      <td>80176.000000</td>\n",
       "      <td>80176.000000</td>\n",
       "      <td>80176.000000</td>\n",
       "      <td>80176.000000</td>\n",
       "      <td>80176.000000</td>\n",
       "      <td>80176.000000</td>\n",
       "    </tr>\n",
       "    <tr>\n",
       "      <th>mean</th>\n",
       "      <td>1.189882</td>\n",
       "      <td>0.002869</td>\n",
       "      <td>1.851521</td>\n",
       "      <td>2.915175</td>\n",
       "      <td>1.215521</td>\n",
       "      <td>0.104246</td>\n",
       "      <td>3.833130</td>\n",
       "      <td>9.524993</td>\n",
       "      <td>1.557187</td>\n",
       "      <td>2.713350</td>\n",
       "      <td>7.564252</td>\n",
       "      <td>2.531137</td>\n",
       "      <td>0.993564</td>\n",
       "    </tr>\n",
       "    <tr>\n",
       "      <th>std</th>\n",
       "      <td>0.254638</td>\n",
       "      <td>0.053484</td>\n",
       "      <td>0.818691</td>\n",
       "      <td>1.220684</td>\n",
       "      <td>0.141298</td>\n",
       "      <td>0.305581</td>\n",
       "      <td>0.598760</td>\n",
       "      <td>2.108542</td>\n",
       "      <td>1.713352</td>\n",
       "      <td>0.641947</td>\n",
       "      <td>0.548564</td>\n",
       "      <td>0.567579</td>\n",
       "      <td>0.079966</td>\n",
       "    </tr>\n",
       "    <tr>\n",
       "      <th>min</th>\n",
       "      <td>1.098612</td>\n",
       "      <td>0.000000</td>\n",
       "      <td>1.098612</td>\n",
       "      <td>1.098612</td>\n",
       "      <td>1.098612</td>\n",
       "      <td>0.000000</td>\n",
       "      <td>0.693147</td>\n",
       "      <td>1.945910</td>\n",
       "      <td>0.000000</td>\n",
       "      <td>0.693147</td>\n",
       "      <td>1.098612</td>\n",
       "      <td>0.693147</td>\n",
       "      <td>0.000000</td>\n",
       "    </tr>\n",
       "    <tr>\n",
       "      <th>25%</th>\n",
       "      <td>1.098612</td>\n",
       "      <td>0.000000</td>\n",
       "      <td>1.098612</td>\n",
       "      <td>1.945910</td>\n",
       "      <td>1.098612</td>\n",
       "      <td>0.000000</td>\n",
       "      <td>3.555348</td>\n",
       "      <td>8.445482</td>\n",
       "      <td>1.000000</td>\n",
       "      <td>2.302585</td>\n",
       "      <td>7.610358</td>\n",
       "      <td>2.302585</td>\n",
       "      <td>1.000000</td>\n",
       "    </tr>\n",
       "    <tr>\n",
       "      <th>50%</th>\n",
       "      <td>1.098612</td>\n",
       "      <td>0.000000</td>\n",
       "      <td>1.609438</td>\n",
       "      <td>2.995732</td>\n",
       "      <td>1.098612</td>\n",
       "      <td>0.000000</td>\n",
       "      <td>3.806662</td>\n",
       "      <td>9.903613</td>\n",
       "      <td>1.000000</td>\n",
       "      <td>2.833213</td>\n",
       "      <td>7.610853</td>\n",
       "      <td>2.708050</td>\n",
       "      <td>1.000000</td>\n",
       "    </tr>\n",
       "    <tr>\n",
       "      <th>75%</th>\n",
       "      <td>1.098612</td>\n",
       "      <td>0.000000</td>\n",
       "      <td>2.397895</td>\n",
       "      <td>3.850148</td>\n",
       "      <td>1.386294</td>\n",
       "      <td>0.000000</td>\n",
       "      <td>4.174387</td>\n",
       "      <td>10.718764</td>\n",
       "      <td>2.000000</td>\n",
       "      <td>3.258097</td>\n",
       "      <td>7.611348</td>\n",
       "      <td>2.944439</td>\n",
       "      <td>1.000000</td>\n",
       "    </tr>\n",
       "    <tr>\n",
       "      <th>max</th>\n",
       "      <td>5.204007</td>\n",
       "      <td>1.000000</td>\n",
       "      <td>11.332410</td>\n",
       "      <td>9.977806</td>\n",
       "      <td>1.386294</td>\n",
       "      <td>1.000000</td>\n",
       "      <td>6.411818</td>\n",
       "      <td>18.124712</td>\n",
       "      <td>7.000000</td>\n",
       "      <td>3.526361</td>\n",
       "      <td>7.612337</td>\n",
       "      <td>3.258097</td>\n",
       "      <td>1.000000</td>\n",
       "    </tr>\n",
       "  </tbody>\n",
       "</table>\n",
       "</div>"
      ],
      "text/plain": [
       "                ccs         bcced        images          urls   salutations  \\\n",
       "count  80176.000000  80176.000000  80176.000000  80176.000000  80176.000000   \n",
       "mean       1.189882      0.002869      1.851521      2.915175      1.215521   \n",
       "std        0.254638      0.053484      0.818691      1.220684      0.141298   \n",
       "min        1.098612      0.000000      1.098612      1.098612      1.098612   \n",
       "25%        1.098612      0.000000      1.098612      1.945910      1.098612   \n",
       "50%        1.098612      0.000000      1.609438      2.995732      1.098612   \n",
       "75%        1.098612      0.000000      2.397895      3.850148      1.386294   \n",
       "max        5.204007      1.000000     11.332410      9.977806      1.386294   \n",
       "\n",
       "        designation  chars_in_subject  chars_in_body         label  \\\n",
       "count  80176.000000      80176.000000   80176.000000  80176.000000   \n",
       "mean       0.104246          3.833130       9.524993      1.557187   \n",
       "std        0.305581          0.598760       2.108542      1.713352   \n",
       "min        0.000000          0.693147       1.945910      0.000000   \n",
       "25%        0.000000          3.555348       8.445482      1.000000   \n",
       "50%        0.000000          3.806662       9.903613      1.000000   \n",
       "75%        0.000000          4.174387      10.718764      2.000000   \n",
       "max        1.000000          6.411818      18.124712      7.000000   \n",
       "\n",
       "         day_number          year          hour   has_subject  \n",
       "count  80176.000000  80176.000000  80176.000000  80176.000000  \n",
       "mean       2.713350      7.564252      2.531137      0.993564  \n",
       "std        0.641947      0.548564      0.567579      0.079966  \n",
       "min        0.693147      1.098612      0.693147      0.000000  \n",
       "25%        2.302585      7.610358      2.302585      1.000000  \n",
       "50%        2.833213      7.610853      2.708050      1.000000  \n",
       "75%        3.258097      7.611348      2.944439      1.000000  \n",
       "max        3.526361      7.612337      3.258097      1.000000  "
      ]
     },
     "execution_count": 46,
     "metadata": {},
     "output_type": "execute_result"
    }
   ],
   "source": [
    "df_encoded.describe()"
   ]
  },
  {
   "cell_type": "markdown",
   "metadata": {},
   "source": [
    "#### Standardize"
   ]
  },
  {
   "cell_type": "code",
   "execution_count": 47,
   "metadata": {},
   "outputs": [
    {
     "data": {
      "text/plain": [
       "\" df_standardize = df_encoded.copy()\\ndf_standardize.drop['']\\ndf_standardize.info()\\ncolumns_to_standardize = list(df_standardize.columns)\\nfrom sklearn.preprocessing import StandardScaler\\n\\n# Initialize StandardScaler\\nscaler = StandardScaler()\\n\\n# Fit and transform the selected columns\\ndf_standardize[columns_to_standardize] = scaler.fit_transform(df_standardize[columns_to_standardize])\\ndf_standardize.describe() \""
      ]
     },
     "execution_count": 47,
     "metadata": {},
     "output_type": "execute_result"
    }
   ],
   "source": [
    "\"\"\" df_standardize = df_encoded.copy()\n",
    "df_standardize.drop['']\n",
    "df_standardize.info()\n",
    "columns_to_standardize = list(df_standardize.columns)\n",
    "from sklearn.preprocessing import StandardScaler\n",
    "\n",
    "# Initialize StandardScaler\n",
    "scaler = StandardScaler()\n",
    "\n",
    "# Fit and transform the selected columns\n",
    "df_standardize[columns_to_standardize] = scaler.fit_transform(df_standardize[columns_to_standardize])\n",
    "df_standardize.describe() \"\"\""
   ]
  },
  {
   "cell_type": "code",
   "execution_count": 48,
   "metadata": {},
   "outputs": [
    {
     "data": {
      "text/html": [
       "<div>\n",
       "<style scoped>\n",
       "    .dataframe tbody tr th:only-of-type {\n",
       "        vertical-align: middle;\n",
       "    }\n",
       "\n",
       "    .dataframe tbody tr th {\n",
       "        vertical-align: top;\n",
       "    }\n",
       "\n",
       "    .dataframe thead th {\n",
       "        text-align: right;\n",
       "    }\n",
       "</style>\n",
       "<table border=\"1\" class=\"dataframe\">\n",
       "  <thead>\n",
       "    <tr style=\"text-align: right;\">\n",
       "      <th></th>\n",
       "      <th>ccs</th>\n",
       "      <th>bcced</th>\n",
       "      <th>images</th>\n",
       "      <th>urls</th>\n",
       "      <th>salutations</th>\n",
       "      <th>designation</th>\n",
       "      <th>chars_in_subject</th>\n",
       "      <th>chars_in_body</th>\n",
       "      <th>label</th>\n",
       "      <th>day_number</th>\n",
       "      <th>...</th>\n",
       "      <th>mail2_calendar</th>\n",
       "      <th>mail2_html</th>\n",
       "      <th>mail2_html</th>\n",
       "      <th>mail2_idm</th>\n",
       "      <th>mail2_mixed</th>\n",
       "      <th>mail2_other</th>\n",
       "      <th>mail2_plain</th>\n",
       "      <th>mail2_related</th>\n",
       "      <th>mail2_report</th>\n",
       "      <th>mail2_signed</th>\n",
       "    </tr>\n",
       "  </thead>\n",
       "  <tbody>\n",
       "    <tr>\n",
       "      <th>0</th>\n",
       "      <td>1.098612</td>\n",
       "      <td>0</td>\n",
       "      <td>3.637586</td>\n",
       "      <td>4.812184</td>\n",
       "      <td>1.098612</td>\n",
       "      <td>0</td>\n",
       "      <td>3.951244</td>\n",
       "      <td>11.290157</td>\n",
       "      <td>2</td>\n",
       "      <td>2.197225</td>\n",
       "      <td>...</td>\n",
       "      <td>False</td>\n",
       "      <td>False</td>\n",
       "      <td>False</td>\n",
       "      <td>False</td>\n",
       "      <td>False</td>\n",
       "      <td>False</td>\n",
       "      <td>False</td>\n",
       "      <td>False</td>\n",
       "      <td>False</td>\n",
       "      <td>False</td>\n",
       "    </tr>\n",
       "    <tr>\n",
       "      <th>1</th>\n",
       "      <td>1.098612</td>\n",
       "      <td>0</td>\n",
       "      <td>1.386294</td>\n",
       "      <td>2.302585</td>\n",
       "      <td>1.098612</td>\n",
       "      <td>0</td>\n",
       "      <td>4.700480</td>\n",
       "      <td>7.994295</td>\n",
       "      <td>1</td>\n",
       "      <td>2.833213</td>\n",
       "      <td>...</td>\n",
       "      <td>False</td>\n",
       "      <td>False</td>\n",
       "      <td>False</td>\n",
       "      <td>False</td>\n",
       "      <td>False</td>\n",
       "      <td>False</td>\n",
       "      <td>False</td>\n",
       "      <td>False</td>\n",
       "      <td>False</td>\n",
       "      <td>False</td>\n",
       "    </tr>\n",
       "    <tr>\n",
       "      <th>2</th>\n",
       "      <td>1.098612</td>\n",
       "      <td>0</td>\n",
       "      <td>1.945910</td>\n",
       "      <td>2.995732</td>\n",
       "      <td>1.098612</td>\n",
       "      <td>0</td>\n",
       "      <td>3.637586</td>\n",
       "      <td>10.132693</td>\n",
       "      <td>1</td>\n",
       "      <td>2.197225</td>\n",
       "      <td>...</td>\n",
       "      <td>False</td>\n",
       "      <td>True</td>\n",
       "      <td>False</td>\n",
       "      <td>False</td>\n",
       "      <td>False</td>\n",
       "      <td>False</td>\n",
       "      <td>False</td>\n",
       "      <td>False</td>\n",
       "      <td>False</td>\n",
       "      <td>False</td>\n",
       "    </tr>\n",
       "    <tr>\n",
       "      <th>3</th>\n",
       "      <td>1.098612</td>\n",
       "      <td>0</td>\n",
       "      <td>1.098612</td>\n",
       "      <td>1.098612</td>\n",
       "      <td>1.098612</td>\n",
       "      <td>0</td>\n",
       "      <td>2.890372</td>\n",
       "      <td>13.361851</td>\n",
       "      <td>1</td>\n",
       "      <td>2.639057</td>\n",
       "      <td>...</td>\n",
       "      <td>False</td>\n",
       "      <td>False</td>\n",
       "      <td>False</td>\n",
       "      <td>False</td>\n",
       "      <td>True</td>\n",
       "      <td>False</td>\n",
       "      <td>False</td>\n",
       "      <td>False</td>\n",
       "      <td>False</td>\n",
       "      <td>False</td>\n",
       "    </tr>\n",
       "    <tr>\n",
       "      <th>4</th>\n",
       "      <td>1.386294</td>\n",
       "      <td>0</td>\n",
       "      <td>1.609438</td>\n",
       "      <td>2.639057</td>\n",
       "      <td>1.098612</td>\n",
       "      <td>0</td>\n",
       "      <td>3.951244</td>\n",
       "      <td>7.765569</td>\n",
       "      <td>1</td>\n",
       "      <td>2.302585</td>\n",
       "      <td>...</td>\n",
       "      <td>False</td>\n",
       "      <td>False</td>\n",
       "      <td>False</td>\n",
       "      <td>False</td>\n",
       "      <td>False</td>\n",
       "      <td>False</td>\n",
       "      <td>False</td>\n",
       "      <td>False</td>\n",
       "      <td>False</td>\n",
       "      <td>False</td>\n",
       "    </tr>\n",
       "    <tr>\n",
       "      <th>...</th>\n",
       "      <td>...</td>\n",
       "      <td>...</td>\n",
       "      <td>...</td>\n",
       "      <td>...</td>\n",
       "      <td>...</td>\n",
       "      <td>...</td>\n",
       "      <td>...</td>\n",
       "      <td>...</td>\n",
       "      <td>...</td>\n",
       "      <td>...</td>\n",
       "      <td>...</td>\n",
       "      <td>...</td>\n",
       "      <td>...</td>\n",
       "      <td>...</td>\n",
       "      <td>...</td>\n",
       "      <td>...</td>\n",
       "      <td>...</td>\n",
       "      <td>...</td>\n",
       "      <td>...</td>\n",
       "      <td>...</td>\n",
       "      <td>...</td>\n",
       "    </tr>\n",
       "    <tr>\n",
       "      <th>80171</th>\n",
       "      <td>1.386294</td>\n",
       "      <td>0</td>\n",
       "      <td>1.098612</td>\n",
       "      <td>2.397895</td>\n",
       "      <td>1.098612</td>\n",
       "      <td>0</td>\n",
       "      <td>4.543295</td>\n",
       "      <td>7.177782</td>\n",
       "      <td>3</td>\n",
       "      <td>3.496508</td>\n",
       "      <td>...</td>\n",
       "      <td>False</td>\n",
       "      <td>False</td>\n",
       "      <td>False</td>\n",
       "      <td>False</td>\n",
       "      <td>False</td>\n",
       "      <td>False</td>\n",
       "      <td>False</td>\n",
       "      <td>False</td>\n",
       "      <td>False</td>\n",
       "      <td>False</td>\n",
       "    </tr>\n",
       "    <tr>\n",
       "      <th>80172</th>\n",
       "      <td>1.098612</td>\n",
       "      <td>0</td>\n",
       "      <td>1.098612</td>\n",
       "      <td>1.609438</td>\n",
       "      <td>1.386294</td>\n",
       "      <td>0</td>\n",
       "      <td>4.330733</td>\n",
       "      <td>9.507998</td>\n",
       "      <td>0</td>\n",
       "      <td>0.693147</td>\n",
       "      <td>...</td>\n",
       "      <td>False</td>\n",
       "      <td>True</td>\n",
       "      <td>False</td>\n",
       "      <td>False</td>\n",
       "      <td>False</td>\n",
       "      <td>False</td>\n",
       "      <td>False</td>\n",
       "      <td>False</td>\n",
       "      <td>False</td>\n",
       "      <td>False</td>\n",
       "    </tr>\n",
       "    <tr>\n",
       "      <th>80173</th>\n",
       "      <td>1.098612</td>\n",
       "      <td>0</td>\n",
       "      <td>3.401197</td>\n",
       "      <td>4.477337</td>\n",
       "      <td>1.098612</td>\n",
       "      <td>0</td>\n",
       "      <td>3.891820</td>\n",
       "      <td>10.257238</td>\n",
       "      <td>0</td>\n",
       "      <td>3.367296</td>\n",
       "      <td>...</td>\n",
       "      <td>False</td>\n",
       "      <td>False</td>\n",
       "      <td>False</td>\n",
       "      <td>False</td>\n",
       "      <td>False</td>\n",
       "      <td>False</td>\n",
       "      <td>False</td>\n",
       "      <td>False</td>\n",
       "      <td>False</td>\n",
       "      <td>False</td>\n",
       "    </tr>\n",
       "    <tr>\n",
       "      <th>80174</th>\n",
       "      <td>1.098612</td>\n",
       "      <td>0</td>\n",
       "      <td>3.555348</td>\n",
       "      <td>5.488938</td>\n",
       "      <td>1.386294</td>\n",
       "      <td>1</td>\n",
       "      <td>5.147494</td>\n",
       "      <td>11.564369</td>\n",
       "      <td>0</td>\n",
       "      <td>2.833213</td>\n",
       "      <td>...</td>\n",
       "      <td>False</td>\n",
       "      <td>False</td>\n",
       "      <td>False</td>\n",
       "      <td>False</td>\n",
       "      <td>False</td>\n",
       "      <td>False</td>\n",
       "      <td>False</td>\n",
       "      <td>False</td>\n",
       "      <td>False</td>\n",
       "      <td>False</td>\n",
       "    </tr>\n",
       "    <tr>\n",
       "      <th>80175</th>\n",
       "      <td>1.098612</td>\n",
       "      <td>0</td>\n",
       "      <td>1.098612</td>\n",
       "      <td>2.079442</td>\n",
       "      <td>1.098612</td>\n",
       "      <td>0</td>\n",
       "      <td>4.812184</td>\n",
       "      <td>7.811973</td>\n",
       "      <td>0</td>\n",
       "      <td>3.178054</td>\n",
       "      <td>...</td>\n",
       "      <td>False</td>\n",
       "      <td>False</td>\n",
       "      <td>False</td>\n",
       "      <td>False</td>\n",
       "      <td>False</td>\n",
       "      <td>False</td>\n",
       "      <td>False</td>\n",
       "      <td>False</td>\n",
       "      <td>False</td>\n",
       "      <td>False</td>\n",
       "    </tr>\n",
       "  </tbody>\n",
       "</table>\n",
       "<p>80176 rows × 72 columns</p>\n",
       "</div>"
      ],
      "text/plain": [
       "            ccs  bcced    images      urls  salutations  designation  \\\n",
       "0      1.098612      0  3.637586  4.812184     1.098612            0   \n",
       "1      1.098612      0  1.386294  2.302585     1.098612            0   \n",
       "2      1.098612      0  1.945910  2.995732     1.098612            0   \n",
       "3      1.098612      0  1.098612  1.098612     1.098612            0   \n",
       "4      1.386294      0  1.609438  2.639057     1.098612            0   \n",
       "...         ...    ...       ...       ...          ...          ...   \n",
       "80171  1.386294      0  1.098612  2.397895     1.098612            0   \n",
       "80172  1.098612      0  1.098612  1.609438     1.386294            0   \n",
       "80173  1.098612      0  3.401197  4.477337     1.098612            0   \n",
       "80174  1.098612      0  3.555348  5.488938     1.386294            1   \n",
       "80175  1.098612      0  1.098612  2.079442     1.098612            0   \n",
       "\n",
       "       chars_in_subject  chars_in_body  label  day_number  ...  \\\n",
       "0              3.951244      11.290157      2    2.197225  ...   \n",
       "1              4.700480       7.994295      1    2.833213  ...   \n",
       "2              3.637586      10.132693      1    2.197225  ...   \n",
       "3              2.890372      13.361851      1    2.639057  ...   \n",
       "4              3.951244       7.765569      1    2.302585  ...   \n",
       "...                 ...            ...    ...         ...  ...   \n",
       "80171          4.543295       7.177782      3    3.496508  ...   \n",
       "80172          4.330733       9.507998      0    0.693147  ...   \n",
       "80173          3.891820      10.257238      0    3.367296  ...   \n",
       "80174          5.147494      11.564369      0    2.833213  ...   \n",
       "80175          4.812184       7.811973      0    3.178054  ...   \n",
       "\n",
       "       mail2_calendar  mail2_html  mail2_html   mail2_idm  mail2_mixed  \\\n",
       "0               False       False        False      False        False   \n",
       "1               False       False        False      False        False   \n",
       "2               False        True        False      False        False   \n",
       "3               False       False        False      False         True   \n",
       "4               False       False        False      False        False   \n",
       "...               ...         ...          ...        ...          ...   \n",
       "80171           False       False        False      False        False   \n",
       "80172           False        True        False      False        False   \n",
       "80173           False       False        False      False        False   \n",
       "80174           False       False        False      False        False   \n",
       "80175           False       False        False      False        False   \n",
       "\n",
       "       mail2_other  mail2_plain  mail2_related  mail2_report  mail2_signed  \n",
       "0            False        False          False         False         False  \n",
       "1            False        False          False         False         False  \n",
       "2            False        False          False         False         False  \n",
       "3            False        False          False         False         False  \n",
       "4            False        False          False         False         False  \n",
       "...            ...          ...            ...           ...           ...  \n",
       "80171        False        False          False         False         False  \n",
       "80172        False        False          False         False         False  \n",
       "80173        False        False          False         False         False  \n",
       "80174        False        False          False         False         False  \n",
       "80175        False        False          False         False         False  \n",
       "\n",
       "[80176 rows x 72 columns]"
      ]
     },
     "execution_count": 48,
     "metadata": {},
     "output_type": "execute_result"
    }
   ],
   "source": [
    "df_encoded"
   ]
  },
  {
   "cell_type": "markdown",
   "metadata": {},
   "source": [
    "### Train and Test split"
   ]
  },
  {
   "cell_type": "code",
   "execution_count": 49,
   "metadata": {},
   "outputs": [],
   "source": [
    "# Used for deep learning after because it doesn't want a type string\n",
    "deep_df = df_encoded.copy()"
   ]
  },
  {
   "cell_type": "markdown",
   "metadata": {},
   "source": [
    "### Stop here for Deep learning"
   ]
  },
  {
   "cell_type": "code",
   "execution_count": 50,
   "metadata": {},
   "outputs": [],
   "source": [
    "df_encoded['label'] = df_encoded['label'].values.astype('str')"
   ]
  },
  {
   "cell_type": "code",
   "execution_count": 95,
   "metadata": {},
   "outputs": [],
   "source": [
    "\n",
    "# Assuming X contains your features and y contains your target variable\n",
    "X = df_encoded.drop(columns=['label'])  # Features (excluding the target variable)\n",
    "y = df_encoded['label']  # Target variable\n",
    "\n",
    "# Splitting the data into training and testing sets (80% train, 20% test)\n",
    "X_train, X_test, y_train, y_test = train_test_split(X, y, test_size=0.2, random_state=42)\n"
   ]
  },
  {
   "cell_type": "markdown",
   "metadata": {},
   "source": [
    "### Modeling"
   ]
  },
  {
   "cell_type": "code",
   "execution_count": 52,
   "metadata": {},
   "outputs": [
    {
     "data": {
      "text/plain": [
       "array(['0', '1', '2', '3', '7', '5', '4', '6'], dtype=object)"
      ]
     },
     "execution_count": 52,
     "metadata": {},
     "output_type": "execute_result"
    }
   ],
   "source": [
    "y_train.unique()"
   ]
  },
  {
   "cell_type": "code",
   "execution_count": 53,
   "metadata": {},
   "outputs": [
    {
     "name": "stderr",
     "output_type": "stream",
     "text": [
      "/Library/Frameworks/Python.framework/Versions/3.11/lib/python3.11/site-packages/sklearn/linear_model/_logistic.py:469: ConvergenceWarning: lbfgs failed to converge (status=1):\n",
      "STOP: TOTAL NO. of ITERATIONS REACHED LIMIT.\n",
      "\n",
      "Increase the number of iterations (max_iter) or scale the data as shown in:\n",
      "    https://scikit-learn.org/stable/modules/preprocessing.html\n",
      "Please also refer to the documentation for alternative solver options:\n",
      "    https://scikit-learn.org/stable/modules/linear_model.html#logistic-regression\n",
      "  n_iter_i = _check_optimize_result(\n"
     ]
    }
   ],
   "source": [
    "\n",
    "# Assuming X_train, X_test, y_train, y_test are already defined from the train-test split\n",
    "# Initialize logistic regression model\n",
    "logistic_regression_model = LogisticRegression(max_iter = 1000)\n",
    "\n",
    "# Train the model\n",
    "logistic_regression_model.fit(X_train, y_train)\n",
    "\n",
    "# Predict on the test data\n",
    "y_pred = logistic_regression_model.predict(X_test)\n",
    "\n",
    "accuracy = accuracy_score(y_test, y_pred)\n"
   ]
  },
  {
   "cell_type": "code",
   "execution_count": 54,
   "metadata": {},
   "outputs": [
    {
     "data": {
      "text/plain": [
       "0.5359191818408581"
      ]
     },
     "execution_count": 54,
     "metadata": {},
     "output_type": "execute_result"
    }
   ],
   "source": [
    "accuracy"
   ]
  },
  {
   "cell_type": "code",
   "execution_count": 55,
   "metadata": {},
   "outputs": [
    {
     "name": "stderr",
     "output_type": "stream",
     "text": [
      "/Library/Frameworks/Python.framework/Versions/3.11/lib/python3.11/site-packages/sklearn/metrics/_classification.py:1509: UndefinedMetricWarning: Precision is ill-defined and being set to 0.0 in labels with no predicted samples. Use `zero_division` parameter to control this behavior.\n",
      "  _warn_prf(average, modifier, f\"{metric.capitalize()} is\", len(result))\n",
      "/Library/Frameworks/Python.framework/Versions/3.11/lib/python3.11/site-packages/sklearn/metrics/_classification.py:1509: UndefinedMetricWarning: Precision is ill-defined and being set to 0.0 in labels with no predicted samples. Use `zero_division` parameter to control this behavior.\n",
      "  _warn_prf(average, modifier, f\"{metric.capitalize()} is\", len(result))\n",
      "/Library/Frameworks/Python.framework/Versions/3.11/lib/python3.11/site-packages/sklearn/metrics/_classification.py:1509: UndefinedMetricWarning: Precision is ill-defined and being set to 0.0 in labels with no predicted samples. Use `zero_division` parameter to control this behavior.\n",
      "  _warn_prf(average, modifier, f\"{metric.capitalize()} is\", len(result))\n"
     ]
    },
    {
     "data": {
      "text/plain": [
       "'              precision    recall  f1-score   support\\n\\n           0       0.55      0.36      0.43      3680\\n           1       0.53      0.66      0.59      7429\\n           2       0.43      0.32      0.36      1719\\n           3       0.59      0.51      0.54      2109\\n           4       0.40      0.04      0.07        50\\n           5       0.00      0.00      0.00        26\\n           6       0.00      0.00      0.00        31\\n           7       0.57      0.75      0.65       992\\n\\n    accuracy                           0.54     16036\\n   macro avg       0.38      0.33      0.33     16036\\nweighted avg       0.53      0.54      0.52     16036\\n'"
      ]
     },
     "execution_count": 55,
     "metadata": {},
     "output_type": "execute_result"
    }
   ],
   "source": [
    "classification_report(y_test, y_pred)"
   ]
  },
  {
   "cell_type": "code",
   "execution_count": 56,
   "metadata": {},
   "outputs": [],
   "source": [
    "cm = confusion_matrix(y_test, y_pred)"
   ]
  },
  {
   "cell_type": "code",
   "execution_count": 57,
   "metadata": {},
   "outputs": [],
   "source": [
    "disp = ConfusionMatrixDisplay(confusion_matrix=cm,display_labels=logistic_regression_model.classes_)"
   ]
  },
  {
   "cell_type": "code",
   "execution_count": 58,
   "metadata": {},
   "outputs": [
    {
     "data": {
      "text/plain": [
       "<sklearn.metrics._plot.confusion_matrix.ConfusionMatrixDisplay at 0x29534a250>"
      ]
     },
     "execution_count": 58,
     "metadata": {},
     "output_type": "execute_result"
    },
    {
     "data": {
      "image/png": "[encoded data removed]",
      "text/plain": [
       "<Figure size 640x480 with 2 Axes>"
      ]
     },
     "metadata": {},
     "output_type": "display_data"
    }
   ],
   "source": [
    "disp.plot()"
   ]
  },
  {
   "cell_type": "code",
   "execution_count": 59,
   "metadata": {},
   "outputs": [
    {
     "name": "stderr",
     "output_type": "stream",
     "text": [
      "/Library/Frameworks/Python.framework/Versions/3.11/lib/python3.11/site-packages/sklearn/linear_model/_logistic.py:469: ConvergenceWarning: lbfgs failed to converge (status=1):\n",
      "STOP: TOTAL NO. of ITERATIONS REACHED LIMIT.\n",
      "\n",
      "Increase the number of iterations (max_iter) or scale the data as shown in:\n",
      "    https://scikit-learn.org/stable/modules/preprocessing.html\n",
      "Please also refer to the documentation for alternative solver options:\n",
      "    https://scikit-learn.org/stable/modules/linear_model.html#logistic-regression\n",
      "  n_iter_i = _check_optimize_result(\n",
      "/Library/Frameworks/Python.framework/Versions/3.11/lib/python3.11/site-packages/sklearn/linear_model/_logistic.py:469: ConvergenceWarning: lbfgs failed to converge (status=1):\n",
      "STOP: TOTAL NO. of ITERATIONS REACHED LIMIT.\n",
      "\n",
      "Increase the number of iterations (max_iter) or scale the data as shown in:\n",
      "    https://scikit-learn.org/stable/modules/preprocessing.html\n",
      "Please also refer to the documentation for alternative solver options:\n",
      "    https://scikit-learn.org/stable/modules/linear_model.html#logistic-regression\n",
      "  n_iter_i = _check_optimize_result(\n",
      "/Library/Frameworks/Python.framework/Versions/3.11/lib/python3.11/site-packages/sklearn/linear_model/_logistic.py:469: ConvergenceWarning: lbfgs failed to converge (status=1):\n",
      "STOP: TOTAL NO. of ITERATIONS REACHED LIMIT.\n",
      "\n",
      "Increase the number of iterations (max_iter) or scale the data as shown in:\n",
      "    https://scikit-learn.org/stable/modules/preprocessing.html\n",
      "Please also refer to the documentation for alternative solver options:\n",
      "    https://scikit-learn.org/stable/modules/linear_model.html#logistic-regression\n",
      "  n_iter_i = _check_optimize_result(\n",
      "/Library/Frameworks/Python.framework/Versions/3.11/lib/python3.11/site-packages/sklearn/linear_model/_logistic.py:469: ConvergenceWarning: lbfgs failed to converge (status=1):\n",
      "STOP: TOTAL NO. of ITERATIONS REACHED LIMIT.\n",
      "\n",
      "Increase the number of iterations (max_iter) or scale the data as shown in:\n",
      "    https://scikit-learn.org/stable/modules/preprocessing.html\n",
      "Please also refer to the documentation for alternative solver options:\n",
      "    https://scikit-learn.org/stable/modules/linear_model.html#logistic-regression\n",
      "  n_iter_i = _check_optimize_result(\n",
      "/Library/Frameworks/Python.framework/Versions/3.11/lib/python3.11/site-packages/sklearn/linear_model/_logistic.py:469: ConvergenceWarning: lbfgs failed to converge (status=1):\n",
      "STOP: TOTAL NO. of ITERATIONS REACHED LIMIT.\n",
      "\n",
      "Increase the number of iterations (max_iter) or scale the data as shown in:\n",
      "    https://scikit-learn.org/stable/modules/preprocessing.html\n",
      "Please also refer to the documentation for alternative solver options:\n",
      "    https://scikit-learn.org/stable/modules/linear_model.html#logistic-regression\n",
      "  n_iter_i = _check_optimize_result(\n"
     ]
    }
   ],
   "source": [
    "scores = cross_val_score(logistic_regression_model, X_train, y_train, cv=5, scoring='f1_macro')"
   ]
  },
  {
   "cell_type": "code",
   "execution_count": 60,
   "metadata": {},
   "outputs": [
    {
     "data": {
      "text/plain": [
       "array([0.32767842, 0.32646899, 0.33221644, 0.32845695, 0.32478002])"
      ]
     },
     "execution_count": 60,
     "metadata": {},
     "output_type": "execute_result"
    }
   ],
   "source": [
    "scores"
   ]
  },
  {
   "cell_type": "code",
   "execution_count": null,
   "metadata": {},
   "outputs": [],
   "source": []
  },
  {
   "cell_type": "code",
   "execution_count": 61,
   "metadata": {},
   "outputs": [
    {
     "data": {
      "text/plain": [
       "label\n",
       "1    29766\n",
       "0    14315\n",
       "3     8618\n",
       "2     6848\n",
       "7     4050\n",
       "4      307\n",
       "6      121\n",
       "5      115\n",
       "Name: count, dtype: int64"
      ]
     },
     "execution_count": 61,
     "metadata": {},
     "output_type": "execute_result"
    }
   ],
   "source": [
    "y_train.value_counts()"
   ]
  },
  {
   "cell_type": "markdown",
   "metadata": {},
   "source": [
    "### Dealing with Imbalanced data"
   ]
  },
  {
   "cell_type": "markdown",
   "metadata": {},
   "source": [
    "#### Oversampling"
   ]
  },
  {
   "cell_type": "code",
   "execution_count": 62,
   "metadata": {},
   "outputs": [
    {
     "data": {
      "text/plain": [
       "label\n",
       "2    37195\n",
       "1    37195\n",
       "3    37195\n",
       "7    37195\n",
       "0    37195\n",
       "4    37195\n",
       "6    37195\n",
       "5    37195\n",
       "Name: count, dtype: int64"
      ]
     },
     "execution_count": 62,
     "metadata": {},
     "output_type": "execute_result"
    }
   ],
   "source": [
    "oversample = RandomOverSampler()\n",
    "X_over, y_over = oversample.fit_resample(X, y)\n",
    "y_over.value_counts()"
   ]
  },
  {
   "cell_type": "code",
   "execution_count": 63,
   "metadata": {},
   "outputs": [],
   "source": [
    "def oversample_logistic(X,y):\n",
    "    X_train, X_test, y_train, y_test = train_test_split(X, y, test_size=0.2, random_state=42)\n",
    "\n",
    "    # Assuming X_train, X_test, y_train, y_test are already defined from the train-test split\n",
    "    # Initialize logistic regression model\n",
    "    logistic_regression_model = LogisticRegression(max_iter = 1000)\n",
    "\n",
    "    # Train the model\n",
    "    logistic_regression_model.fit(X_train, y_train)\n",
    "\n",
    "    # Predict on the test data\n",
    "    y_pred = logistic_regression_model.predict(X_test)\n",
    "\n",
    "    cm = confusion_matrix(y_test, y_pred)\n",
    "\n",
    "    disp = ConfusionMatrixDisplay(confusion_matrix=cm,display_labels=logistic_regression_model.classes_)\n",
    "\n",
    "    disp.plot()\n",
    "\n",
    "    return y_pred, y_test"
   ]
  },
  {
   "cell_type": "code",
   "execution_count": 64,
   "metadata": {},
   "outputs": [
    {
     "name": "stderr",
     "output_type": "stream",
     "text": [
      "/Library/Frameworks/Python.framework/Versions/3.11/lib/python3.11/site-packages/sklearn/linear_model/_logistic.py:469: ConvergenceWarning: lbfgs failed to converge (status=1):\n",
      "STOP: TOTAL NO. of ITERATIONS REACHED LIMIT.\n",
      "\n",
      "Increase the number of iterations (max_iter) or scale the data as shown in:\n",
      "    https://scikit-learn.org/stable/modules/preprocessing.html\n",
      "Please also refer to the documentation for alternative solver options:\n",
      "    https://scikit-learn.org/stable/modules/linear_model.html#logistic-regression\n",
      "  n_iter_i = _check_optimize_result(\n"
     ]
    },
    {
     "data": {
      "image/png": "[encoded data removed]",
      "text/plain": [
       "<Figure size 640x480 with 2 Axes>"
      ]
     },
     "metadata": {},
     "output_type": "display_data"
    }
   ],
   "source": [
    "y_pred, y_test = oversample_logistic(X_over,y_over)"
   ]
  },
  {
   "cell_type": "code",
   "execution_count": 65,
   "metadata": {},
   "outputs": [
    {
     "name": "stdout",
     "output_type": "stream",
     "text": [
      "accuracy : 0.7005981986826186\n",
      "f1 score  : 0.6719690581718178\n"
     ]
    }
   ],
   "source": [
    "accuracy = accuracy_score(y_test, y_pred)\n",
    "print('accuracy : ' + str(accuracy))\n",
    "f1_score = f1_score(y_test, y_pred, average='weighted')\n",
    "print('f1 score  : ' + str(f1_score))"
   ]
  },
  {
   "cell_type": "markdown",
   "metadata": {},
   "source": [
    "### No Sampling"
   ]
  },
  {
   "cell_type": "markdown",
   "metadata": {},
   "source": [
    "#### Trying different Models"
   ]
  },
  {
   "cell_type": "code",
   "execution_count": 98,
   "metadata": {},
   "outputs": [],
   "source": [
    "# Rerurn this\n",
    "X = df_encoded.drop(columns=['label']) \n",
    "y = df_encoded['label'] \n",
    "\n",
    "X_train, X_test, y_train, y_test = train_test_split(X, y, test_size=0.2, random_state=42)\n"
   ]
  },
  {
   "cell_type": "code",
   "execution_count": 111,
   "metadata": {},
   "outputs": [
    {
     "name": "stdout",
     "output_type": "stream",
     "text": [
      "Training Logistic Regression...\n"
     ]
    },
    {
     "name": "stderr",
     "output_type": "stream",
     "text": [
      "/Library/Frameworks/Python.framework/Versions/3.11/lib/python3.11/site-packages/sklearn/linear_model/_logistic.py:469: ConvergenceWarning: lbfgs failed to converge (status=1):\n",
      "STOP: TOTAL NO. of ITERATIONS REACHED LIMIT.\n",
      "\n",
      "Increase the number of iterations (max_iter) or scale the data as shown in:\n",
      "    https://scikit-learn.org/stable/modules/preprocessing.html\n",
      "Please also refer to the documentation for alternative solver options:\n",
      "    https://scikit-learn.org/stable/modules/linear_model.html#logistic-regression\n",
      "  n_iter_i = _check_optimize_result(\n",
      "/Library/Frameworks/Python.framework/Versions/3.11/lib/python3.11/site-packages/sklearn/metrics/_classification.py:1509: UndefinedMetricWarning: Precision is ill-defined and being set to 0.0 in labels with no predicted samples. Use `zero_division` parameter to control this behavior.\n",
      "  _warn_prf(average, modifier, f\"{metric.capitalize()} is\", len(result))\n",
      "/Library/Frameworks/Python.framework/Versions/3.11/lib/python3.11/site-packages/sklearn/metrics/_classification.py:1509: UndefinedMetricWarning: Precision is ill-defined and being set to 0.0 in labels with no predicted samples. Use `zero_division` parameter to control this behavior.\n",
      "  _warn_prf(average, modifier, f\"{metric.capitalize()} is\", len(result))\n"
     ]
    },
    {
     "name": "stdout",
     "output_type": "stream",
     "text": [
      "Accuracy for Logistic Regression: 0.5286\n",
      "Classification Report for Logistic Regression:\n"
     ]
    },
    {
     "name": "stderr",
     "output_type": "stream",
     "text": [
      "/Library/Frameworks/Python.framework/Versions/3.11/lib/python3.11/site-packages/sklearn/metrics/_classification.py:1509: UndefinedMetricWarning: Precision is ill-defined and being set to 0.0 in labels with no predicted samples. Use `zero_division` parameter to control this behavior.\n",
      "  _warn_prf(average, modifier, f\"{metric.capitalize()} is\", len(result))\n"
     ]
    },
    {
     "name": "stdout",
     "output_type": "stream",
     "text": [
      "              precision    recall  f1-score   support\n",
      "\n",
      "           0       0.56      0.34      0.43      3680\n",
      "           1       0.53      0.66      0.59      7429\n",
      "           2       0.41      0.38      0.39      1719\n",
      "           3       0.58      0.51      0.55      2109\n",
      "           4       0.00      0.00      0.00        50\n",
      "           5       0.00      0.00      0.00        26\n",
      "           6       0.00      0.00      0.00        31\n",
      "           7       0.56      0.54      0.55       992\n",
      "\n",
      "    accuracy                           0.53     16036\n",
      "   macro avg       0.33      0.31      0.31     16036\n",
      "weighted avg       0.53      0.53      0.52     16036\n",
      "\n",
      "Confusion Matrix for Logistic Regression:\n",
      "[[1263 2072  270   58    0    0    0   17]\n",
      " [ 748 4938  646  711    0    1    0  385]\n",
      " [ 177  874  652    3    0    0    0   13]\n",
      " [  26  997    0 1086    0    0    0    0]\n",
      " [   6   34   10    0    0    0    0    0]\n",
      " [   9   12    5    0    0    0    0    0]\n",
      " [   4   19    8    0    0    0    0    0]\n",
      " [   9  439    6    0    0    0    0  538]]\n",
      "\n",
      "\n",
      "Training Decision Tree...\n",
      "Accuracy for Decision Tree: 0.4061\n",
      "Classification Report for Decision Tree:\n",
      "              precision    recall  f1-score   support\n",
      "\n",
      "           0       0.46      0.52      0.49      3680\n",
      "           1       0.40      0.41      0.40      7429\n",
      "           2       0.30      0.25      0.27      1719\n",
      "           3       0.46      0.41      0.44      2109\n",
      "           4       0.04      0.04      0.04        50\n",
      "           5       0.16      0.15      0.16        26\n",
      "           6       0.08      0.06      0.07        31\n",
      "           7       0.33      0.27      0.30       992\n",
      "\n",
      "    accuracy                           0.41     16036\n",
      "   macro avg       0.28      0.26      0.27     16036\n",
      "weighted avg       0.40      0.41      0.40     16036\n",
      "\n",
      "Confusion Matrix for Decision Tree:\n",
      "[[1902 1578  138   13   31    8    8    2]\n",
      " [1984 3035  860  983   19   12    5  531]\n",
      " [ 181 1080  435    8    1    0    9    5]\n",
      " [  10 1226    5  867    0    1    0    0]\n",
      " [  35   10    3    0    2    0    0    0]\n",
      " [  15    7    0    0    0    4    0    0]\n",
      " [  14    5   10    0    0    0    2    0]\n",
      " [  21  700    6    0    0    0    0  265]]\n",
      "\n",
      "\n",
      "Training Random Forest...\n",
      "Accuracy for Random Forest: 0.4457\n",
      "Classification Report for Random Forest:\n",
      "              precision    recall  f1-score   support\n",
      "\n",
      "           0       0.47      0.44      0.45      3680\n",
      "           1       0.43      0.44      0.44      7429\n",
      "           2       0.36      0.34      0.35      1719\n",
      "           3       0.56      0.59      0.58      2109\n",
      "           4       0.03      0.04      0.03        50\n",
      "           5       0.24      0.23      0.24        26\n",
      "           6       0.09      0.06      0.08        31\n",
      "           7       0.40      0.41      0.41       992\n",
      "\n",
      "    accuracy                           0.45     16036\n",
      "   macro avg       0.32      0.32      0.32     16036\n",
      "weighted avg       0.45      0.45      0.45     16036\n",
      "\n",
      "Confusion Matrix for Random Forest:\n",
      "[[1617 1888  100   12   41    8    6    8]\n",
      " [1656 3285  907  949   25   11    6  590]\n",
      " [ 108 1013  581    1    0    0    8    8]\n",
      " [   5  857    1 1246    0    0    0    0]\n",
      " [  24   22    2    0    2    0    0    0]\n",
      " [   9   11    0    0    0    6    0    0]\n",
      " [  16    4    9    0    0    0    2    0]\n",
      " [   6  574    3    0    0    0    0  409]]\n",
      "\n",
      "\n",
      "Training Support Vector Machine...\n",
      "Accuracy for Support Vector Machine: 0.5261\n",
      "Classification Report for Support Vector Machine:\n",
      "              precision    recall  f1-score   support\n",
      "\n",
      "           0       0.76      0.16      0.26      3680\n",
      "           1       0.50      0.82      0.62      7429\n",
      "           2       0.46      0.03      0.06      1719\n",
      "           3       0.60      0.46      0.52      2109\n",
      "           4       0.00      0.00      0.00        50\n",
      "           5       0.00      0.00      0.00        26\n",
      "           6       0.00      0.00      0.00        31\n",
      "           7       0.55      0.72      0.63       992\n",
      "\n",
      "    accuracy                           0.53     16036\n",
      "   macro avg       0.36      0.27      0.26     16036\n",
      "weighted avg       0.57      0.53      0.46     16036\n",
      "\n",
      "Confusion Matrix for Support Vector Machine:\n",
      "[[ 576 2977   31   50    0    0    0   46]\n",
      " [ 176 6117   36  584    0    0    0  516]\n",
      " [   6 1629   58    1    0    0    0   25]\n",
      " [   0 1141    0  968    0    0    0    0]\n",
      " [   1   49    0    0    0    0    0    0]\n",
      " [   0   26    0    0    0    0    0    0]\n",
      " [   0   31    0    0    0    0    0    0]\n",
      " [   0  274    0    0    0    0    0  718]]\n",
      "\n",
      "\n"
     ]
    },
    {
     "name": "stderr",
     "output_type": "stream",
     "text": [
      "/Library/Frameworks/Python.framework/Versions/3.11/lib/python3.11/site-packages/sklearn/metrics/_classification.py:1509: UndefinedMetricWarning: Precision is ill-defined and being set to 0.0 in labels with no predicted samples. Use `zero_division` parameter to control this behavior.\n",
      "  _warn_prf(average, modifier, f\"{metric.capitalize()} is\", len(result))\n",
      "/Library/Frameworks/Python.framework/Versions/3.11/lib/python3.11/site-packages/sklearn/metrics/_classification.py:1509: UndefinedMetricWarning: Precision is ill-defined and being set to 0.0 in labels with no predicted samples. Use `zero_division` parameter to control this behavior.\n",
      "  _warn_prf(average, modifier, f\"{metric.capitalize()} is\", len(result))\n",
      "/Library/Frameworks/Python.framework/Versions/3.11/lib/python3.11/site-packages/sklearn/metrics/_classification.py:1509: UndefinedMetricWarning: Precision is ill-defined and being set to 0.0 in labels with no predicted samples. Use `zero_division` parameter to control this behavior.\n",
      "  _warn_prf(average, modifier, f\"{metric.capitalize()} is\", len(result))\n"
     ]
    }
   ],
   "source": [
    "\n",
    "# Define a dictionary to store models\n",
    "models = {\n",
    "    'Logistic Regression': LogisticRegression(),\n",
    "    'Decision Tree': DecisionTreeClassifier(),\n",
    "    'Random Forest': RandomForestClassifier(),\n",
    "    'Support Vector Machine': SVC(),\n",
    "    \n",
    "}\n",
    "\n",
    "# Train and evaluate each model\n",
    "for name, model in models.items():\n",
    "    print(f\"Training {name}...\")\n",
    "    model.fit(X_train, y_train)\n",
    "    y_pred = model.predict(X_test)\n",
    "    \n",
    "    accuracy = accuracy_score(y_test, y_pred)\n",
    "    print(f\"Accuracy for {name}: {accuracy:.4f}\")\n",
    "    \n",
    "    # Additional evaluation metrics\n",
    "    print(f\"Classification Report for {name}:\")\n",
    "    print(classification_report(y_test, y_pred))\n",
    "    \n",
    "    print(f\"Confusion Matrix for {name}:\")\n",
    "    print(confusion_matrix(y_test, y_pred))\n",
    "    print(\"\\n\")\n",
    "\n",
    "    \"\"\"\n",
    "    # Extract F1 score from classification report\n",
    "    f1_score = classification_report.split()[-2]\n",
    "\n",
    "    print(\"F1 Score:\", f1_score)\n",
    "    \"\"\"\n",
    "\n"
   ]
  },
  {
   "cell_type": "markdown",
   "metadata": {},
   "source": [
    "#### Using XGBoost"
   ]
  },
  {
   "cell_type": "code",
   "execution_count": 112,
   "metadata": {},
   "outputs": [
    {
     "name": "stdout",
     "output_type": "stream",
     "text": [
      "Accuracy: 0.5507\n",
      "Classification Report for :\n",
      "              precision    recall  f1-score   support\n",
      "\n",
      "           0       0.57      0.47      0.51      3680\n",
      "           1       0.54      0.56      0.55      7429\n",
      "           2       0.47      0.42      0.44      1719\n",
      "           3       0.63      0.74      0.68      2109\n",
      "           4       0.10      0.16      0.12        50\n",
      "           5       0.28      0.38      0.32        26\n",
      "           6       0.15      0.13      0.14        31\n",
      "           7       0.53      0.66      0.59       992\n",
      "\n",
      "    accuracy                           0.55     16036\n",
      "   macro avg       0.41      0.44      0.42     16036\n",
      "weighted avg       0.55      0.55      0.55     16036\n",
      "\n",
      "Confusion Matrix for:\n",
      "[[1716 1751  122   15   47   12    8    9]\n",
      " [1078 4169  666  910   27   14    7  558]\n",
      " [ 160  826  714    2    0    0    8    9]\n",
      " [   3  547    0 1559    0    0    0    0]\n",
      " [  11   29    2    0    8    0    0    0]\n",
      " [   4   11    1    0    0   10    0    0]\n",
      " [  18    3    6    0    0    0    4    0]\n",
      " [   9  323    9    0    0    0    0  651]]\n",
      "\n",
      "\n"
     ]
    }
   ],
   "source": [
    "model = XGBClassifier()\n",
    "y_train_int = y_train.copy()\n",
    "model.fit(X_train, y_train_int.astype(int))\n",
    "y_pred = model.predict(X_test)\n",
    "accuracy = accuracy_score(y_test.astype(int), y_pred)\n",
    "print(f\"Accuracy: {accuracy:.4f}\")\n",
    "\n",
    "# Additional evaluation metrics\n",
    "print(f\"Classification Report for :\")\n",
    "print(classification_report(y_test.astype(int), y_pred))\n",
    "\n",
    "print(f\"Confusion Matrix for:\")\n",
    "print(confusion_matrix(y_test.astype(int), y_pred))\n",
    "print(\"\\n\")\n"
   ]
  },
  {
   "cell_type": "markdown",
   "metadata": {},
   "source": [
    "#### Using Oversampling methods"
   ]
  },
  {
   "cell_type": "code",
   "execution_count": 113,
   "metadata": {},
   "outputs": [
    {
     "data": {
      "text/plain": [
       "label\n",
       "1    37195\n",
       "0    17995\n",
       "3    10727\n",
       "2     8567\n",
       "7     5042\n",
       "4      357\n",
       "6      152\n",
       "5      141\n",
       "Name: count, dtype: int64"
      ]
     },
     "execution_count": 113,
     "metadata": {},
     "output_type": "execute_result"
    }
   ],
   "source": [
    "df_encoded['label'].value_counts()"
   ]
  },
  {
   "cell_type": "code",
   "execution_count": 114,
   "metadata": {},
   "outputs": [],
   "source": [
    "def oversample_multi_models(X,y):\n",
    "    X_train, X_test, y_train, y_test = train_test_split(X, y, test_size=0.2, random_state=42)\n",
    "\n",
    "    # Define a dictionary to store models\n",
    "    models = {\n",
    "        'Logistic Regression': LogisticRegression(),\n",
    "        'Decision Tree': DecisionTreeClassifier(),\n",
    "        'Random Forest': RandomForestClassifier(),\n",
    "        'Support Vector Machine': SVC()\n",
    "    }\n",
    "\n",
    "    # Train and evaluate each model\n",
    "    for name, model in models.items():\n",
    "        print(f\"Training {name}...\")\n",
    "        model.fit(X_train, y_train)\n",
    "        y_pred = model.predict(X_test)\n",
    "        \n",
    "        cm = confusion_matrix(y_test, y_pred)\n",
    "        disp = ConfusionMatrixDisplay(confusion_matrix=cm,display_labels=logistic_regression_model.classes_)\n",
    "\n",
    "        accuracy = accuracy_score(y_test, y_pred)\n",
    "        print('accuracy : ' + str(accuracy))\n",
    "        f1_value = f1_score(y_test, y_pred, average='weighted')\n",
    "        print('f1 score  : ' + str(f1_value))\n",
    "\n",
    "        disp.plot()"
   ]
  },
  {
   "cell_type": "code",
   "execution_count": 115,
   "metadata": {},
   "outputs": [
    {
     "name": "stdout",
     "output_type": "stream",
     "text": [
      "Training Logistic Regression...\n"
     ]
    },
    {
     "name": "stderr",
     "output_type": "stream",
     "text": [
      "/Library/Frameworks/Python.framework/Versions/3.11/lib/python3.11/site-packages/sklearn/linear_model/_logistic.py:469: ConvergenceWarning: lbfgs failed to converge (status=1):\n",
      "STOP: TOTAL NO. of ITERATIONS REACHED LIMIT.\n",
      "\n",
      "Increase the number of iterations (max_iter) or scale the data as shown in:\n",
      "    https://scikit-learn.org/stable/modules/preprocessing.html\n",
      "Please also refer to the documentation for alternative solver options:\n",
      "    https://scikit-learn.org/stable/modules/linear_model.html#logistic-regression\n",
      "  n_iter_i = _check_optimize_result(\n"
     ]
    },
    {
     "name": "stdout",
     "output_type": "stream",
     "text": [
      "accuracy : 0.6821313348568356\n",
      "f1 score  : 0.6605396665013935\n",
      "Training Decision Tree...\n",
      "accuracy : 0.8794024734507326\n",
      "f1 score  : 0.8644249990496539\n",
      "Training Random Forest...\n",
      "accuracy : 0.8816541201774432\n",
      "f1 score  : 0.8660349854337394\n",
      "Training Support Vector Machine...\n",
      "accuracy : 0.74255612313483\n",
      "f1 score  : 0.7063085773206401\n"
     ]
    },
    {
     "ename": "TypeError",
     "evalue": "cannot unpack non-iterable NoneType object",
     "output_type": "error",
     "traceback": [
      "\u001b[0;31m---------------------------------------------------------------------------\u001b[0m",
      "\u001b[0;31mTypeError\u001b[0m                                 Traceback (most recent call last)",
      "Cell \u001b[0;32mIn[115], line 1\u001b[0m\n\u001b[0;32m----> 1\u001b[0m y_pred, y_test \u001b[38;5;241m=\u001b[39m oversample_multi_models(X_over,y_over)\n",
      "\u001b[0;31mTypeError\u001b[0m: cannot unpack non-iterable NoneType object"
     ]
    },
    {
     "data": {
      "image/png": "[encoded data removed]",
      "text/plain": [
       "<Figure size 640x480 with 2 Axes>"
      ]
     },
     "metadata": {},
     "output_type": "display_data"
    },
    {
     "data": {
      "image/png": "[encoded data removed]",
      "text/plain": [
       "<Figure size 640x480 with 2 Axes>"
      ]
     },
     "metadata": {},
     "output_type": "display_data"
    },
    {
     "data": {
      "image/png": "[encoded data removed]",
      "text/plain": [
       "<Figure size 640x480 with 2 Axes>"
      ]
     },
     "metadata": {},
     "output_type": "display_data"
    },
    {
     "data": {
      "image/png": "[encoded data removed]",
      "text/plain": [
       "<Figure size 640x480 with 2 Axes>"
      ]
     },
     "metadata": {},
     "output_type": "display_data"
    }
   ],
   "source": [
    "y_pred, y_test = oversample_multi_models(X_over,y_over)"
   ]
  },
  {
   "cell_type": "markdown",
   "metadata": {},
   "source": [
    "#### Using XGBoost"
   ]
  },
  {
   "cell_type": "code",
   "execution_count": 118,
   "metadata": {},
   "outputs": [],
   "source": [
    "X_train, X_test, y_train, y_test = train_test_split(X_over, y_over, test_size=0.2, random_state=42)"
   ]
  },
  {
   "cell_type": "code",
   "execution_count": 120,
   "metadata": {},
   "outputs": [
    {
     "name": "stdout",
     "output_type": "stream",
     "text": [
      "Training XGBoost...\n",
      "accuracy : 0.8870647936550612\n",
      "f1 score  : 0.8693457309627979\n"
     ]
    },
    {
     "data": {
      "text/plain": [
       "<sklearn.metrics._plot.confusion_matrix.ConfusionMatrixDisplay at 0x29be02150>"
      ]
     },
     "execution_count": 120,
     "metadata": {},
     "output_type": "execute_result"
    },
    {
     "data": {
      "image/png": "[encoded data removed]",
      "text/plain": [
       "<Figure size 640x480 with 2 Axes>"
      ]
     },
     "metadata": {},
     "output_type": "display_data"
    }
   ],
   "source": [
    "name = \"XGBoost\"\n",
    "model = XGBClassifier(n_estimators = 500)\n",
    "y_train_int = y_train.copy()\n",
    "y_train_int = y_train_int.astype(int)\n",
    "y_test_int = y_test.copy()\n",
    "y_test_int = y_test_int.astype(int)\n",
    "\n",
    "print(f\"Training {name}...\")\n",
    "model.fit(X_train, y_train_int)\n",
    "y_pred = model.predict(X_test)\n",
    "\n",
    "cm = confusion_matrix(y_test_int, y_pred)\n",
    "disp = ConfusionMatrixDisplay(confusion_matrix=cm,display_labels=logistic_regression_model.classes_)\n",
    "\n",
    "accuracy = accuracy_score(y_test_int, y_pred)\n",
    "print('accuracy : ' + str(accuracy))\n",
    "f1_value = f1_score(y_test_int, y_pred, average='weighted')\n",
    "print('f1 score  : ' + str(f1_value))\n",
    "\n",
    "disp.plot()"
   ]
  },
  {
   "cell_type": "markdown",
   "metadata": {},
   "source": [
    "### Using Deep Learning Algorithms"
   ]
  },
  {
   "cell_type": "code",
   "execution_count": 85,
   "metadata": {},
   "outputs": [],
   "source": [
    "deep_df = df_encoded.copy()"
   ]
  },
  {
   "cell_type": "markdown",
   "metadata": {},
   "source": [
    "### No Sampling"
   ]
  },
  {
   "cell_type": "code",
   "execution_count": 86,
   "metadata": {},
   "outputs": [],
   "source": [
    "bool_columns = deep_df.select_dtypes(include=['bool']).columns"
   ]
  },
  {
   "cell_type": "code",
   "execution_count": 87,
   "metadata": {},
   "outputs": [],
   "source": [
    "deep_df[bool_columns] = deep_df[bool_columns].astype(int)"
   ]
  },
  {
   "cell_type": "code",
   "execution_count": 88,
   "metadata": {},
   "outputs": [
    {
     "data": {
      "text/plain": [
       "\"\\none_hot_encoded = pd.get_dummies(deep_df['label'], prefix='class')\\none_hot_encoded\\n\""
      ]
     },
     "execution_count": 88,
     "metadata": {},
     "output_type": "execute_result"
    }
   ],
   "source": [
    "\"\"\"\n",
    "one_hot_encoded = pd.get_dummies(deep_df['label'], prefix='class')\n",
    "one_hot_encoded\n",
    "\"\"\""
   ]
  },
  {
   "cell_type": "code",
   "execution_count": 89,
   "metadata": {},
   "outputs": [],
   "source": [
    "X2 = deep_df.drop(columns=['label']) \n",
    "y2 = deep_df['label']\n",
    "X_train2, X_test2, y_train2, y_test2 = train_test_split(X2, y2, test_size=0.2, random_state=42)\n"
   ]
  },
  {
   "cell_type": "code",
   "execution_count": 90,
   "metadata": {},
   "outputs": [],
   "source": [
    "Xtensor = tf.convert_to_tensor(X_train2)\n",
    "ytensor = tf.convert_to_tensor(y_train2)"
   ]
  },
  {
   "cell_type": "markdown",
   "metadata": {},
   "source": [
    "Define"
   ]
  },
  {
   "cell_type": "code",
   "execution_count": 91,
   "metadata": {},
   "outputs": [],
   "source": [
    "model = Sequential(\n",
    "    [\n",
    "        Dense(15, activation='relu', name = 'layer1'),\n",
    "        Dense(13, activation='relu', name = 'layer2'),\n",
    "        Dense(11, activation='relu', name = 'layer3'),\n",
    "        Dense(8, activation='linear') \n",
    "     ]\n",
    ")"
   ]
  },
  {
   "cell_type": "markdown",
   "metadata": {},
   "source": [
    "Not Preferred"
   ]
  },
  {
   "cell_type": "code",
   "execution_count": 92,
   "metadata": {},
   "outputs": [
    {
     "data": {
      "text/plain": [
       "\"\\nmodel = Sequential(\\n    [\\n        Dense(15, activation='relu', name = 'layer1'),\\n        Dense(13, activation='relu', name = 'layer2'),\\n        Dense(11, activation='relu', name = 'layer3'),\\n        Dense(8, activation='softmax') \\n     ]\\n)\\n\""
      ]
     },
     "execution_count": 92,
     "metadata": {},
     "output_type": "execute_result"
    }
   ],
   "source": [
    "\"\"\"\n",
    "model = Sequential(\n",
    "    [\n",
    "        Dense(15, activation='relu', name = 'layer1'),\n",
    "        Dense(13, activation='relu', name = 'layer2'),\n",
    "        Dense(11, activation='relu', name = 'layer3'),\n",
    "        Dense(8, activation='softmax') \n",
    "     ]\n",
    ")\n",
    "\"\"\""
   ]
  },
  {
   "cell_type": "markdown",
   "metadata": {},
   "source": [
    "Compile"
   ]
  },
  {
   "cell_type": "code",
   "execution_count": 93,
   "metadata": {},
   "outputs": [
    {
     "name": "stderr",
     "output_type": "stream",
     "text": [
      "WARNING:absl:At this time, the v2.11+ optimizer `tf.keras.optimizers.Adam` runs slowly on M1/M2 Macs, please use the legacy Keras optimizer instead, located at `tf.keras.optimizers.legacy.Adam`.\n"
     ]
    }
   ],
   "source": [
    "model.compile(\n",
    "    loss = tf.keras.losses.SparseCategoricalCrossentropy(from_logits=True),\n",
    "    optimizer = tf.keras.optimizers.Adam(learning_rate=0.001)\n",
    ")"
   ]
  },
  {
   "cell_type": "code",
   "execution_count": 94,
   "metadata": {},
   "outputs": [
    {
     "data": {
      "text/plain": [
       "'\\nmodel.compile(\\n    loss = tf.keras.losses.BinaryCrossentropy(),\\n    optimizer = tf.keras.optimizers.Adam(learning_rate=0.01)\\n)\\n'"
      ]
     },
     "execution_count": 94,
     "metadata": {},
     "output_type": "execute_result"
    }
   ],
   "source": [
    "\"\"\"\n",
    "model.compile(\n",
    "    loss = tf.keras.losses.BinaryCrossentropy(),\n",
    "    optimizer = tf.keras.optimizers.Adam(learning_rate=0.01)\n",
    ")\n",
    "\"\"\""
   ]
  },
  {
   "cell_type": "markdown",
   "metadata": {},
   "source": [
    "Fit"
   ]
  },
  {
   "cell_type": "code",
   "execution_count": 95,
   "metadata": {},
   "outputs": [
    {
     "name": "stdout",
     "output_type": "stream",
     "text": [
      "Epoch 1/10\n",
      "2005/2005 [==============================] - 1s 423us/step - loss: 1.0733\n",
      "Epoch 2/10\n",
      "2005/2005 [==============================] - 1s 462us/step - loss: 0.9434\n",
      "Epoch 3/10\n",
      "2005/2005 [==============================] - 1s 469us/step - loss: 0.9177\n",
      "Epoch 4/10\n",
      "2005/2005 [==============================] - 1s 403us/step - loss: 0.9050\n",
      "Epoch 5/10\n",
      "2005/2005 [==============================] - 1s 414us/step - loss: 0.8975\n",
      "Epoch 6/10\n",
      "2005/2005 [==============================] - 1s 421us/step - loss: 0.8912\n",
      "Epoch 7/10\n",
      "2005/2005 [==============================] - 1s 409us/step - loss: 0.8873\n",
      "Epoch 8/10\n",
      "2005/2005 [==============================] - 1s 405us/step - loss: 0.8839\n",
      "Epoch 9/10\n",
      "2005/2005 [==============================] - 1s 464us/step - loss: 0.8813\n",
      "Epoch 10/10\n",
      "2005/2005 [==============================] - 1s 417us/step - loss: 0.8795\n"
     ]
    },
    {
     "data": {
      "text/plain": [
       "<keras.src.callbacks.History at 0x29d478a50>"
      ]
     },
     "execution_count": 95,
     "metadata": {},
     "output_type": "execute_result"
    }
   ],
   "source": [
    "model.fit(\n",
    "    Xtensor,ytensor,            \n",
    "    epochs=10,\n",
    ")"
   ]
  },
  {
   "cell_type": "code",
   "execution_count": 96,
   "metadata": {},
   "outputs": [
    {
     "data": {
      "text/plain": [
       "0.8774704337120056"
      ]
     },
     "execution_count": 96,
     "metadata": {},
     "output_type": "execute_result"
    }
   ],
   "source": [
    "loss = model.evaluate(Xtensor, ytensor, verbose=0)\n",
    "loss"
   ]
  },
  {
   "cell_type": "code",
   "execution_count": 97,
   "metadata": {},
   "outputs": [
    {
     "name": "stdout",
     "output_type": "stream",
     "text": [
      "2005/2005 [==============================] - 1s 318us/step\n"
     ]
    }
   ],
   "source": [
    "#Xtensor = tf.convert_to_tensor(X_train2)\n",
    "#ytensor = tf.convert_to_tensor(y_train2)\n",
    "yhat = model.predict(X_train2)"
   ]
  },
  {
   "cell_type": "code",
   "execution_count": 98,
   "metadata": {},
   "outputs": [
    {
     "name": "stdout",
     "output_type": "stream",
     "text": [
      "              precision    recall  f1-score   support\n",
      "\n",
      "           0       0.61      0.34      0.43     14315\n",
      "           1       0.53      0.72      0.61     29766\n",
      "           2       0.49      0.27      0.35      6848\n",
      "           3       0.65      0.44      0.53      8618\n",
      "           4       0.00      0.00      0.00       307\n",
      "           5       0.00      0.00      0.00       115\n",
      "           6       0.00      0.00      0.00       121\n",
      "           7       0.57      0.78      0.66      4050\n",
      "\n",
      "    accuracy                           0.55     64140\n",
      "   macro avg       0.36      0.32      0.32     64140\n",
      "weighted avg       0.56      0.55      0.53     64140\n",
      "\n"
     ]
    },
    {
     "name": "stderr",
     "output_type": "stream",
     "text": [
      "/opt/homebrew/lib/python3.11/site-packages/sklearn/metrics/_classification.py:1471: UndefinedMetricWarning: Precision and F-score are ill-defined and being set to 0.0 in labels with no predicted samples. Use `zero_division` parameter to control this behavior.\n",
      "  _warn_prf(average, modifier, msg_start, len(result))\n",
      "/opt/homebrew/lib/python3.11/site-packages/sklearn/metrics/_classification.py:1471: UndefinedMetricWarning: Precision and F-score are ill-defined and being set to 0.0 in labels with no predicted samples. Use `zero_division` parameter to control this behavior.\n",
      "  _warn_prf(average, modifier, msg_start, len(result))\n",
      "/opt/homebrew/lib/python3.11/site-packages/sklearn/metrics/_classification.py:1471: UndefinedMetricWarning: Precision and F-score are ill-defined and being set to 0.0 in labels with no predicted samples. Use `zero_division` parameter to control this behavior.\n",
      "  _warn_prf(average, modifier, msg_start, len(result))\n"
     ]
    }
   ],
   "source": [
    "# Convert one-hot encoded arrays back to class labels\n",
    "y_true = y_train2 # Convert one-hot encoded y to class labels\n",
    "y_pred = yhat.argmax(axis=1)  # Convert one-hot encoded y_hat to class labels\n",
    "\n",
    "# Generate classification report\n",
    "report = classification_report(y_true, y_pred)\n",
    "\n",
    "# Print the classification report\n",
    "print(report)"
   ]
  },
  {
   "cell_type": "markdown",
   "metadata": {},
   "source": [
    "Remember that the dataset is quite inbalanced"
   ]
  },
  {
   "cell_type": "code",
   "execution_count": 99,
   "metadata": {},
   "outputs": [
    {
     "data": {
      "text/plain": [
       "label\n",
       "1    37195\n",
       "0    17995\n",
       "3    10727\n",
       "2     8567\n",
       "7     5042\n",
       "4      357\n",
       "6      152\n",
       "5      141\n",
       "Name: count, dtype: int64"
      ]
     },
     "execution_count": 99,
     "metadata": {},
     "output_type": "execute_result"
    }
   ],
   "source": [
    "y2.value_counts()"
   ]
  },
  {
   "cell_type": "markdown",
   "metadata": {},
   "source": [
    "### Using oversampling"
   ]
  },
  {
   "cell_type": "code",
   "execution_count": 100,
   "metadata": {},
   "outputs": [],
   "source": [
    "oversample = RandomOverSampler()"
   ]
  },
  {
   "cell_type": "code",
   "execution_count": 101,
   "metadata": {},
   "outputs": [],
   "source": [
    "X2 = deep_df.drop(columns=['label']) \n",
    "y2 = deep_df['label']"
   ]
  },
  {
   "cell_type": "code",
   "execution_count": 102,
   "metadata": {},
   "outputs": [
    {
     "data": {
      "text/plain": [
       "label\n",
       "2    37195\n",
       "1    37195\n",
       "3    37195\n",
       "7    37195\n",
       "0    37195\n",
       "4    37195\n",
       "6    37195\n",
       "5    37195\n",
       "Name: count, dtype: int64"
      ]
     },
     "execution_count": 102,
     "metadata": {},
     "output_type": "execute_result"
    }
   ],
   "source": [
    "X_over, y_over = oversample.fit_resample(X2, y2)\n",
    "y_over.value_counts()"
   ]
  },
  {
   "cell_type": "code",
   "execution_count": 103,
   "metadata": {},
   "outputs": [],
   "source": [
    "X_train2, X_test2, y_train2, y_test2 = train_test_split(X_over, y_over, test_size=0.2, random_state=42)\n"
   ]
  },
  {
   "cell_type": "code",
   "execution_count": 104,
   "metadata": {},
   "outputs": [],
   "source": [
    "Xtensor = tf.convert_to_tensor(X_train2)\n",
    "ytensor = tf.convert_to_tensor(y_train2)"
   ]
  },
  {
   "cell_type": "code",
   "execution_count": 105,
   "metadata": {},
   "outputs": [],
   "source": [
    "model = Sequential(\n",
    "    [\n",
    "        Dense(15, activation='relu', name = 'layer1'),\n",
    "        Dense(13, activation='relu', name = 'layer2'),\n",
    "        Dense(11, activation='relu', name = 'layer3'),\n",
    "        Dense(20, activation='relu', name = 'layer4'),\n",
    "        Dense(15, activation='relu', name = 'layer5'),\n",
    "        Dense(8, activation='linear')\n",
    "     ]\n",
    ")"
   ]
  },
  {
   "cell_type": "code",
   "execution_count": 106,
   "metadata": {},
   "outputs": [
    {
     "name": "stderr",
     "output_type": "stream",
     "text": [
      "WARNING:absl:At this time, the v2.11+ optimizer `tf.keras.optimizers.Adam` runs slowly on M1/M2 Macs, please use the legacy Keras optimizer instead, located at `tf.keras.optimizers.legacy.Adam`.\n"
     ]
    }
   ],
   "source": [
    "model.compile(\n",
    "    loss = tf.keras.losses.SparseCategoricalCrossentropy(from_logits=True),\n",
    "    optimizer = tf.keras.optimizers.Adam(learning_rate=0.001)\n",
    ")"
   ]
  },
  {
   "cell_type": "code",
   "execution_count": 107,
   "metadata": {},
   "outputs": [
    {
     "name": "stdout",
     "output_type": "stream",
     "text": [
      "Epoch 1/50\n",
      "7439/7439 [==============================] - 4s 487us/step - loss: 0.9642\n",
      "Epoch 2/50\n",
      "7439/7439 [==============================] - 4s 495us/step - loss: 0.7787\n",
      "Epoch 3/50\n",
      "7439/7439 [==============================] - 4s 501us/step - loss: 0.7285\n",
      "Epoch 4/50\n",
      "7439/7439 [==============================] - 4s 522us/step - loss: 0.6991\n",
      "Epoch 5/50\n",
      "7439/7439 [==============================] - 4s 507us/step - loss: 0.6808\n",
      "Epoch 6/50\n",
      "7439/7439 [==============================] - 4s 488us/step - loss: 0.6686\n",
      "Epoch 7/50\n",
      "7439/7439 [==============================] - 4s 535us/step - loss: 0.6575\n",
      "Epoch 8/50\n",
      "7439/7439 [==============================] - 4s 545us/step - loss: 0.6462\n",
      "Epoch 9/50\n",
      "7439/7439 [==============================] - 4s 495us/step - loss: 0.6396\n",
      "Epoch 10/50\n",
      "7439/7439 [==============================] - 4s 516us/step - loss: 0.6325\n",
      "Epoch 11/50\n",
      "7439/7439 [==============================] - 4s 471us/step - loss: 0.6249\n",
      "Epoch 12/50\n",
      "7439/7439 [==============================] - 4s 545us/step - loss: 0.6203\n",
      "Epoch 13/50\n",
      "7439/7439 [==============================] - 5s 655us/step - loss: 0.6159\n",
      "Epoch 14/50\n",
      "7439/7439 [==============================] - 4s 488us/step - loss: 0.6115\n",
      "Epoch 15/50\n",
      "7439/7439 [==============================] - 4s 488us/step - loss: 0.6093\n",
      "Epoch 16/50\n",
      "7439/7439 [==============================] - 4s 497us/step - loss: 0.6057\n",
      "Epoch 17/50\n",
      "7439/7439 [==============================] - 3s 457us/step - loss: 0.6022\n",
      "Epoch 18/50\n",
      "7439/7439 [==============================] - 3s 454us/step - loss: 0.5987\n",
      "Epoch 19/50\n",
      "7439/7439 [==============================] - 4s 485us/step - loss: 0.5969\n",
      "Epoch 20/50\n",
      "7439/7439 [==============================] - 4s 493us/step - loss: 0.5945\n",
      "Epoch 21/50\n",
      "7439/7439 [==============================] - 4s 489us/step - loss: 0.5921\n",
      "Epoch 22/50\n",
      "7439/7439 [==============================] - 4s 496us/step - loss: 0.5897\n",
      "Epoch 23/50\n",
      "7439/7439 [==============================] - 4s 510us/step - loss: 0.5867\n",
      "Epoch 24/50\n",
      "7439/7439 [==============================] - 3s 467us/step - loss: 0.5848\n",
      "Epoch 25/50\n",
      "7439/7439 [==============================] - 4s 495us/step - loss: 0.5828\n",
      "Epoch 26/50\n",
      "7439/7439 [==============================] - 4s 525us/step - loss: 0.5800\n",
      "Epoch 27/50\n",
      "7439/7439 [==============================] - 4s 500us/step - loss: 0.5777\n",
      "Epoch 28/50\n",
      "7439/7439 [==============================] - 3s 468us/step - loss: 0.5752\n",
      "Epoch 29/50\n",
      "7439/7439 [==============================] - 3s 454us/step - loss: 0.5737\n",
      "Epoch 30/50\n",
      "7439/7439 [==============================] - 4s 484us/step - loss: 0.5719\n",
      "Epoch 31/50\n",
      "7439/7439 [==============================] - 4s 518us/step - loss: 0.5696\n",
      "Epoch 32/50\n",
      "7439/7439 [==============================] - 4s 488us/step - loss: 0.5682\n",
      "Epoch 33/50\n",
      "7439/7439 [==============================] - 4s 486us/step - loss: 0.5685\n",
      "Epoch 34/50\n",
      "7439/7439 [==============================] - 3s 468us/step - loss: 0.5648\n",
      "Epoch 35/50\n",
      "7439/7439 [==============================] - 4s 498us/step - loss: 0.5640\n",
      "Epoch 36/50\n",
      "7439/7439 [==============================] - 3s 468us/step - loss: 0.5631\n",
      "Epoch 37/50\n",
      "7439/7439 [==============================] - 4s 481us/step - loss: 0.5603\n",
      "Epoch 38/50\n",
      "7439/7439 [==============================] - 4s 480us/step - loss: 0.5586\n",
      "Epoch 39/50\n",
      "7439/7439 [==============================] - 3s 468us/step - loss: 0.5588\n",
      "Epoch 40/50\n",
      "7439/7439 [==============================] - 4s 522us/step - loss: 0.5558\n",
      "Epoch 41/50\n",
      "7439/7439 [==============================] - 4s 486us/step - loss: 0.5566\n",
      "Epoch 42/50\n",
      "7439/7439 [==============================] - 3s 470us/step - loss: 0.5533\n",
      "Epoch 43/50\n",
      "7439/7439 [==============================] - 3s 469us/step - loss: 0.5535\n",
      "Epoch 44/50\n",
      "7439/7439 [==============================] - 4s 500us/step - loss: 0.5519\n",
      "Epoch 45/50\n",
      "7439/7439 [==============================] - 4s 470us/step - loss: 0.5510\n",
      "Epoch 46/50\n",
      "7439/7439 [==============================] - 3s 453us/step - loss: 0.5518\n",
      "Epoch 47/50\n",
      "7439/7439 [==============================] - 4s 484us/step - loss: 0.5495\n",
      "Epoch 48/50\n",
      "7439/7439 [==============================] - 4s 503us/step - loss: 0.5489\n",
      "Epoch 49/50\n",
      "7439/7439 [==============================] - 4s 471us/step - loss: 0.5474\n",
      "Epoch 50/50\n",
      "7439/7439 [==============================] - 4s 557us/step - loss: 0.5461\n"
     ]
    },
    {
     "data": {
      "text/plain": [
       "<keras.src.callbacks.History at 0x29e435850>"
      ]
     },
     "execution_count": 107,
     "metadata": {},
     "output_type": "execute_result"
    }
   ],
   "source": [
    "model.fit(\n",
    "    Xtensor,ytensor,            \n",
    "    epochs=50,\n",
    ")"
   ]
  },
  {
   "cell_type": "code",
   "execution_count": 108,
   "metadata": {},
   "outputs": [
    {
     "data": {
      "text/plain": [
       "0.5344462394714355"
      ]
     },
     "execution_count": 108,
     "metadata": {},
     "output_type": "execute_result"
    }
   ],
   "source": [
    "loss = model.evaluate(Xtensor, ytensor, verbose=0)\n",
    "loss"
   ]
  },
  {
   "cell_type": "code",
   "execution_count": 109,
   "metadata": {},
   "outputs": [
    {
     "name": "stdout",
     "output_type": "stream",
     "text": [
      "7439/7439 [==============================] - 3s 402us/step\n"
     ]
    }
   ],
   "source": [
    "yhat = model.predict(X_train2)"
   ]
  },
  {
   "cell_type": "code",
   "execution_count": 110,
   "metadata": {},
   "outputs": [
    {
     "name": "stdout",
     "output_type": "stream",
     "text": [
      "              precision    recall  f1-score   support\n",
      "\n",
      "           0       0.59      0.65      0.62     29752\n",
      "           1       0.60      0.15      0.24     29721\n",
      "           2       0.63      0.76      0.69     29826\n",
      "           3       0.78      0.92      0.84     29777\n",
      "           4       0.88      0.98      0.93     29641\n",
      "           5       0.98      1.00      0.99     29733\n",
      "           6       0.96      1.00      0.98     29812\n",
      "           7       0.88      0.94      0.91     29786\n",
      "\n",
      "    accuracy                           0.80    238048\n",
      "   macro avg       0.79      0.80      0.77    238048\n",
      "weighted avg       0.79      0.80      0.77    238048\n",
      "\n"
     ]
    }
   ],
   "source": [
    "# Convert one-hot encoded arrays back to class labels\n",
    "y_true = y_train2 # Convert one-hot encoded y to class labels\n",
    "y_pred = yhat.argmax(axis=1)  # Convert one-hot encoded y_hat to class labels\n",
    "\n",
    "# Generate classification report\n",
    "report = classification_report(y_true, y_pred)\n",
    "\n",
    "# Print the classification report\n",
    "print(report)"
   ]
  },
  {
   "cell_type": "code",
   "execution_count": 111,
   "metadata": {},
   "outputs": [
    {
     "name": "stdout",
     "output_type": "stream",
     "text": [
      "1860/1860 [==============================] - 1s 296us/step\n"
     ]
    }
   ],
   "source": [
    "yhat = model.predict(X_test2)"
   ]
  },
  {
   "cell_type": "code",
   "execution_count": 112,
   "metadata": {},
   "outputs": [
    {
     "name": "stdout",
     "output_type": "stream",
     "text": [
      "              precision    recall  f1-score   support\n",
      "\n",
      "           0       0.59      0.66      0.62      7443\n",
      "           1       0.58      0.15      0.23      7474\n",
      "           2       0.63      0.76      0.69      7369\n",
      "           3       0.78      0.92      0.84      7418\n",
      "           4       0.88      0.99      0.93      7554\n",
      "           5       0.97      1.00      0.99      7462\n",
      "           6       0.96      1.00      0.98      7383\n",
      "           7       0.88      0.94      0.91      7409\n",
      "\n",
      "    accuracy                           0.80     59512\n",
      "   macro avg       0.78      0.80      0.77     59512\n",
      "weighted avg       0.78      0.80      0.77     59512\n",
      "\n"
     ]
    }
   ],
   "source": [
    "# Convert one-hot encoded arrays back to class labels\n",
    "y_true = y_test2  # Convert one-hot encoded y to class labels\n",
    "y_pred = yhat.argmax(axis=1)  # Convert one-hot encoded y_hat to class labels\n",
    "\n",
    "# Generate classification report\n",
    "report = classification_report(y_true, y_pred)\n",
    "\n",
    "# Print the classification report\n",
    "print(report)"
   ]
  },
  {
   "cell_type": "markdown",
   "metadata": {},
   "source": [
    "Using Cross validation to select the models"
   ]
  },
  {
   "cell_type": "code",
   "execution_count": 123,
   "metadata": {},
   "outputs": [],
   "source": [
    "X_train_BC, X_, y_train_BC, y_= train_test_split(X_over, y_over, test_size=0.2, random_state=42)\n",
    "X_val_CV, X_test_CV, y_val_CV, y_test_CV= train_test_split(X_, y_, test_size=0.5, random_state=42)\n"
   ]
  },
  {
   "cell_type": "code",
   "execution_count": 140,
   "metadata": {},
   "outputs": [],
   "source": [
    "model1 = Sequential(\n",
    "    [\n",
    "        Dense(15, activation='relu', name = 'layer1'),\n",
    "        Dense(13, activation='relu', name = 'layer2'),\n",
    "        Dense(11, activation='relu', name = 'layer3'),\n",
    "        Dense(20, activation='relu', name = 'layer4'),\n",
    "        Dense(15, activation='relu', name = 'layer5'),\n",
    "        Dense(8, activation='linear')\n",
    "     ]\n",
    ")\n",
    "\n",
    "model2 = Sequential(\n",
    "    [\n",
    "        Dense(15, activation='relu', name = 'layer1'),\n",
    "        Dense(13, activation='relu', name = 'layer2'),\n",
    "        Dense(20, activation='relu', name = 'layer3'),\n",
    "        Dense(8, activation='linear')\n",
    "     ]\n",
    ")\n",
    "\n",
    "model3 = Sequential(\n",
    "    [\n",
    "        Dense(15, activation='relu', name = 'layer1'),\n",
    "        Dense(20, activation='relu', name = 'layer2'),\n",
    "        Dense(35, activation='relu', name = 'layer3'),\n",
    "        Dense(23, activation='relu', name = 'layer4'),\n",
    "        Dense(31, activation='relu', name = 'layer5'),\n",
    "        Dense(20, activation='relu', name = 'layer6'),\n",
    "        Dense(15, activation='relu', name = 'layer7'),\n",
    "        Dense(8, activation='linear')\n",
    "     ]\n",
    ")"
   ]
  },
  {
   "cell_type": "code",
   "execution_count": 141,
   "metadata": {},
   "outputs": [
    {
     "name": "stderr",
     "output_type": "stream",
     "text": [
      "WARNING:absl:At this time, the v2.11+ optimizer `tf.keras.optimizers.Adam` runs slowly on M1/M2 Macs, please use the legacy Keras optimizer instead, located at `tf.keras.optimizers.legacy.Adam`.\n"
     ]
    },
    {
     "name": "stdout",
     "output_type": "stream",
     "text": [
      "Training sequential_15...\n",
      "7439/7439 [==============================] - 2s 286us/step\n",
      "930/930 [==============================] - 0s 332us/step\n"
     ]
    },
    {
     "name": "stderr",
     "output_type": "stream",
     "text": [
      "WARNING:absl:At this time, the v2.11+ optimizer `tf.keras.optimizers.Adam` runs slowly on M1/M2 Macs, please use the legacy Keras optimizer instead, located at `tf.keras.optimizers.legacy.Adam`.\n"
     ]
    },
    {
     "name": "stdout",
     "output_type": "stream",
     "text": [
      "Training sequential_16...\n",
      "7439/7439 [==============================] - 2s 272us/step\n",
      "930/930 [==============================] - 0s 293us/step\n"
     ]
    },
    {
     "name": "stderr",
     "output_type": "stream",
     "text": [
      "WARNING:absl:At this time, the v2.11+ optimizer `tf.keras.optimizers.Adam` runs slowly on M1/M2 Macs, please use the legacy Keras optimizer instead, located at `tf.keras.optimizers.legacy.Adam`.\n"
     ]
    },
    {
     "name": "stdout",
     "output_type": "stream",
     "text": [
      "Training sequential_17...\n",
      "7439/7439 [==============================] - 2s 311us/step\n",
      "930/930 [==============================] - 0s 314us/step\n",
      "Model 1: Training Set Classification Error: 0.76537, CV Set Classification Error: 0.76241\n",
      "Model 2: Training Set Classification Error: 0.77604, CV Set Classification Error: 0.77532\n",
      "Model 3: Training Set Classification Error: 0.79195, CV Set Classification Error: 0.78849\n"
     ]
    }
   ],
   "source": [
    "# Initialize lists that will contain the errors for each model\n",
    "nn_train_error = []\n",
    "nn_cv_error = []\n",
    "\n",
    "# Build the models\n",
    "models_bc = [model1, model2, model3]\n",
    "\n",
    "# Loop over each model\n",
    "for model in models_bc:\n",
    "    \n",
    "    # Setup the loss and optimizer\n",
    "    model.compile(\n",
    "        loss = tf.keras.losses.SparseCategoricalCrossentropy(from_logits=True),\n",
    "        optimizer = tf.keras.optimizers.Adam(learning_rate=0.001)\n",
    "    )\n",
    "\n",
    "    print(f\"Training {model.name}...\")\n",
    "\n",
    "    # Train the model\n",
    "    model.fit(\n",
    "        Xtensor,ytensor,            \n",
    "        epochs=10,\n",
    "        verbose=0\n",
    "    )\n",
    "    \n",
    "    # Record the fraction of misclassified examples for the training set\n",
    "    yhat = model.predict(X_train_BC)\n",
    "\n",
    "    y_true = y_train_BC # Convert one-hot encoded y to class labels\n",
    "    y_pred = yhat.argmax(axis=1)  # Convert one-hot encoded y_hat to class labels\n",
    "\n",
    "    f1modelscore = f1_score(y_true, y_pred, average = 'weighted')\n",
    "    \n",
    "    nn_train_error.append(f1modelscore)\n",
    "\n",
    "    # Record the fraction of misclassified examples for the training set\n",
    "    yhat = model.predict(X_val_CV)\n",
    "\n",
    "    y_true = y_val_CV # Convert one-hot encoded y to class labels\n",
    "    y_pred = yhat.argmax(axis=1)  # Convert one-hot encoded y_hat to class labels\n",
    "\n",
    "    f1modelscore = f1_score(y_true, y_pred, average = 'weighted')\n",
    "\n",
    "    nn_cv_error.append(f1modelscore)\n",
    "\n",
    "\n",
    "# Print the result\n",
    "for model_num in range(len(nn_train_error)):\n",
    "    print(\n",
    "        f\"Model {model_num+1}: Training Set Classification Error: {nn_train_error[model_num]:.5f}, \" +\n",
    "        f\"CV Set Classification Error: {nn_cv_error[model_num]:.5f}\"\n",
    "        )"
   ]
  },
  {
   "cell_type": "markdown",
   "metadata": {},
   "source": [
    "### Selecting the best perfoming model"
   ]
  },
  {
   "cell_type": "code",
   "execution_count": 127,
   "metadata": {},
   "outputs": [
    {
     "name": "stdout",
     "output_type": "stream",
     "text": [
      "930/930 [==============================] - 0s 421us/step\n",
      "Selected Model: 2\n",
      "Training Set Classification Error: 0.7472\n",
      "CV Set Classification Error: 0.7475\n",
      "Test Set Classification Error: 0.7467\n"
     ]
    }
   ],
   "source": [
    "# Select the model with the lowest error\n",
    "model_num = 2\n",
    "\n",
    "# Compute the test error\n",
    "yhat = models_bc[model_num-1].predict(X_test_CV)\n",
    "y_true = y_test_CV \n",
    "y_pred = yhat.argmax(axis=1) \n",
    "f1modelscore = f1_score(y_true, y_pred, average = 'weighted')\n",
    "\n",
    "\n",
    "print(f\"Selected Model: {model_num}\")\n",
    "print(f\"Training Set Classification Error: {nn_train_error[model_num-1]:.4f}\")\n",
    "print(f\"CV Set Classification Error: {nn_cv_error[model_num-1]:.4f}\")\n",
    "print(f\"Test Set Classification Error: {f1modelscore:.4f}\")"
   ]
  },
  {
   "cell_type": "markdown",
   "metadata": {},
   "source": [
    "Adding Learning Curves"
   ]
  },
  {
   "cell_type": "code",
   "execution_count": 128,
   "metadata": {},
   "outputs": [],
   "source": [
    "from sklearn.model_selection import learning_curve"
   ]
  },
  {
   "cell_type": "code",
   "execution_count": 130,
   "metadata": {},
   "outputs": [
    {
     "name": "stdout",
     "output_type": "stream",
     "text": [
      "\u001b[0;31mSignature:\u001b[0m\n",
      "\u001b[0mlearning_curve\u001b[0m\u001b[0;34m(\u001b[0m\u001b[0;34m\u001b[0m\n",
      "\u001b[0;34m\u001b[0m    \u001b[0mestimator\u001b[0m\u001b[0;34m,\u001b[0m\u001b[0;34m\u001b[0m\n",
      "\u001b[0;34m\u001b[0m    \u001b[0mX\u001b[0m\u001b[0;34m,\u001b[0m\u001b[0;34m\u001b[0m\n",
      "\u001b[0;34m\u001b[0m    \u001b[0my\u001b[0m\u001b[0;34m,\u001b[0m\u001b[0;34m\u001b[0m\n",
      "\u001b[0;34m\u001b[0m    \u001b[0;34m*\u001b[0m\u001b[0;34m,\u001b[0m\u001b[0;34m\u001b[0m\n",
      "\u001b[0;34m\u001b[0m    \u001b[0mgroups\u001b[0m\u001b[0;34m=\u001b[0m\u001b[0;32mNone\u001b[0m\u001b[0;34m,\u001b[0m\u001b[0;34m\u001b[0m\n",
      "\u001b[0;34m\u001b[0m    \u001b[0mtrain_sizes\u001b[0m\u001b[0;34m=\u001b[0m\u001b[0marray\u001b[0m\u001b[0;34m(\u001b[0m\u001b[0;34m[\u001b[0m\u001b[0;36m0.1\u001b[0m  \u001b[0;34m,\u001b[0m \u001b[0;36m0.325\u001b[0m\u001b[0;34m,\u001b[0m \u001b[0;36m0.55\u001b[0m \u001b[0;34m,\u001b[0m \u001b[0;36m0.775\u001b[0m\u001b[0;34m,\u001b[0m \u001b[0;36m1.\u001b[0m   \u001b[0;34m]\u001b[0m\u001b[0;34m)\u001b[0m\u001b[0;34m,\u001b[0m\u001b[0;34m\u001b[0m\n",
      "\u001b[0;34m\u001b[0m    \u001b[0mcv\u001b[0m\u001b[0;34m=\u001b[0m\u001b[0;32mNone\u001b[0m\u001b[0;34m,\u001b[0m\u001b[0;34m\u001b[0m\n",
      "\u001b[0;34m\u001b[0m    \u001b[0mscoring\u001b[0m\u001b[0;34m=\u001b[0m\u001b[0;32mNone\u001b[0m\u001b[0;34m,\u001b[0m\u001b[0;34m\u001b[0m\n",
      "\u001b[0;34m\u001b[0m    \u001b[0mexploit_incremental_learning\u001b[0m\u001b[0;34m=\u001b[0m\u001b[0;32mFalse\u001b[0m\u001b[0;34m,\u001b[0m\u001b[0;34m\u001b[0m\n",
      "\u001b[0;34m\u001b[0m    \u001b[0mn_jobs\u001b[0m\u001b[0;34m=\u001b[0m\u001b[0;32mNone\u001b[0m\u001b[0;34m,\u001b[0m\u001b[0;34m\u001b[0m\n",
      "\u001b[0;34m\u001b[0m    \u001b[0mpre_dispatch\u001b[0m\u001b[0;34m=\u001b[0m\u001b[0;34m'all'\u001b[0m\u001b[0;34m,\u001b[0m\u001b[0;34m\u001b[0m\n",
      "\u001b[0;34m\u001b[0m    \u001b[0mverbose\u001b[0m\u001b[0;34m=\u001b[0m\u001b[0;36m0\u001b[0m\u001b[0;34m,\u001b[0m\u001b[0;34m\u001b[0m\n",
      "\u001b[0;34m\u001b[0m    \u001b[0mshuffle\u001b[0m\u001b[0;34m=\u001b[0m\u001b[0;32mFalse\u001b[0m\u001b[0;34m,\u001b[0m\u001b[0;34m\u001b[0m\n",
      "\u001b[0;34m\u001b[0m    \u001b[0mrandom_state\u001b[0m\u001b[0;34m=\u001b[0m\u001b[0;32mNone\u001b[0m\u001b[0;34m,\u001b[0m\u001b[0;34m\u001b[0m\n",
      "\u001b[0;34m\u001b[0m    \u001b[0merror_score\u001b[0m\u001b[0;34m=\u001b[0m\u001b[0mnan\u001b[0m\u001b[0;34m,\u001b[0m\u001b[0;34m\u001b[0m\n",
      "\u001b[0;34m\u001b[0m    \u001b[0mreturn_times\u001b[0m\u001b[0;34m=\u001b[0m\u001b[0;32mFalse\u001b[0m\u001b[0;34m,\u001b[0m\u001b[0;34m\u001b[0m\n",
      "\u001b[0;34m\u001b[0m    \u001b[0mfit_params\u001b[0m\u001b[0;34m=\u001b[0m\u001b[0;32mNone\u001b[0m\u001b[0;34m,\u001b[0m\u001b[0;34m\u001b[0m\n",
      "\u001b[0;34m\u001b[0m\u001b[0;34m)\u001b[0m\u001b[0;34m\u001b[0m\u001b[0;34m\u001b[0m\u001b[0m\n",
      "\u001b[0;31mDocstring:\u001b[0m\n",
      "Learning curve.\n",
      "\n",
      "Determines cross-validated training and test scores for different training\n",
      "set sizes.\n",
      "\n",
      "A cross-validation generator splits the whole dataset k times in training\n",
      "and test data. Subsets of the training set with varying sizes will be used\n",
      "to train the estimator and a score for each training subset size and the\n",
      "test set will be computed. Afterwards, the scores will be averaged over\n",
      "all k runs for each training subset size.\n",
      "\n",
      "Read more in the :ref:`User Guide <learning_curve>`.\n",
      "\n",
      "Parameters\n",
      "----------\n",
      "estimator : object type that implements the \"fit\" method\n",
      "    An object of that type which is cloned for each validation. It must\n",
      "    also implement \"predict\" unless `scoring` is a callable that doesn't\n",
      "    rely on \"predict\" to compute a score.\n",
      "\n",
      "X : {array-like, sparse matrix} of shape (n_samples, n_features)\n",
      "    Training vector, where `n_samples` is the number of samples and\n",
      "    `n_features` is the number of features.\n",
      "\n",
      "y : array-like of shape (n_samples,) or (n_samples, n_outputs) or None\n",
      "    Target relative to X for classification or regression;\n",
      "    None for unsupervised learning.\n",
      "\n",
      "groups : array-like of shape (n_samples,), default=None\n",
      "    Group labels for the samples used while splitting the dataset into\n",
      "    train/test set. Only used in conjunction with a \"Group\" :term:`cv`\n",
      "    instance (e.g., :class:`GroupKFold`).\n",
      "\n",
      "train_sizes : array-like of shape (n_ticks,),             default=np.linspace(0.1, 1.0, 5)\n",
      "    Relative or absolute numbers of training examples that will be used to\n",
      "    generate the learning curve. If the dtype is float, it is regarded as a\n",
      "    fraction of the maximum size of the training set (that is determined\n",
      "    by the selected validation method), i.e. it has to be within (0, 1].\n",
      "    Otherwise it is interpreted as absolute sizes of the training sets.\n",
      "    Note that for classification the number of samples usually have to\n",
      "    be big enough to contain at least one sample from each class.\n",
      "\n",
      "cv : int, cross-validation generator or an iterable, default=None\n",
      "    Determines the cross-validation splitting strategy.\n",
      "    Possible inputs for cv are:\n",
      "\n",
      "    - None, to use the default 5-fold cross validation,\n",
      "    - int, to specify the number of folds in a `(Stratified)KFold`,\n",
      "    - :term:`CV splitter`,\n",
      "    - An iterable yielding (train, test) splits as arrays of indices.\n",
      "\n",
      "    For int/None inputs, if the estimator is a classifier and ``y`` is\n",
      "    either binary or multiclass, :class:`StratifiedKFold` is used. In all\n",
      "    other cases, :class:`KFold` is used. These splitters are instantiated\n",
      "    with `shuffle=False` so the splits will be the same across calls.\n",
      "\n",
      "    Refer :ref:`User Guide <cross_validation>` for the various\n",
      "    cross-validation strategies that can be used here.\n",
      "\n",
      "    .. versionchanged:: 0.22\n",
      "        ``cv`` default value if None changed from 3-fold to 5-fold.\n",
      "\n",
      "scoring : str or callable, default=None\n",
      "    A str (see model evaluation documentation) or\n",
      "    a scorer callable object / function with signature\n",
      "    ``scorer(estimator, X, y)``.\n",
      "\n",
      "exploit_incremental_learning : bool, default=False\n",
      "    If the estimator supports incremental learning, this will be\n",
      "    used to speed up fitting for different training set sizes.\n",
      "\n",
      "n_jobs : int, default=None\n",
      "    Number of jobs to run in parallel. Training the estimator and computing\n",
      "    the score are parallelized over the different training and test sets.\n",
      "    ``None`` means 1 unless in a :obj:`joblib.parallel_backend` context.\n",
      "    ``-1`` means using all processors. See :term:`Glossary <n_jobs>`\n",
      "    for more details.\n",
      "\n",
      "pre_dispatch : int or str, default='all'\n",
      "    Number of predispatched jobs for parallel execution (default is\n",
      "    all). The option can reduce the allocated memory. The str can\n",
      "    be an expression like '2*n_jobs'.\n",
      "\n",
      "verbose : int, default=0\n",
      "    Controls the verbosity: the higher, the more messages.\n",
      "\n",
      "shuffle : bool, default=False\n",
      "    Whether to shuffle training data before taking prefixes of it\n",
      "    based on``train_sizes``.\n",
      "\n",
      "random_state : int, RandomState instance or None, default=None\n",
      "    Used when ``shuffle`` is True. Pass an int for reproducible\n",
      "    output across multiple function calls.\n",
      "    See :term:`Glossary <random_state>`.\n",
      "\n",
      "error_score : 'raise' or numeric, default=np.nan\n",
      "    Value to assign to the score if an error occurs in estimator fitting.\n",
      "    If set to 'raise', the error is raised.\n",
      "    If a numeric value is given, FitFailedWarning is raised.\n",
      "\n",
      "    .. versionadded:: 0.20\n",
      "\n",
      "return_times : bool, default=False\n",
      "    Whether to return the fit and score times.\n",
      "\n",
      "fit_params : dict, default=None\n",
      "    Parameters to pass to the fit method of the estimator.\n",
      "\n",
      "    .. versionadded:: 0.24\n",
      "\n",
      "Returns\n",
      "-------\n",
      "train_sizes_abs : array of shape (n_unique_ticks,)\n",
      "    Numbers of training examples that has been used to generate the\n",
      "    learning curve. Note that the number of ticks might be less\n",
      "    than n_ticks because duplicate entries will be removed.\n",
      "\n",
      "train_scores : array of shape (n_ticks, n_cv_folds)\n",
      "    Scores on training sets.\n",
      "\n",
      "test_scores : array of shape (n_ticks, n_cv_folds)\n",
      "    Scores on test set.\n",
      "\n",
      "fit_times : array of shape (n_ticks, n_cv_folds)\n",
      "    Times spent for fitting in seconds. Only present if ``return_times``\n",
      "    is True.\n",
      "\n",
      "score_times : array of shape (n_ticks, n_cv_folds)\n",
      "    Times spent for scoring in seconds. Only present if ``return_times``\n",
      "    is True.\n",
      "\n",
      "Examples\n",
      "--------\n",
      ">>> from sklearn.datasets import make_classification\n",
      ">>> from sklearn.tree import DecisionTreeClassifier\n",
      ">>> from sklearn.model_selection import learning_curve\n",
      ">>> X, y = make_classification(n_samples=100, n_features=10, random_state=42)\n",
      ">>> tree = DecisionTreeClassifier(max_depth=4, random_state=42)\n",
      ">>> train_size_abs, train_scores, test_scores = learning_curve(\n",
      "...     tree, X, y, train_sizes=[0.3, 0.6, 0.9]\n",
      "... )\n",
      ">>> for train_size, cv_train_scores, cv_test_scores in zip(\n",
      "...     train_size_abs, train_scores, test_scores\n",
      "... ):\n",
      "...     print(f\"{train_size} samples were used to train the model\")\n",
      "...     print(f\"The average train accuracy is {cv_train_scores.mean():.2f}\")\n",
      "...     print(f\"The average test accuracy is {cv_test_scores.mean():.2f}\")\n",
      "24 samples were used to train the model\n",
      "The average train accuracy is 1.00\n",
      "The average test accuracy is 0.85\n",
      "48 samples were used to train the model\n",
      "The average train accuracy is 1.00\n",
      "The average test accuracy is 0.90\n",
      "72 samples were used to train the model\n",
      "The average train accuracy is 1.00\n",
      "The average test accuracy is 0.93\n",
      "\u001b[0;31mFile:\u001b[0m      /opt/homebrew/lib/python3.11/site-packages/sklearn/model_selection/_validation.py\n",
      "\u001b[0;31mType:\u001b[0m      function"
     ]
    }
   ],
   "source": [
    "?learning_curve"
   ]
  },
  {
   "cell_type": "code",
   "execution_count": 134,
   "metadata": {},
   "outputs": [
    {
     "name": "stderr",
     "output_type": "stream",
     "text": [
      "WARNING:absl:At this time, the v2.11+ optimizer `tf.keras.optimizers.Adam` runs slowly on M1/M2 Macs, please use the legacy Keras optimizer instead, located at `tf.keras.optimizers.legacy.Adam`.\n"
     ]
    }
   ],
   "source": [
    "model1 = Sequential(\n",
    "    [\n",
    "        Dense(15, activation='relu', name = 'layer1'),\n",
    "        Dense(13, activation='relu', name = 'layer2'),\n",
    "        Dense(11, activation='relu', name = 'layer3'),\n",
    "        Dense(20, activation='relu', name = 'layer4'),\n",
    "        Dense(15, activation='relu', name = 'layer5'),\n",
    "        Dense(8, activation='linear')\n",
    "     ]\n",
    ")\n",
    "model1.compile(\n",
    "    loss = tf.keras.losses.SparseCategoricalCrossentropy(from_logits=True),\n",
    "    optimizer = tf.keras.optimizers.Adam(learning_rate=0.001)\n",
    ")"
   ]
  },
  {
   "cell_type": "code",
   "execution_count": 135,
   "metadata": {},
   "outputs": [
    {
     "ename": "TypeError",
     "evalue": "If no scoring is specified, the estimator passed should have a 'score' method. The estimator <keras.src.engine.sequential.Sequential object at 0x29801dc50> does not.",
     "output_type": "error",
     "traceback": [
      "\u001b[0;31m---------------------------------------------------------------------------\u001b[0m",
      "\u001b[0;31mTypeError\u001b[0m                                 Traceback (most recent call last)",
      "Cell \u001b[0;32mIn[135], line 1\u001b[0m\n\u001b[0;32m----> 1\u001b[0m train_size_abs, train_scores, test_scores \u001b[38;5;241m=\u001b[39m \u001b[43mlearning_curve\u001b[49m\u001b[43m(\u001b[49m\n\u001b[1;32m      2\u001b[0m \u001b[43m    \u001b[49m\u001b[43mmodel1\u001b[49m\u001b[43m,\u001b[49m\u001b[43m \u001b[49m\u001b[43mXtensor\u001b[49m\u001b[43m,\u001b[49m\u001b[43m \u001b[49m\u001b[43mytensor\u001b[49m\u001b[43m,\u001b[49m\u001b[43m \u001b[49m\u001b[43mtrain_sizes\u001b[49m\u001b[38;5;241;43m=\u001b[39;49m\u001b[43m[\u001b[49m\u001b[38;5;241;43m0.3\u001b[39;49m\u001b[43m,\u001b[49m\u001b[43m \u001b[49m\u001b[38;5;241;43m0.6\u001b[39;49m\u001b[43m,\u001b[49m\u001b[43m \u001b[49m\u001b[38;5;241;43m0.9\u001b[39;49m\u001b[43m]\u001b[49m\u001b[43m,\u001b[49m\u001b[43m \u001b[49m\u001b[43mcv\u001b[49m\u001b[43m \u001b[49m\u001b[38;5;241;43m=\u001b[39;49m\u001b[43m \u001b[49m\u001b[38;5;241;43m5\u001b[39;49m\u001b[43m)\u001b[49m\n",
      "File \u001b[0;32m/opt/homebrew/lib/python3.11/site-packages/sklearn/utils/_param_validation.py:214\u001b[0m, in \u001b[0;36mvalidate_params.<locals>.decorator.<locals>.wrapper\u001b[0;34m(*args, **kwargs)\u001b[0m\n\u001b[1;32m    208\u001b[0m \u001b[38;5;28;01mtry\u001b[39;00m:\n\u001b[1;32m    209\u001b[0m     \u001b[38;5;28;01mwith\u001b[39;00m config_context(\n\u001b[1;32m    210\u001b[0m         skip_parameter_validation\u001b[38;5;241m=\u001b[39m(\n\u001b[1;32m    211\u001b[0m             prefer_skip_nested_validation \u001b[38;5;129;01mor\u001b[39;00m global_skip_validation\n\u001b[1;32m    212\u001b[0m         )\n\u001b[1;32m    213\u001b[0m     ):\n\u001b[0;32m--> 214\u001b[0m         \u001b[38;5;28;01mreturn\u001b[39;00m \u001b[43mfunc\u001b[49m\u001b[43m(\u001b[49m\u001b[38;5;241;43m*\u001b[39;49m\u001b[43margs\u001b[49m\u001b[43m,\u001b[49m\u001b[43m \u001b[49m\u001b[38;5;241;43m*\u001b[39;49m\u001b[38;5;241;43m*\u001b[39;49m\u001b[43mkwargs\u001b[49m\u001b[43m)\u001b[49m\n\u001b[1;32m    215\u001b[0m \u001b[38;5;28;01mexcept\u001b[39;00m InvalidParameterError \u001b[38;5;28;01mas\u001b[39;00m e:\n\u001b[1;32m    216\u001b[0m     \u001b[38;5;66;03m# When the function is just a wrapper around an estimator, we allow\u001b[39;00m\n\u001b[1;32m    217\u001b[0m     \u001b[38;5;66;03m# the function to delegate validation to the estimator, but we replace\u001b[39;00m\n\u001b[1;32m    218\u001b[0m     \u001b[38;5;66;03m# the name of the estimator by the name of the function in the error\u001b[39;00m\n\u001b[1;32m    219\u001b[0m     \u001b[38;5;66;03m# message to avoid confusion.\u001b[39;00m\n\u001b[1;32m    220\u001b[0m     msg \u001b[38;5;241m=\u001b[39m re\u001b[38;5;241m.\u001b[39msub(\n\u001b[1;32m    221\u001b[0m         \u001b[38;5;124mr\u001b[39m\u001b[38;5;124m\"\u001b[39m\u001b[38;5;124mparameter of \u001b[39m\u001b[38;5;124m\\\u001b[39m\u001b[38;5;124mw+ must be\u001b[39m\u001b[38;5;124m\"\u001b[39m,\n\u001b[1;32m    222\u001b[0m         \u001b[38;5;124mf\u001b[39m\u001b[38;5;124m\"\u001b[39m\u001b[38;5;124mparameter of \u001b[39m\u001b[38;5;132;01m{\u001b[39;00mfunc\u001b[38;5;241m.\u001b[39m\u001b[38;5;18m__qualname__\u001b[39m\u001b[38;5;132;01m}\u001b[39;00m\u001b[38;5;124m must be\u001b[39m\u001b[38;5;124m\"\u001b[39m,\n\u001b[1;32m    223\u001b[0m         \u001b[38;5;28mstr\u001b[39m(e),\n\u001b[1;32m    224\u001b[0m     )\n",
      "File \u001b[0;32m/opt/homebrew/lib/python3.11/site-packages/sklearn/model_selection/_validation.py:1640\u001b[0m, in \u001b[0;36mlearning_curve\u001b[0;34m(estimator, X, y, groups, train_sizes, cv, scoring, exploit_incremental_learning, n_jobs, pre_dispatch, verbose, shuffle, random_state, error_score, return_times, fit_params)\u001b[0m\n\u001b[1;32m   1637\u001b[0m \u001b[38;5;66;03m# Store it as list as we will be iterating over the list multiple times\u001b[39;00m\n\u001b[1;32m   1638\u001b[0m cv_iter \u001b[38;5;241m=\u001b[39m \u001b[38;5;28mlist\u001b[39m(cv\u001b[38;5;241m.\u001b[39msplit(X, y, groups))\n\u001b[0;32m-> 1640\u001b[0m scorer \u001b[38;5;241m=\u001b[39m \u001b[43mcheck_scoring\u001b[49m\u001b[43m(\u001b[49m\u001b[43mestimator\u001b[49m\u001b[43m,\u001b[49m\u001b[43m \u001b[49m\u001b[43mscoring\u001b[49m\u001b[38;5;241;43m=\u001b[39;49m\u001b[43mscoring\u001b[49m\u001b[43m)\u001b[49m\n\u001b[1;32m   1642\u001b[0m n_max_training_samples \u001b[38;5;241m=\u001b[39m \u001b[38;5;28mlen\u001b[39m(cv_iter[\u001b[38;5;241m0\u001b[39m][\u001b[38;5;241m0\u001b[39m])\n\u001b[1;32m   1643\u001b[0m \u001b[38;5;66;03m# Because the lengths of folds can be significantly different, it is\u001b[39;00m\n\u001b[1;32m   1644\u001b[0m \u001b[38;5;66;03m# not guaranteed that we use all of the available training data when we\u001b[39;00m\n\u001b[1;32m   1645\u001b[0m \u001b[38;5;66;03m# use the first 'n_max_training_samples' samples.\u001b[39;00m\n",
      "File \u001b[0;32m/opt/homebrew/lib/python3.11/site-packages/sklearn/utils/_param_validation.py:214\u001b[0m, in \u001b[0;36mvalidate_params.<locals>.decorator.<locals>.wrapper\u001b[0;34m(*args, **kwargs)\u001b[0m\n\u001b[1;32m    208\u001b[0m \u001b[38;5;28;01mtry\u001b[39;00m:\n\u001b[1;32m    209\u001b[0m     \u001b[38;5;28;01mwith\u001b[39;00m config_context(\n\u001b[1;32m    210\u001b[0m         skip_parameter_validation\u001b[38;5;241m=\u001b[39m(\n\u001b[1;32m    211\u001b[0m             prefer_skip_nested_validation \u001b[38;5;129;01mor\u001b[39;00m global_skip_validation\n\u001b[1;32m    212\u001b[0m         )\n\u001b[1;32m    213\u001b[0m     ):\n\u001b[0;32m--> 214\u001b[0m         \u001b[38;5;28;01mreturn\u001b[39;00m \u001b[43mfunc\u001b[49m\u001b[43m(\u001b[49m\u001b[38;5;241;43m*\u001b[39;49m\u001b[43margs\u001b[49m\u001b[43m,\u001b[49m\u001b[43m \u001b[49m\u001b[38;5;241;43m*\u001b[39;49m\u001b[38;5;241;43m*\u001b[39;49m\u001b[43mkwargs\u001b[49m\u001b[43m)\u001b[49m\n\u001b[1;32m    215\u001b[0m \u001b[38;5;28;01mexcept\u001b[39;00m InvalidParameterError \u001b[38;5;28;01mas\u001b[39;00m e:\n\u001b[1;32m    216\u001b[0m     \u001b[38;5;66;03m# When the function is just a wrapper around an estimator, we allow\u001b[39;00m\n\u001b[1;32m    217\u001b[0m     \u001b[38;5;66;03m# the function to delegate validation to the estimator, but we replace\u001b[39;00m\n\u001b[1;32m    218\u001b[0m     \u001b[38;5;66;03m# the name of the estimator by the name of the function in the error\u001b[39;00m\n\u001b[1;32m    219\u001b[0m     \u001b[38;5;66;03m# message to avoid confusion.\u001b[39;00m\n\u001b[1;32m    220\u001b[0m     msg \u001b[38;5;241m=\u001b[39m re\u001b[38;5;241m.\u001b[39msub(\n\u001b[1;32m    221\u001b[0m         \u001b[38;5;124mr\u001b[39m\u001b[38;5;124m\"\u001b[39m\u001b[38;5;124mparameter of \u001b[39m\u001b[38;5;124m\\\u001b[39m\u001b[38;5;124mw+ must be\u001b[39m\u001b[38;5;124m\"\u001b[39m,\n\u001b[1;32m    222\u001b[0m         \u001b[38;5;124mf\u001b[39m\u001b[38;5;124m\"\u001b[39m\u001b[38;5;124mparameter of \u001b[39m\u001b[38;5;132;01m{\u001b[39;00mfunc\u001b[38;5;241m.\u001b[39m\u001b[38;5;18m__qualname__\u001b[39m\u001b[38;5;132;01m}\u001b[39;00m\u001b[38;5;124m must be\u001b[39m\u001b[38;5;124m\"\u001b[39m,\n\u001b[1;32m    223\u001b[0m         \u001b[38;5;28mstr\u001b[39m(e),\n\u001b[1;32m    224\u001b[0m     )\n",
      "File \u001b[0;32m/opt/homebrew/lib/python3.11/site-packages/sklearn/metrics/_scorer.py:953\u001b[0m, in \u001b[0;36mcheck_scoring\u001b[0;34m(estimator, scoring, allow_none)\u001b[0m\n\u001b[1;32m    951\u001b[0m     \u001b[38;5;28;01mreturn\u001b[39;00m \u001b[38;5;28;01mNone\u001b[39;00m\n\u001b[1;32m    952\u001b[0m \u001b[38;5;28;01melse\u001b[39;00m:\n\u001b[0;32m--> 953\u001b[0m     \u001b[38;5;28;01mraise\u001b[39;00m \u001b[38;5;167;01mTypeError\u001b[39;00m(\n\u001b[1;32m    954\u001b[0m         \u001b[38;5;124m\"\u001b[39m\u001b[38;5;124mIf no scoring is specified, the estimator passed should \u001b[39m\u001b[38;5;124m\"\u001b[39m\n\u001b[1;32m    955\u001b[0m         \u001b[38;5;124m\"\u001b[39m\u001b[38;5;124mhave a \u001b[39m\u001b[38;5;124m'\u001b[39m\u001b[38;5;124mscore\u001b[39m\u001b[38;5;124m'\u001b[39m\u001b[38;5;124m method. The estimator \u001b[39m\u001b[38;5;132;01m%r\u001b[39;00m\u001b[38;5;124m does not.\u001b[39m\u001b[38;5;124m\"\u001b[39m \u001b[38;5;241m%\u001b[39m estimator\n\u001b[1;32m    956\u001b[0m     )\n",
      "\u001b[0;31mTypeError\u001b[0m: If no scoring is specified, the estimator passed should have a 'score' method. The estimator <keras.src.engine.sequential.Sequential object at 0x29801dc50> does not."
     ]
    }
   ],
   "source": [
    "train_size_abs, train_scores, test_scores = learning_curve(\n",
    "    model1, Xtensor, ytensor, train_sizes=[0.3, 0.6, 0.9], cv = 5)"
   ]
  },
  {
   "cell_type": "code",
   "execution_count": null,
   "metadata": {},
   "outputs": [],
   "source": []
  }
 ],
 "metadata": {
  "kernelspec": {
   "display_name": "Python 3",
   "language": "python",
   "name": "python3"
  },
  "language_info": {
   "codemirror_mode": {
    "name": "ipython",
    "version": 3
   },
   "file_extension": ".py",
   "mimetype": "text/x-python",
   "name": "python",
   "nbconvert_exporter": "python",
   "pygments_lexer": "ipython3",
   "version": "3.11.8"
  }
 },
 "nbformat": 4,
 "nbformat_minor": 2
}
