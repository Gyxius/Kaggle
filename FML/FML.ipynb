{
 "cells": [
  {
   "cell_type": "markdown",
   "metadata": {},
   "source": [
    "## Libraries"
   ]
  },
  {
   "cell_type": "code",
   "execution_count": 312,
   "metadata": {},
   "outputs": [],
   "source": [
    "import pandas as pd\n",
    "import numpy as np\n",
    "import matplotlib.pyplot as plt\n",
    "from sklearn.model_selection import train_test_split\n",
    "from imblearn.over_sampling import RandomOverSampler\n",
    "from sklearn.metrics import classification_report, accuracy_score, confusion_matrix, ConfusionMatrixDisplay, f1_score\n",
    "from sklearn.linear_model import LogisticRegression\n",
    "from sklearn.tree import DecisionTreeClassifier\n",
    "from sklearn.ensemble import RandomForestClassifier\n",
    "from sklearn.svm import SVC\n",
    "import tensorflow as tf\n",
    "from tensorflow.keras.models import Sequential\n",
    "from tensorflow.keras.layers import Dense\n",
    "from tensorflow.keras.losses import SparseCategoricalCrossentropy\n"
   ]
  },
  {
   "cell_type": "markdown",
   "metadata": {},
   "source": [
    "## Exploratory Analysis"
   ]
  },
  {
   "cell_type": "code",
   "execution_count": 2,
   "metadata": {},
   "outputs": [],
   "source": [
    "df = pd.read_csv(\"train.csv\", index_col = 0)"
   ]
  },
  {
   "cell_type": "code",
   "execution_count": 3,
   "metadata": {},
   "outputs": [
    {
     "data": {
      "text/plain": [
       "(80176, 13)"
      ]
     },
     "execution_count": 3,
     "metadata": {},
     "output_type": "execute_result"
    }
   ],
   "source": [
    "df.shape"
   ]
  },
  {
   "cell_type": "code",
   "execution_count": 4,
   "metadata": {},
   "outputs": [
    {
     "data": {
      "text/plain": [
       "Index(['date', 'org', 'tld', 'ccs', 'bcced', 'mail_type', 'images', 'urls',\n",
       "       'salutations', 'designation', 'chars_in_subject', 'chars_in_body',\n",
       "       'label'],\n",
       "      dtype='object')"
      ]
     },
     "execution_count": 4,
     "metadata": {},
     "output_type": "execute_result"
    }
   ],
   "source": [
    "df.columns"
   ]
  },
  {
   "cell_type": "code",
   "execution_count": 5,
   "metadata": {},
   "outputs": [
    {
     "data": {
      "text/html": [
       "<div>\n",
       "<style scoped>\n",
       "    .dataframe tbody tr th:only-of-type {\n",
       "        vertical-align: middle;\n",
       "    }\n",
       "\n",
       "    .dataframe tbody tr th {\n",
       "        vertical-align: top;\n",
       "    }\n",
       "\n",
       "    .dataframe thead th {\n",
       "        text-align: right;\n",
       "    }\n",
       "</style>\n",
       "<table border=\"1\" class=\"dataframe\">\n",
       "  <thead>\n",
       "    <tr style=\"text-align: right;\">\n",
       "      <th></th>\n",
       "      <th>date</th>\n",
       "      <th>org</th>\n",
       "      <th>tld</th>\n",
       "      <th>ccs</th>\n",
       "      <th>bcced</th>\n",
       "      <th>mail_type</th>\n",
       "      <th>images</th>\n",
       "      <th>urls</th>\n",
       "      <th>salutations</th>\n",
       "      <th>designation</th>\n",
       "      <th>chars_in_subject</th>\n",
       "      <th>chars_in_body</th>\n",
       "      <th>label</th>\n",
       "    </tr>\n",
       "  </thead>\n",
       "  <tbody>\n",
       "    <tr>\n",
       "      <th>0</th>\n",
       "      <td>Mon, 6 Nov 2017 11:13:45 +0100</td>\n",
       "      <td>reply</td>\n",
       "      <td>ebay.in</td>\n",
       "      <td>0</td>\n",
       "      <td>0</td>\n",
       "      <td>multipart/alternative</td>\n",
       "      <td>35</td>\n",
       "      <td>120</td>\n",
       "      <td>0</td>\n",
       "      <td>0</td>\n",
       "      <td>49.0</td>\n",
       "      <td>80027</td>\n",
       "      <td>2</td>\n",
       "    </tr>\n",
       "    <tr>\n",
       "      <th>1</th>\n",
       "      <td>Wed, 14 Feb 2018 11:00:16 -0000</td>\n",
       "      <td>edm</td>\n",
       "      <td>efinmail.com</td>\n",
       "      <td>0</td>\n",
       "      <td>0</td>\n",
       "      <td>multipart/alternative</td>\n",
       "      <td>1</td>\n",
       "      <td>7</td>\n",
       "      <td>0</td>\n",
       "      <td>0</td>\n",
       "      <td>107.0</td>\n",
       "      <td>2961</td>\n",
       "      <td>1</td>\n",
       "    </tr>\n",
       "    <tr>\n",
       "      <th>2</th>\n",
       "      <td>Wed, 6 Jul 2016 19:53:37 +0000</td>\n",
       "      <td>usebackpack</td>\n",
       "      <td>com</td>\n",
       "      <td>0</td>\n",
       "      <td>0</td>\n",
       "      <td>text/html</td>\n",
       "      <td>4</td>\n",
       "      <td>17</td>\n",
       "      <td>0</td>\n",
       "      <td>0</td>\n",
       "      <td>35.0</td>\n",
       "      <td>25149</td>\n",
       "      <td>1</td>\n",
       "    </tr>\n",
       "    <tr>\n",
       "      <th>3</th>\n",
       "      <td>Fri, 11 Oct 2019 11:25:40 +0200</td>\n",
       "      <td>granular</td>\n",
       "      <td>ai</td>\n",
       "      <td>0</td>\n",
       "      <td>0</td>\n",
       "      <td>multipart/mixed</td>\n",
       "      <td>0</td>\n",
       "      <td>0</td>\n",
       "      <td>0</td>\n",
       "      <td>0</td>\n",
       "      <td>15.0</td>\n",
       "      <td>635296</td>\n",
       "      <td>1</td>\n",
       "    </tr>\n",
       "    <tr>\n",
       "      <th>4</th>\n",
       "      <td>Tue, 07 Nov 2017 11:07:18 +0000 (UTC)</td>\n",
       "      <td>github</td>\n",
       "      <td>com</td>\n",
       "      <td>1</td>\n",
       "      <td>0</td>\n",
       "      <td>multipart/alternative</td>\n",
       "      <td>2</td>\n",
       "      <td>11</td>\n",
       "      <td>0</td>\n",
       "      <td>0</td>\n",
       "      <td>49.0</td>\n",
       "      <td>2355</td>\n",
       "      <td>1</td>\n",
       "    </tr>\n",
       "  </tbody>\n",
       "</table>\n",
       "</div>"
      ],
      "text/plain": [
       "                                    date          org           tld  ccs  \\\n",
       "0         Mon, 6 Nov 2017 11:13:45 +0100        reply       ebay.in    0   \n",
       "1        Wed, 14 Feb 2018 11:00:16 -0000          edm  efinmail.com    0   \n",
       "2         Wed, 6 Jul 2016 19:53:37 +0000  usebackpack           com    0   \n",
       "3        Fri, 11 Oct 2019 11:25:40 +0200     granular            ai    0   \n",
       "4  Tue, 07 Nov 2017 11:07:18 +0000 (UTC)       github           com    1   \n",
       "\n",
       "   bcced              mail_type  images  urls  salutations  designation  \\\n",
       "0      0  multipart/alternative      35   120            0            0   \n",
       "1      0  multipart/alternative       1     7            0            0   \n",
       "2      0              text/html       4    17            0            0   \n",
       "3      0        multipart/mixed       0     0            0            0   \n",
       "4      0  multipart/alternative       2    11            0            0   \n",
       "\n",
       "   chars_in_subject  chars_in_body  label  \n",
       "0              49.0          80027      2  \n",
       "1             107.0           2961      1  \n",
       "2              35.0          25149      1  \n",
       "3              15.0         635296      1  \n",
       "4              49.0           2355      1  "
      ]
     },
     "execution_count": 5,
     "metadata": {},
     "output_type": "execute_result"
    }
   ],
   "source": [
    "df.head()"
   ]
  },
  {
   "cell_type": "code",
   "execution_count": 6,
   "metadata": {},
   "outputs": [
    {
     "data": {
      "text/plain": [
       "date                 object\n",
       "org                  object\n",
       "tld                  object\n",
       "ccs                   int64\n",
       "bcced                 int64\n",
       "mail_type            object\n",
       "images                int64\n",
       "urls                  int64\n",
       "salutations           int64\n",
       "designation           int64\n",
       "chars_in_subject    float64\n",
       "chars_in_body         int64\n",
       "label                 int64\n",
       "dtype: object"
      ]
     },
     "execution_count": 6,
     "metadata": {},
     "output_type": "execute_result"
    }
   ],
   "source": [
    "df.dtypes"
   ]
  },
  {
   "cell_type": "markdown",
   "metadata": {},
   "source": [
    "## Data Cleaning"
   ]
  },
  {
   "cell_type": "markdown",
   "metadata": {},
   "source": [
    "#### Cleaning Date"
   ]
  },
  {
   "cell_type": "code",
   "execution_count": 7,
   "metadata": {},
   "outputs": [],
   "source": [
    "def get_day(x):\n",
    "    days = ['Mon', 'Wed', 'Fri', 'Tue', 'Sun', 'Sat', 'Thu']\n",
    "    if x.split(' ')[0][:-1] in days:\n",
    "        return x.split(' ')[0][:-1]\n",
    "    return 'No day'\n",
    "df['day'] = df['date'].apply(get_day)\n",
    "\n",
    "def get_day_number(x):\n",
    "    try:\n",
    "        day_number = int(x.split(' ')[1])\n",
    "        return day_number\n",
    "    except:\n",
    "        try:\n",
    "            day_number = int(x.split(' ')[0][:-1])\n",
    "            return day_number\n",
    "        except:\n",
    "            return -1\n",
    "        \n",
    "def get_month(x):\n",
    "    months = ['Aug', 'Sep', 'Oct', 'Jul', 'Apr', 'Mar', 'Jan', 'Jun', 'Feb', 'May', 'Nov', 'Dec']\n",
    "    try:\n",
    "        if x.split(' ')[2] in months:\n",
    "            return x.split(' ')[2]\n",
    "        elif x.split(' ')[1] in months:\n",
    "            return x.split(' ')[1]\n",
    "    except:\n",
    "        return 'No Month' \n",
    "    \n",
    "def get_year(x):\n",
    "    try:\n",
    "        year = int(x.split(' ')[3])\n",
    "        return year\n",
    "    except:\n",
    "        try: \n",
    "            year = int(x.split(' ')[2])\n",
    "            if year > 2000:\n",
    "                return year\n",
    "            else:\n",
    "                try:\n",
    "                    year = int(x.split(' ')[1])\n",
    "                    if year > 2000:\n",
    "                        return year\n",
    "                except:\n",
    "                    return 0\n",
    "        except:\n",
    "            return 0\n",
    "def get_hour(x):\n",
    "    try:\n",
    "        hour = int(x.split(' ')[4][:2])\n",
    "        return hour\n",
    "    except:\n",
    "        return -1"
   ]
  },
  {
   "cell_type": "code",
   "execution_count": 8,
   "metadata": {},
   "outputs": [],
   "source": [
    "df['day'] = df['date'].apply(get_day)\n",
    "df['day_number'] = df['date'].apply(get_day_number)\n",
    "df['month'] = df['date'].apply(get_month)\n",
    "df['year'] = df['date'].apply(get_year)\n",
    "df['hour'] = df['date'].apply(get_hour)"
   ]
  },
  {
   "cell_type": "markdown",
   "metadata": {},
   "source": [
    "#### Cleaning ORG"
   ]
  },
  {
   "cell_type": "code",
   "execution_count": 9,
   "metadata": {},
   "outputs": [],
   "source": [
    "def get_top_org(min_count = 1000):\n",
    "    \"\"\"Gets the mininum occurence number of an organization and \n",
    "    returns the organizations which occur more than the minimu\n",
    "\n",
    "    Parameters\n",
    "    ----------\n",
    "    The minimum number of occurence for an organization\n",
    "    min_count : int \n",
    "\n",
    "    Returns\n",
    "    -------\n",
    "    All the organizatinos occuring more than the minimum\n",
    "    list_org : list\n",
    "    \"\"\"\n",
    "    (df.org.value_counts() > min_count).value_counts()\n",
    "    df_temp = df.groupby(['org']).count()\n",
    "    df_temp[df_temp['date'] > min_count].shape\n",
    "    df_temp[df_temp['date'] > min_count]['date'].sum()\n",
    "    list_org = list(df_temp[df_temp['date'] > min_count].index)\n",
    "    return list_org\n",
    "\n",
    "org_list = get_top_org()\n",
    "\n",
    "def new_org_column(x):\n",
    "    global org_list\n",
    "    if x in org_list:\n",
    "        return x\n",
    "    else:\n",
    "        return 'Others'\n"
   ]
  },
  {
   "cell_type": "markdown",
   "metadata": {},
   "source": [
    "We can see that 7 org accounts for more than half the count, this could be a parameter"
   ]
  },
  {
   "cell_type": "code",
   "execution_count": 10,
   "metadata": {},
   "outputs": [],
   "source": [
    "df['top_org'] = df['org'].apply(new_org_column)"
   ]
  },
  {
   "cell_type": "code",
   "execution_count": 11,
   "metadata": {},
   "outputs": [
    {
     "data": {
      "text/plain": [
       "0             Others\n",
       "1             Others\n",
       "2        usebackpack\n",
       "3             Others\n",
       "4             github\n",
       "            ...     \n",
       "80171         github\n",
       "80172         Others\n",
       "80173         google\n",
       "80174         Others\n",
       "80175         Others\n",
       "Name: top_org, Length: 80176, dtype: object"
      ]
     },
     "execution_count": 11,
     "metadata": {},
     "output_type": "execute_result"
    }
   ],
   "source": [
    "df['top_org']"
   ]
  },
  {
   "cell_type": "markdown",
   "metadata": {},
   "source": [
    "#### clean TLD"
   ]
  },
  {
   "cell_type": "code",
   "execution_count": 12,
   "metadata": {},
   "outputs": [],
   "source": [
    "def get_top_tld(min_count = 1000):\n",
    "    \"\"\"Gets the mininum occurence number of an organization and \n",
    "    returns the organizations which occur more than the minimuù\n",
    "\n",
    "    Parameters\n",
    "    ----------\n",
    "    The minimum number of occurence for an organization\n",
    "    min_count : int \n",
    "\n",
    "    Returns\n",
    "    -------\n",
    "    All the organizatinos occuring more than the minimum\n",
    "    list_org : list\n",
    "    \"\"\"\n",
    "    (df.tld.value_counts() > min_count).value_counts()\n",
    "    df_temp = df.groupby(['tld']).count()\n",
    "    df_temp[df_temp['date'] > min_count].shape\n",
    "    df_temp[df_temp['date'] > min_count]['date'].sum()\n",
    "    list_tld = list(df_temp[df_temp['date'] > min_count].index)\n",
    "    return list_tld\n",
    "\n",
    "org_list = get_top_tld(500)\n",
    "\n",
    "def new_tld_column(x):\n",
    "    global org_list\n",
    "    if x in org_list:\n",
    "        return x\n",
    "    else:\n",
    "        return 'Others'\n"
   ]
  },
  {
   "cell_type": "code",
   "execution_count": 13,
   "metadata": {},
   "outputs": [],
   "source": [
    "df['top_tld'] = df['tld'].apply(new_tld_column)"
   ]
  },
  {
   "cell_type": "code",
   "execution_count": 14,
   "metadata": {},
   "outputs": [
    {
     "data": {
      "text/plain": [
       "top_tld\n",
       "com            34619\n",
       "ac.in          20042\n",
       "Others         12576\n",
       "in              3783\n",
       "org             3428\n",
       "fr              1580\n",
       "gov.in          1540\n",
       "ai               720\n",
       "co.in            704\n",
       "netflix.com      629\n",
       "net              555\n",
       "Name: count, dtype: int64"
      ]
     },
     "execution_count": 14,
     "metadata": {},
     "output_type": "execute_result"
    }
   ],
   "source": [
    "df['top_tld'].value_counts()"
   ]
  },
  {
   "cell_type": "markdown",
   "metadata": {},
   "source": [
    "#### Clean Mail"
   ]
  },
  {
   "cell_type": "code",
   "execution_count": 15,
   "metadata": {},
   "outputs": [
    {
     "data": {
      "text/plain": [
       "array(['multipart/alternative', 'text/html', 'multipart/mixed',\n",
       "       'multipart/related', 'text/plain', nan, 'text/html ',\n",
       "       'multipart/signed', 'Multipart/Mixed', 'Text/Html',\n",
       "       'multipart/report', 'Multipart/Alternative', 'text/calendar',\n",
       "       'multipart/IDM'], dtype=object)"
      ]
     },
     "execution_count": 15,
     "metadata": {},
     "output_type": "execute_result"
    }
   ],
   "source": [
    "df.mail_type.unique()"
   ]
  },
  {
   "cell_type": "code",
   "execution_count": 16,
   "metadata": {},
   "outputs": [],
   "source": [
    "def get_mail_type1(x):\n",
    "    try:\n",
    "        mails = x.split('/')\n",
    "        mail = mails[0].lower()\n",
    "        return mail\n",
    "    except:\n",
    "        return 'other'\n",
    "\n",
    "def get_mail_type2(x):\n",
    "    try:\n",
    "        mails = x.split('/')\n",
    "        mail = mails[1].lower()\n",
    "        return mail\n",
    "    except:\n",
    "        return 'other'"
   ]
  },
  {
   "cell_type": "code",
   "execution_count": 17,
   "metadata": {},
   "outputs": [],
   "source": [
    "df['mail1'] = df.mail_type.apply(get_mail_type1)\n",
    "df['mail2'] = df.mail_type.apply(get_mail_type2)"
   ]
  },
  {
   "cell_type": "code",
   "execution_count": 18,
   "metadata": {},
   "outputs": [
    {
     "data": {
      "text/plain": [
       "mail2\n",
       "alternative    58452\n",
       "html           10234\n",
       "mixed           6500\n",
       "plain           2720\n",
       "related         1996\n",
       "other            172\n",
       "html              58\n",
       "signed            26\n",
       "report            13\n",
       "calendar           4\n",
       "idm                1\n",
       "Name: count, dtype: int64"
      ]
     },
     "execution_count": 18,
     "metadata": {},
     "output_type": "execute_result"
    }
   ],
   "source": [
    "df['mail1'].value_counts()\n",
    "df['mail2'].value_counts()"
   ]
  },
  {
   "cell_type": "markdown",
   "metadata": {},
   "source": [
    "#### Cleaning Missing values"
   ]
  },
  {
   "cell_type": "code",
   "execution_count": 19,
   "metadata": {},
   "outputs": [
    {
     "data": {
      "text/html": [
       "<div>\n",
       "<style scoped>\n",
       "    .dataframe tbody tr th:only-of-type {\n",
       "        vertical-align: middle;\n",
       "    }\n",
       "\n",
       "    .dataframe tbody tr th {\n",
       "        vertical-align: top;\n",
       "    }\n",
       "\n",
       "    .dataframe thead th {\n",
       "        text-align: right;\n",
       "    }\n",
       "</style>\n",
       "<table border=\"1\" class=\"dataframe\">\n",
       "  <thead>\n",
       "    <tr style=\"text-align: right;\">\n",
       "      <th></th>\n",
       "      <th>ccs</th>\n",
       "      <th>bcced</th>\n",
       "      <th>images</th>\n",
       "      <th>urls</th>\n",
       "      <th>salutations</th>\n",
       "      <th>designation</th>\n",
       "      <th>chars_in_subject</th>\n",
       "      <th>chars_in_body</th>\n",
       "      <th>label</th>\n",
       "      <th>day_number</th>\n",
       "      <th>year</th>\n",
       "      <th>hour</th>\n",
       "    </tr>\n",
       "  </thead>\n",
       "  <tbody>\n",
       "    <tr>\n",
       "      <th>count</th>\n",
       "      <td>80176.000000</td>\n",
       "      <td>80176.000000</td>\n",
       "      <td>80176.000000</td>\n",
       "      <td>80176.000000</td>\n",
       "      <td>80176.000000</td>\n",
       "      <td>80176.000000</td>\n",
       "      <td>80160.000000</td>\n",
       "      <td>8.017600e+04</td>\n",
       "      <td>80176.000000</td>\n",
       "      <td>80176.000000</td>\n",
       "      <td>80176.000000</td>\n",
       "      <td>80176.000000</td>\n",
       "    </tr>\n",
       "    <tr>\n",
       "      <th>mean</th>\n",
       "      <td>0.473259</td>\n",
       "      <td>0.002869</td>\n",
       "      <td>7.875998</td>\n",
       "      <td>34.433172</td>\n",
       "      <td>0.406381</td>\n",
       "      <td>0.104246</td>\n",
       "      <td>51.535254</td>\n",
       "      <td>1.971784e+05</td>\n",
       "      <td>1.557187</td>\n",
       "      <td>14.891676</td>\n",
       "      <td>2002.465451</td>\n",
       "      <td>11.328951</td>\n",
       "    </tr>\n",
       "    <tr>\n",
       "      <th>std</th>\n",
       "      <td>3.178805</td>\n",
       "      <td>0.053484</td>\n",
       "      <td>305.444093</td>\n",
       "      <td>97.904682</td>\n",
       "      <td>0.491160</td>\n",
       "      <td>0.305581</td>\n",
       "      <td>33.718283</td>\n",
       "      <td>1.890130e+06</td>\n",
       "      <td>1.713352</td>\n",
       "      <td>9.080254</td>\n",
       "      <td>169.903425</td>\n",
       "      <td>6.238051</td>\n",
       "    </tr>\n",
       "    <tr>\n",
       "      <th>min</th>\n",
       "      <td>0.000000</td>\n",
       "      <td>0.000000</td>\n",
       "      <td>0.000000</td>\n",
       "      <td>0.000000</td>\n",
       "      <td>0.000000</td>\n",
       "      <td>0.000000</td>\n",
       "      <td>0.000000</td>\n",
       "      <td>4.000000e+00</td>\n",
       "      <td>0.000000</td>\n",
       "      <td>-1.000000</td>\n",
       "      <td>0.000000</td>\n",
       "      <td>-1.000000</td>\n",
       "    </tr>\n",
       "    <tr>\n",
       "      <th>25%</th>\n",
       "      <td>0.000000</td>\n",
       "      <td>0.000000</td>\n",
       "      <td>0.000000</td>\n",
       "      <td>4.000000</td>\n",
       "      <td>0.000000</td>\n",
       "      <td>0.000000</td>\n",
       "      <td>32.000000</td>\n",
       "      <td>4.651000e+03</td>\n",
       "      <td>1.000000</td>\n",
       "      <td>7.000000</td>\n",
       "      <td>2016.000000</td>\n",
       "      <td>7.000000</td>\n",
       "    </tr>\n",
       "    <tr>\n",
       "      <th>50%</th>\n",
       "      <td>0.000000</td>\n",
       "      <td>0.000000</td>\n",
       "      <td>2.000000</td>\n",
       "      <td>17.000000</td>\n",
       "      <td>0.000000</td>\n",
       "      <td>0.000000</td>\n",
       "      <td>42.000000</td>\n",
       "      <td>1.999950e+04</td>\n",
       "      <td>1.000000</td>\n",
       "      <td>14.000000</td>\n",
       "      <td>2017.000000</td>\n",
       "      <td>12.000000</td>\n",
       "    </tr>\n",
       "    <tr>\n",
       "      <th>75%</th>\n",
       "      <td>0.000000</td>\n",
       "      <td>0.000000</td>\n",
       "      <td>8.000000</td>\n",
       "      <td>44.000000</td>\n",
       "      <td>1.000000</td>\n",
       "      <td>0.000000</td>\n",
       "      <td>62.000000</td>\n",
       "      <td>4.519300e+04</td>\n",
       "      <td>2.000000</td>\n",
       "      <td>23.000000</td>\n",
       "      <td>2018.000000</td>\n",
       "      <td>16.000000</td>\n",
       "    </tr>\n",
       "    <tr>\n",
       "      <th>max</th>\n",
       "      <td>179.000000</td>\n",
       "      <td>1.000000</td>\n",
       "      <td>83481.000000</td>\n",
       "      <td>21540.000000</td>\n",
       "      <td>1.000000</td>\n",
       "      <td>1.000000</td>\n",
       "      <td>606.000000</td>\n",
       "      <td>7.438108e+07</td>\n",
       "      <td>7.000000</td>\n",
       "      <td>31.000000</td>\n",
       "      <td>2020.000000</td>\n",
       "      <td>23.000000</td>\n",
       "    </tr>\n",
       "  </tbody>\n",
       "</table>\n",
       "</div>"
      ],
      "text/plain": [
       "                ccs         bcced        images          urls   salutations  \\\n",
       "count  80176.000000  80176.000000  80176.000000  80176.000000  80176.000000   \n",
       "mean       0.473259      0.002869      7.875998     34.433172      0.406381   \n",
       "std        3.178805      0.053484    305.444093     97.904682      0.491160   \n",
       "min        0.000000      0.000000      0.000000      0.000000      0.000000   \n",
       "25%        0.000000      0.000000      0.000000      4.000000      0.000000   \n",
       "50%        0.000000      0.000000      2.000000     17.000000      0.000000   \n",
       "75%        0.000000      0.000000      8.000000     44.000000      1.000000   \n",
       "max      179.000000      1.000000  83481.000000  21540.000000      1.000000   \n",
       "\n",
       "        designation  chars_in_subject  chars_in_body         label  \\\n",
       "count  80176.000000      80160.000000   8.017600e+04  80176.000000   \n",
       "mean       0.104246         51.535254   1.971784e+05      1.557187   \n",
       "std        0.305581         33.718283   1.890130e+06      1.713352   \n",
       "min        0.000000          0.000000   4.000000e+00      0.000000   \n",
       "25%        0.000000         32.000000   4.651000e+03      1.000000   \n",
       "50%        0.000000         42.000000   1.999950e+04      1.000000   \n",
       "75%        0.000000         62.000000   4.519300e+04      2.000000   \n",
       "max        1.000000        606.000000   7.438108e+07      7.000000   \n",
       "\n",
       "         day_number          year          hour  \n",
       "count  80176.000000  80176.000000  80176.000000  \n",
       "mean      14.891676   2002.465451     11.328951  \n",
       "std        9.080254    169.903425      6.238051  \n",
       "min       -1.000000      0.000000     -1.000000  \n",
       "25%        7.000000   2016.000000      7.000000  \n",
       "50%       14.000000   2017.000000     12.000000  \n",
       "75%       23.000000   2018.000000     16.000000  \n",
       "max       31.000000   2020.000000     23.000000  "
      ]
     },
     "execution_count": 19,
     "metadata": {},
     "output_type": "execute_result"
    }
   ],
   "source": [
    "df.describe()"
   ]
  },
  {
   "cell_type": "code",
   "execution_count": 20,
   "metadata": {},
   "outputs": [
    {
     "name": "stdout",
     "output_type": "stream",
     "text": [
      "<class 'pandas.core.frame.DataFrame'>\n",
      "Index: 80176 entries, 0 to 80175\n",
      "Data columns (total 22 columns):\n",
      " #   Column            Non-Null Count  Dtype  \n",
      "---  ------            --------------  -----  \n",
      " 0   date              80176 non-null  object \n",
      " 1   org               76725 non-null  object \n",
      " 2   tld               76723 non-null  object \n",
      " 3   ccs               80176 non-null  int64  \n",
      " 4   bcced             80176 non-null  int64  \n",
      " 5   mail_type         80004 non-null  object \n",
      " 6   images            80176 non-null  int64  \n",
      " 7   urls              80176 non-null  int64  \n",
      " 8   salutations       80176 non-null  int64  \n",
      " 9   designation       80176 non-null  int64  \n",
      " 10  chars_in_subject  80160 non-null  float64\n",
      " 11  chars_in_body     80176 non-null  int64  \n",
      " 12  label             80176 non-null  int64  \n",
      " 13  day               80176 non-null  object \n",
      " 14  day_number        80176 non-null  int64  \n",
      " 15  month             79606 non-null  object \n",
      " 16  year              80176 non-null  int64  \n",
      " 17  hour              80176 non-null  int64  \n",
      " 18  top_org           80176 non-null  object \n",
      " 19  top_tld           80176 non-null  object \n",
      " 20  mail1             80176 non-null  object \n",
      " 21  mail2             80176 non-null  object \n",
      "dtypes: float64(1), int64(11), object(10)\n",
      "memory usage: 14.1+ MB\n"
     ]
    }
   ],
   "source": [
    "df.info()"
   ]
  },
  {
   "cell_type": "markdown",
   "metadata": {},
   "source": [
    "#### Cleaning MONTH"
   ]
  },
  {
   "cell_type": "code",
   "execution_count": 21,
   "metadata": {},
   "outputs": [],
   "source": [
    "df.loc[df.month.isna(), 'month'] = 'Missing'"
   ]
  },
  {
   "cell_type": "code",
   "execution_count": 22,
   "metadata": {},
   "outputs": [
    {
     "name": "stdout",
     "output_type": "stream",
     "text": [
      "<class 'pandas.core.frame.DataFrame'>\n",
      "Index: 80176 entries, 0 to 80175\n",
      "Data columns (total 22 columns):\n",
      " #   Column            Non-Null Count  Dtype  \n",
      "---  ------            --------------  -----  \n",
      " 0   date              80176 non-null  object \n",
      " 1   org               76725 non-null  object \n",
      " 2   tld               76723 non-null  object \n",
      " 3   ccs               80176 non-null  int64  \n",
      " 4   bcced             80176 non-null  int64  \n",
      " 5   mail_type         80004 non-null  object \n",
      " 6   images            80176 non-null  int64  \n",
      " 7   urls              80176 non-null  int64  \n",
      " 8   salutations       80176 non-null  int64  \n",
      " 9   designation       80176 non-null  int64  \n",
      " 10  chars_in_subject  80160 non-null  float64\n",
      " 11  chars_in_body     80176 non-null  int64  \n",
      " 12  label             80176 non-null  int64  \n",
      " 13  day               80176 non-null  object \n",
      " 14  day_number        80176 non-null  int64  \n",
      " 15  month             80176 non-null  object \n",
      " 16  year              80176 non-null  int64  \n",
      " 17  hour              80176 non-null  int64  \n",
      " 18  top_org           80176 non-null  object \n",
      " 19  top_tld           80176 non-null  object \n",
      " 20  mail1             80176 non-null  object \n",
      " 21  mail2             80176 non-null  object \n",
      "dtypes: float64(1), int64(11), object(10)\n",
      "memory usage: 14.1+ MB\n"
     ]
    }
   ],
   "source": [
    "df.info()"
   ]
  },
  {
   "cell_type": "markdown",
   "metadata": {},
   "source": [
    "#### CHARS in subject"
   ]
  },
  {
   "cell_type": "code",
   "execution_count": 23,
   "metadata": {},
   "outputs": [],
   "source": [
    "df.loc[df.chars_in_subject.isna(), 'chars_in_subject'] = -1"
   ]
  },
  {
   "cell_type": "code",
   "execution_count": 24,
   "metadata": {},
   "outputs": [],
   "source": [
    "df['has_subject'] = (df['chars_in_subject'] > 0).astype(int)"
   ]
  },
  {
   "cell_type": "markdown",
   "metadata": {},
   "source": [
    "#### Remove the unnecessary columns"
   ]
  },
  {
   "cell_type": "code",
   "execution_count": 25,
   "metadata": {},
   "outputs": [],
   "source": [
    "df = df.drop(['date','org','tld','mail_type'], axis = 1)"
   ]
  },
  {
   "cell_type": "code",
   "execution_count": 26,
   "metadata": {},
   "outputs": [
    {
     "name": "stdout",
     "output_type": "stream",
     "text": [
      "<class 'pandas.core.frame.DataFrame'>\n",
      "Index: 80176 entries, 0 to 80175\n",
      "Data columns (total 19 columns):\n",
      " #   Column            Non-Null Count  Dtype  \n",
      "---  ------            --------------  -----  \n",
      " 0   ccs               80176 non-null  int64  \n",
      " 1   bcced             80176 non-null  int64  \n",
      " 2   images            80176 non-null  int64  \n",
      " 3   urls              80176 non-null  int64  \n",
      " 4   salutations       80176 non-null  int64  \n",
      " 5   designation       80176 non-null  int64  \n",
      " 6   chars_in_subject  80176 non-null  float64\n",
      " 7   chars_in_body     80176 non-null  int64  \n",
      " 8   label             80176 non-null  int64  \n",
      " 9   day               80176 non-null  object \n",
      " 10  day_number        80176 non-null  int64  \n",
      " 11  month             80176 non-null  object \n",
      " 12  year              80176 non-null  int64  \n",
      " 13  hour              80176 non-null  int64  \n",
      " 14  top_org           80176 non-null  object \n",
      " 15  top_tld           80176 non-null  object \n",
      " 16  mail1             80176 non-null  object \n",
      " 17  mail2             80176 non-null  object \n",
      " 18  has_subject       80176 non-null  int64  \n",
      "dtypes: float64(1), int64(12), object(6)\n",
      "memory usage: 12.2+ MB\n"
     ]
    }
   ],
   "source": [
    "df.info()"
   ]
  },
  {
   "cell_type": "code",
   "execution_count": 27,
   "metadata": {},
   "outputs": [
    {
     "name": "stdout",
     "output_type": "stream",
     "text": [
      "<class 'pandas.core.frame.DataFrame'>\n",
      "Index: 80176 entries, 0 to 80175\n",
      "Data columns (total 19 columns):\n",
      " #   Column            Non-Null Count  Dtype  \n",
      "---  ------            --------------  -----  \n",
      " 0   ccs               80176 non-null  int64  \n",
      " 1   bcced             80176 non-null  int64  \n",
      " 2   images            80176 non-null  int64  \n",
      " 3   urls              80176 non-null  int64  \n",
      " 4   salutations       80176 non-null  int64  \n",
      " 5   designation       80176 non-null  int64  \n",
      " 6   chars_in_subject  80176 non-null  float64\n",
      " 7   chars_in_body     80176 non-null  int64  \n",
      " 8   label             80176 non-null  int64  \n",
      " 9   day               80176 non-null  object \n",
      " 10  day_number        80176 non-null  int64  \n",
      " 11  month             80176 non-null  object \n",
      " 12  year              80176 non-null  int64  \n",
      " 13  hour              80176 non-null  int64  \n",
      " 14  top_org           80176 non-null  object \n",
      " 15  top_tld           80176 non-null  object \n",
      " 16  mail1             80176 non-null  object \n",
      " 17  mail2             80176 non-null  object \n",
      " 18  has_subject       80176 non-null  int64  \n",
      "dtypes: float64(1), int64(12), object(6)\n",
      "memory usage: 12.2+ MB\n"
     ]
    }
   ],
   "source": [
    "df.info()"
   ]
  },
  {
   "cell_type": "code",
   "execution_count": 28,
   "metadata": {},
   "outputs": [
    {
     "name": "stdout",
     "output_type": "stream",
     "text": [
      "   ccs  bcced  images  urls  salutations  designation  chars_in_subject  \\\n",
      "0    0      0      35   120            0            0              49.0   \n",
      "1    0      0       1     7            0            0             107.0   \n",
      "2    0      0       4    17            0            0              35.0   \n",
      "3    0      0       0     0            0            0              15.0   \n",
      "4    1      0       2    11            0            0              49.0   \n",
      "\n",
      "   chars_in_body  label  day_number  ...  mail2_calendar  mail2_html  \\\n",
      "0          80027      2           6  ...           False       False   \n",
      "1           2961      1          14  ...           False       False   \n",
      "2          25149      1           6  ...           False        True   \n",
      "3         635296      1          11  ...           False       False   \n",
      "4           2355      1           7  ...           False       False   \n",
      "\n",
      "   mail2_html   mail2_idm  mail2_mixed  mail2_other  mail2_plain  \\\n",
      "0        False      False        False        False        False   \n",
      "1        False      False        False        False        False   \n",
      "2        False      False        False        False        False   \n",
      "3        False      False         True        False        False   \n",
      "4        False      False        False        False        False   \n",
      "\n",
      "   mail2_related  mail2_report  mail2_signed  \n",
      "0          False         False         False  \n",
      "1          False         False         False  \n",
      "2          False         False         False  \n",
      "3          False         False         False  \n",
      "4          False         False         False  \n",
      "\n",
      "[5 rows x 72 columns]\n"
     ]
    }
   ],
   "source": [
    "object_columns = df.select_dtypes(include=['object']).columns\n",
    "\n",
    "# One-hot encode object columns\n",
    "df_encoded = pd.get_dummies(df, columns=object_columns)\n",
    "\n",
    "# Display the encoded DataFrame\n",
    "print(df_encoded.head())"
   ]
  },
  {
   "cell_type": "code",
   "execution_count": 29,
   "metadata": {},
   "outputs": [
    {
     "name": "stdout",
     "output_type": "stream",
     "text": [
      "<class 'pandas.core.frame.DataFrame'>\n",
      "Index: 80176 entries, 0 to 80175\n",
      "Data columns (total 72 columns):\n",
      " #   Column               Non-Null Count  Dtype  \n",
      "---  ------               --------------  -----  \n",
      " 0   ccs                  80176 non-null  int64  \n",
      " 1   bcced                80176 non-null  int64  \n",
      " 2   images               80176 non-null  int64  \n",
      " 3   urls                 80176 non-null  int64  \n",
      " 4   salutations          80176 non-null  int64  \n",
      " 5   designation          80176 non-null  int64  \n",
      " 6   chars_in_subject     80176 non-null  float64\n",
      " 7   chars_in_body        80176 non-null  int64  \n",
      " 8   label                80176 non-null  int64  \n",
      " 9   day_number           80176 non-null  int64  \n",
      " 10  year                 80176 non-null  int64  \n",
      " 11  hour                 80176 non-null  int64  \n",
      " 12  has_subject          80176 non-null  int64  \n",
      " 13  day_Fri              80176 non-null  bool   \n",
      " 14  day_Mon              80176 non-null  bool   \n",
      " 15  day_No day           80176 non-null  bool   \n",
      " 16  day_Sat              80176 non-null  bool   \n",
      " 17  day_Sun              80176 non-null  bool   \n",
      " 18  day_Thu              80176 non-null  bool   \n",
      " 19  day_Tue              80176 non-null  bool   \n",
      " 20  day_Wed              80176 non-null  bool   \n",
      " 21  month_Apr            80176 non-null  bool   \n",
      " 22  month_Aug            80176 non-null  bool   \n",
      " 23  month_Dec            80176 non-null  bool   \n",
      " 24  month_Feb            80176 non-null  bool   \n",
      " 25  month_Jan            80176 non-null  bool   \n",
      " 26  month_Jul            80176 non-null  bool   \n",
      " 27  month_Jun            80176 non-null  bool   \n",
      " 28  month_Mar            80176 non-null  bool   \n",
      " 29  month_May            80176 non-null  bool   \n",
      " 30  month_Missing        80176 non-null  bool   \n",
      " 31  month_No Month       80176 non-null  bool   \n",
      " 32  month_Nov            80176 non-null  bool   \n",
      " 33  month_Oct            80176 non-null  bool   \n",
      " 34  month_Sep            80176 non-null  bool   \n",
      " 35  top_org_Others       80176 non-null  bool   \n",
      " 36  top_org_amazon       80176 non-null  bool   \n",
      " 37  top_org_github       80176 non-null  bool   \n",
      " 38  top_org_gmail        80176 non-null  bool   \n",
      " 39  top_org_google       80176 non-null  bool   \n",
      " 40  top_org_iiitd        80176 non-null  bool   \n",
      " 41  top_org_linkedin     80176 non-null  bool   \n",
      " 42  top_org_nrsc         80176 non-null  bool   \n",
      " 43  top_org_quora        80176 non-null  bool   \n",
      " 44  top_org_twitter      80176 non-null  bool   \n",
      " 45  top_org_usebackpack  80176 non-null  bool   \n",
      " 46  top_org_youtube      80176 non-null  bool   \n",
      " 47  top_tld_Others       80176 non-null  bool   \n",
      " 48  top_tld_ac.in        80176 non-null  bool   \n",
      " 49  top_tld_ai           80176 non-null  bool   \n",
      " 50  top_tld_co.in        80176 non-null  bool   \n",
      " 51  top_tld_com          80176 non-null  bool   \n",
      " 52  top_tld_fr           80176 non-null  bool   \n",
      " 53  top_tld_gov.in       80176 non-null  bool   \n",
      " 54  top_tld_in           80176 non-null  bool   \n",
      " 55  top_tld_net          80176 non-null  bool   \n",
      " 56  top_tld_netflix.com  80176 non-null  bool   \n",
      " 57  top_tld_org          80176 non-null  bool   \n",
      " 58  mail1_multipart      80176 non-null  bool   \n",
      " 59  mail1_other          80176 non-null  bool   \n",
      " 60  mail1_text           80176 non-null  bool   \n",
      " 61  mail2_alternative    80176 non-null  bool   \n",
      " 62  mail2_calendar       80176 non-null  bool   \n",
      " 63  mail2_html           80176 non-null  bool   \n",
      " 64  mail2_html           80176 non-null  bool   \n",
      " 65  mail2_idm            80176 non-null  bool   \n",
      " 66  mail2_mixed          80176 non-null  bool   \n",
      " 67  mail2_other          80176 non-null  bool   \n",
      " 68  mail2_plain          80176 non-null  bool   \n",
      " 69  mail2_related        80176 non-null  bool   \n",
      " 70  mail2_report         80176 non-null  bool   \n",
      " 71  mail2_signed         80176 non-null  bool   \n",
      "dtypes: bool(59), float64(1), int64(12)\n",
      "memory usage: 13.1 MB\n"
     ]
    }
   ],
   "source": [
    "df_encoded.info()"
   ]
  },
  {
   "cell_type": "markdown",
   "metadata": {},
   "source": [
    "## Modeling"
   ]
  },
  {
   "cell_type": "markdown",
   "metadata": {},
   "source": [
    "#### Apply logistic regression"
   ]
  },
  {
   "cell_type": "code",
   "execution_count": 30,
   "metadata": {},
   "outputs": [],
   "source": [
    "columns_to_apply = ['ccs','images','salutations','chars_in_subject', 'urls', 'chars_in_body','day_number','year','hour']"
   ]
  },
  {
   "cell_type": "markdown",
   "metadata": {},
   "source": [
    "Explanation"
   ]
  },
  {
   "cell_type": "code",
   "execution_count": 31,
   "metadata": {},
   "outputs": [
    {
     "data": {
      "text/plain": [
       "(array([8.0111e+04, 2.0000e+01, 9.0000e+00, 2.0000e+00, 9.0000e+00,\n",
       "        1.0000e+00, 0.0000e+00, 0.0000e+00, 2.3000e+01, 1.0000e+00]),\n",
       " array([  0. ,  17.9,  35.8,  53.7,  71.6,  89.5, 107.4, 125.3, 143.2,\n",
       "        161.1, 179. ]),\n",
       " <BarContainer object of 10 artists>)"
      ]
     },
     "execution_count": 31,
     "metadata": {},
     "output_type": "execute_result"
    },
    {
     "data": {
      "image/png": "[encoded data removed]",
      "text/plain": [
       "<Figure size 640x480 with 1 Axes>"
      ]
     },
     "metadata": {},
     "output_type": "display_data"
    }
   ],
   "source": [
    "plt.hist(df['ccs'])"
   ]
  },
  {
   "cell_type": "code",
   "execution_count": 32,
   "metadata": {},
   "outputs": [
    {
     "data": {
      "text/plain": [
       "(array([6.7283e+04, 5.3640e+03, 5.0090e+03, 1.7610e+03, 5.5800e+02,\n",
       "        1.5100e+02, 5.0000e+00, 9.0000e+00, 1.2000e+01, 2.4000e+01]),\n",
       " array([0.        , 0.51929569, 1.03859137, 1.55788706, 2.07718274,\n",
       "        2.59647843, 3.11577411, 3.6350698 , 4.15436548, 4.67366117,\n",
       "        5.19295685]),\n",
       " <BarContainer object of 10 artists>)"
      ]
     },
     "execution_count": 32,
     "metadata": {},
     "output_type": "execute_result"
    },
    {
     "data": {
      "image/png": "[encoded data removed]",
      "text/plain": [
       "<Figure size 640x480 with 1 Axes>"
      ]
     },
     "metadata": {},
     "output_type": "display_data"
    }
   ],
   "source": [
    "plt.hist(np.log(df['ccs'] + 1))"
   ]
  },
  {
   "cell_type": "code",
   "execution_count": 33,
   "metadata": {},
   "outputs": [],
   "source": [
    "for column in columns_to_apply:\n",
    "    df_encoded[column] = np.log(df_encoded[column] + 3)"
   ]
  },
  {
   "cell_type": "code",
   "execution_count": 34,
   "metadata": {},
   "outputs": [
    {
     "data": {
      "text/html": [
       "<div>\n",
       "<style scoped>\n",
       "    .dataframe tbody tr th:only-of-type {\n",
       "        vertical-align: middle;\n",
       "    }\n",
       "\n",
       "    .dataframe tbody tr th {\n",
       "        vertical-align: top;\n",
       "    }\n",
       "\n",
       "    .dataframe thead th {\n",
       "        text-align: right;\n",
       "    }\n",
       "</style>\n",
       "<table border=\"1\" class=\"dataframe\">\n",
       "  <thead>\n",
       "    <tr style=\"text-align: right;\">\n",
       "      <th></th>\n",
       "      <th>ccs</th>\n",
       "      <th>bcced</th>\n",
       "      <th>images</th>\n",
       "      <th>urls</th>\n",
       "      <th>salutations</th>\n",
       "      <th>designation</th>\n",
       "      <th>chars_in_subject</th>\n",
       "      <th>chars_in_body</th>\n",
       "      <th>label</th>\n",
       "      <th>day_number</th>\n",
       "      <th>year</th>\n",
       "      <th>hour</th>\n",
       "      <th>has_subject</th>\n",
       "    </tr>\n",
       "  </thead>\n",
       "  <tbody>\n",
       "    <tr>\n",
       "      <th>count</th>\n",
       "      <td>80176.000000</td>\n",
       "      <td>80176.000000</td>\n",
       "      <td>80176.000000</td>\n",
       "      <td>80176.000000</td>\n",
       "      <td>80176.000000</td>\n",
       "      <td>80176.000000</td>\n",
       "      <td>80176.000000</td>\n",
       "      <td>80176.000000</td>\n",
       "      <td>80176.000000</td>\n",
       "      <td>80176.000000</td>\n",
       "      <td>80176.000000</td>\n",
       "      <td>80176.000000</td>\n",
       "      <td>80176.000000</td>\n",
       "    </tr>\n",
       "    <tr>\n",
       "      <th>mean</th>\n",
       "      <td>1.189882</td>\n",
       "      <td>0.002869</td>\n",
       "      <td>1.851521</td>\n",
       "      <td>2.915175</td>\n",
       "      <td>1.215521</td>\n",
       "      <td>0.104246</td>\n",
       "      <td>3.833130</td>\n",
       "      <td>9.524993</td>\n",
       "      <td>1.557187</td>\n",
       "      <td>2.713350</td>\n",
       "      <td>7.564252</td>\n",
       "      <td>2.531137</td>\n",
       "      <td>0.993564</td>\n",
       "    </tr>\n",
       "    <tr>\n",
       "      <th>std</th>\n",
       "      <td>0.254638</td>\n",
       "      <td>0.053484</td>\n",
       "      <td>0.818691</td>\n",
       "      <td>1.220684</td>\n",
       "      <td>0.141298</td>\n",
       "      <td>0.305581</td>\n",
       "      <td>0.598760</td>\n",
       "      <td>2.108542</td>\n",
       "      <td>1.713352</td>\n",
       "      <td>0.641947</td>\n",
       "      <td>0.548564</td>\n",
       "      <td>0.567579</td>\n",
       "      <td>0.079966</td>\n",
       "    </tr>\n",
       "    <tr>\n",
       "      <th>min</th>\n",
       "      <td>1.098612</td>\n",
       "      <td>0.000000</td>\n",
       "      <td>1.098612</td>\n",
       "      <td>1.098612</td>\n",
       "      <td>1.098612</td>\n",
       "      <td>0.000000</td>\n",
       "      <td>0.693147</td>\n",
       "      <td>1.945910</td>\n",
       "      <td>0.000000</td>\n",
       "      <td>0.693147</td>\n",
       "      <td>1.098612</td>\n",
       "      <td>0.693147</td>\n",
       "      <td>0.000000</td>\n",
       "    </tr>\n",
       "    <tr>\n",
       "      <th>25%</th>\n",
       "      <td>1.098612</td>\n",
       "      <td>0.000000</td>\n",
       "      <td>1.098612</td>\n",
       "      <td>1.945910</td>\n",
       "      <td>1.098612</td>\n",
       "      <td>0.000000</td>\n",
       "      <td>3.555348</td>\n",
       "      <td>8.445482</td>\n",
       "      <td>1.000000</td>\n",
       "      <td>2.302585</td>\n",
       "      <td>7.610358</td>\n",
       "      <td>2.302585</td>\n",
       "      <td>1.000000</td>\n",
       "    </tr>\n",
       "    <tr>\n",
       "      <th>50%</th>\n",
       "      <td>1.098612</td>\n",
       "      <td>0.000000</td>\n",
       "      <td>1.609438</td>\n",
       "      <td>2.995732</td>\n",
       "      <td>1.098612</td>\n",
       "      <td>0.000000</td>\n",
       "      <td>3.806662</td>\n",
       "      <td>9.903613</td>\n",
       "      <td>1.000000</td>\n",
       "      <td>2.833213</td>\n",
       "      <td>7.610853</td>\n",
       "      <td>2.708050</td>\n",
       "      <td>1.000000</td>\n",
       "    </tr>\n",
       "    <tr>\n",
       "      <th>75%</th>\n",
       "      <td>1.098612</td>\n",
       "      <td>0.000000</td>\n",
       "      <td>2.397895</td>\n",
       "      <td>3.850148</td>\n",
       "      <td>1.386294</td>\n",
       "      <td>0.000000</td>\n",
       "      <td>4.174387</td>\n",
       "      <td>10.718764</td>\n",
       "      <td>2.000000</td>\n",
       "      <td>3.258097</td>\n",
       "      <td>7.611348</td>\n",
       "      <td>2.944439</td>\n",
       "      <td>1.000000</td>\n",
       "    </tr>\n",
       "    <tr>\n",
       "      <th>max</th>\n",
       "      <td>5.204007</td>\n",
       "      <td>1.000000</td>\n",
       "      <td>11.332410</td>\n",
       "      <td>9.977806</td>\n",
       "      <td>1.386294</td>\n",
       "      <td>1.000000</td>\n",
       "      <td>6.411818</td>\n",
       "      <td>18.124712</td>\n",
       "      <td>7.000000</td>\n",
       "      <td>3.526361</td>\n",
       "      <td>7.612337</td>\n",
       "      <td>3.258097</td>\n",
       "      <td>1.000000</td>\n",
       "    </tr>\n",
       "  </tbody>\n",
       "</table>\n",
       "</div>"
      ],
      "text/plain": [
       "                ccs         bcced        images          urls   salutations  \\\n",
       "count  80176.000000  80176.000000  80176.000000  80176.000000  80176.000000   \n",
       "mean       1.189882      0.002869      1.851521      2.915175      1.215521   \n",
       "std        0.254638      0.053484      0.818691      1.220684      0.141298   \n",
       "min        1.098612      0.000000      1.098612      1.098612      1.098612   \n",
       "25%        1.098612      0.000000      1.098612      1.945910      1.098612   \n",
       "50%        1.098612      0.000000      1.609438      2.995732      1.098612   \n",
       "75%        1.098612      0.000000      2.397895      3.850148      1.386294   \n",
       "max        5.204007      1.000000     11.332410      9.977806      1.386294   \n",
       "\n",
       "        designation  chars_in_subject  chars_in_body         label  \\\n",
       "count  80176.000000      80176.000000   80176.000000  80176.000000   \n",
       "mean       0.104246          3.833130       9.524993      1.557187   \n",
       "std        0.305581          0.598760       2.108542      1.713352   \n",
       "min        0.000000          0.693147       1.945910      0.000000   \n",
       "25%        0.000000          3.555348       8.445482      1.000000   \n",
       "50%        0.000000          3.806662       9.903613      1.000000   \n",
       "75%        0.000000          4.174387      10.718764      2.000000   \n",
       "max        1.000000          6.411818      18.124712      7.000000   \n",
       "\n",
       "         day_number          year          hour   has_subject  \n",
       "count  80176.000000  80176.000000  80176.000000  80176.000000  \n",
       "mean       2.713350      7.564252      2.531137      0.993564  \n",
       "std        0.641947      0.548564      0.567579      0.079966  \n",
       "min        0.693147      1.098612      0.693147      0.000000  \n",
       "25%        2.302585      7.610358      2.302585      1.000000  \n",
       "50%        2.833213      7.610853      2.708050      1.000000  \n",
       "75%        3.258097      7.611348      2.944439      1.000000  \n",
       "max        3.526361      7.612337      3.258097      1.000000  "
      ]
     },
     "execution_count": 34,
     "metadata": {},
     "output_type": "execute_result"
    }
   ],
   "source": [
    "df_encoded.describe()"
   ]
  },
  {
   "cell_type": "markdown",
   "metadata": {},
   "source": [
    "#### Standardize"
   ]
  },
  {
   "cell_type": "code",
   "execution_count": 35,
   "metadata": {},
   "outputs": [
    {
     "data": {
      "text/plain": [
       "\" df_standardize = df_encoded.copy()\\ndf_standardize.drop['']\\ndf_standardize.info()\\ncolumns_to_standardize = list(df_standardize.columns)\\nfrom sklearn.preprocessing import StandardScaler\\n\\n# Initialize StandardScaler\\nscaler = StandardScaler()\\n\\n# Fit and transform the selected columns\\ndf_standardize[columns_to_standardize] = scaler.fit_transform(df_standardize[columns_to_standardize])\\ndf_standardize.describe() \""
      ]
     },
     "execution_count": 35,
     "metadata": {},
     "output_type": "execute_result"
    }
   ],
   "source": [
    "\"\"\" df_standardize = df_encoded.copy()\n",
    "df_standardize.drop['']\n",
    "df_standardize.info()\n",
    "columns_to_standardize = list(df_standardize.columns)\n",
    "from sklearn.preprocessing import StandardScaler\n",
    "\n",
    "# Initialize StandardScaler\n",
    "scaler = StandardScaler()\n",
    "\n",
    "# Fit and transform the selected columns\n",
    "df_standardize[columns_to_standardize] = scaler.fit_transform(df_standardize[columns_to_standardize])\n",
    "df_standardize.describe() \"\"\""
   ]
  },
  {
   "cell_type": "code",
   "execution_count": 36,
   "metadata": {},
   "outputs": [
    {
     "data": {
      "text/html": [
       "<div>\n",
       "<style scoped>\n",
       "    .dataframe tbody tr th:only-of-type {\n",
       "        vertical-align: middle;\n",
       "    }\n",
       "\n",
       "    .dataframe tbody tr th {\n",
       "        vertical-align: top;\n",
       "    }\n",
       "\n",
       "    .dataframe thead th {\n",
       "        text-align: right;\n",
       "    }\n",
       "</style>\n",
       "<table border=\"1\" class=\"dataframe\">\n",
       "  <thead>\n",
       "    <tr style=\"text-align: right;\">\n",
       "      <th></th>\n",
       "      <th>ccs</th>\n",
       "      <th>bcced</th>\n",
       "      <th>images</th>\n",
       "      <th>urls</th>\n",
       "      <th>salutations</th>\n",
       "      <th>designation</th>\n",
       "      <th>chars_in_subject</th>\n",
       "      <th>chars_in_body</th>\n",
       "      <th>label</th>\n",
       "      <th>day_number</th>\n",
       "      <th>...</th>\n",
       "      <th>mail2_calendar</th>\n",
       "      <th>mail2_html</th>\n",
       "      <th>mail2_html</th>\n",
       "      <th>mail2_idm</th>\n",
       "      <th>mail2_mixed</th>\n",
       "      <th>mail2_other</th>\n",
       "      <th>mail2_plain</th>\n",
       "      <th>mail2_related</th>\n",
       "      <th>mail2_report</th>\n",
       "      <th>mail2_signed</th>\n",
       "    </tr>\n",
       "  </thead>\n",
       "  <tbody>\n",
       "    <tr>\n",
       "      <th>0</th>\n",
       "      <td>1.098612</td>\n",
       "      <td>0</td>\n",
       "      <td>3.637586</td>\n",
       "      <td>4.812184</td>\n",
       "      <td>1.098612</td>\n",
       "      <td>0</td>\n",
       "      <td>3.951244</td>\n",
       "      <td>11.290157</td>\n",
       "      <td>2</td>\n",
       "      <td>2.197225</td>\n",
       "      <td>...</td>\n",
       "      <td>False</td>\n",
       "      <td>False</td>\n",
       "      <td>False</td>\n",
       "      <td>False</td>\n",
       "      <td>False</td>\n",
       "      <td>False</td>\n",
       "      <td>False</td>\n",
       "      <td>False</td>\n",
       "      <td>False</td>\n",
       "      <td>False</td>\n",
       "    </tr>\n",
       "    <tr>\n",
       "      <th>1</th>\n",
       "      <td>1.098612</td>\n",
       "      <td>0</td>\n",
       "      <td>1.386294</td>\n",
       "      <td>2.302585</td>\n",
       "      <td>1.098612</td>\n",
       "      <td>0</td>\n",
       "      <td>4.700480</td>\n",
       "      <td>7.994295</td>\n",
       "      <td>1</td>\n",
       "      <td>2.833213</td>\n",
       "      <td>...</td>\n",
       "      <td>False</td>\n",
       "      <td>False</td>\n",
       "      <td>False</td>\n",
       "      <td>False</td>\n",
       "      <td>False</td>\n",
       "      <td>False</td>\n",
       "      <td>False</td>\n",
       "      <td>False</td>\n",
       "      <td>False</td>\n",
       "      <td>False</td>\n",
       "    </tr>\n",
       "    <tr>\n",
       "      <th>2</th>\n",
       "      <td>1.098612</td>\n",
       "      <td>0</td>\n",
       "      <td>1.945910</td>\n",
       "      <td>2.995732</td>\n",
       "      <td>1.098612</td>\n",
       "      <td>0</td>\n",
       "      <td>3.637586</td>\n",
       "      <td>10.132693</td>\n",
       "      <td>1</td>\n",
       "      <td>2.197225</td>\n",
       "      <td>...</td>\n",
       "      <td>False</td>\n",
       "      <td>True</td>\n",
       "      <td>False</td>\n",
       "      <td>False</td>\n",
       "      <td>False</td>\n",
       "      <td>False</td>\n",
       "      <td>False</td>\n",
       "      <td>False</td>\n",
       "      <td>False</td>\n",
       "      <td>False</td>\n",
       "    </tr>\n",
       "    <tr>\n",
       "      <th>3</th>\n",
       "      <td>1.098612</td>\n",
       "      <td>0</td>\n",
       "      <td>1.098612</td>\n",
       "      <td>1.098612</td>\n",
       "      <td>1.098612</td>\n",
       "      <td>0</td>\n",
       "      <td>2.890372</td>\n",
       "      <td>13.361851</td>\n",
       "      <td>1</td>\n",
       "      <td>2.639057</td>\n",
       "      <td>...</td>\n",
       "      <td>False</td>\n",
       "      <td>False</td>\n",
       "      <td>False</td>\n",
       "      <td>False</td>\n",
       "      <td>True</td>\n",
       "      <td>False</td>\n",
       "      <td>False</td>\n",
       "      <td>False</td>\n",
       "      <td>False</td>\n",
       "      <td>False</td>\n",
       "    </tr>\n",
       "    <tr>\n",
       "      <th>4</th>\n",
       "      <td>1.386294</td>\n",
       "      <td>0</td>\n",
       "      <td>1.609438</td>\n",
       "      <td>2.639057</td>\n",
       "      <td>1.098612</td>\n",
       "      <td>0</td>\n",
       "      <td>3.951244</td>\n",
       "      <td>7.765569</td>\n",
       "      <td>1</td>\n",
       "      <td>2.302585</td>\n",
       "      <td>...</td>\n",
       "      <td>False</td>\n",
       "      <td>False</td>\n",
       "      <td>False</td>\n",
       "      <td>False</td>\n",
       "      <td>False</td>\n",
       "      <td>False</td>\n",
       "      <td>False</td>\n",
       "      <td>False</td>\n",
       "      <td>False</td>\n",
       "      <td>False</td>\n",
       "    </tr>\n",
       "    <tr>\n",
       "      <th>...</th>\n",
       "      <td>...</td>\n",
       "      <td>...</td>\n",
       "      <td>...</td>\n",
       "      <td>...</td>\n",
       "      <td>...</td>\n",
       "      <td>...</td>\n",
       "      <td>...</td>\n",
       "      <td>...</td>\n",
       "      <td>...</td>\n",
       "      <td>...</td>\n",
       "      <td>...</td>\n",
       "      <td>...</td>\n",
       "      <td>...</td>\n",
       "      <td>...</td>\n",
       "      <td>...</td>\n",
       "      <td>...</td>\n",
       "      <td>...</td>\n",
       "      <td>...</td>\n",
       "      <td>...</td>\n",
       "      <td>...</td>\n",
       "      <td>...</td>\n",
       "    </tr>\n",
       "    <tr>\n",
       "      <th>80171</th>\n",
       "      <td>1.386294</td>\n",
       "      <td>0</td>\n",
       "      <td>1.098612</td>\n",
       "      <td>2.397895</td>\n",
       "      <td>1.098612</td>\n",
       "      <td>0</td>\n",
       "      <td>4.543295</td>\n",
       "      <td>7.177782</td>\n",
       "      <td>3</td>\n",
       "      <td>3.496508</td>\n",
       "      <td>...</td>\n",
       "      <td>False</td>\n",
       "      <td>False</td>\n",
       "      <td>False</td>\n",
       "      <td>False</td>\n",
       "      <td>False</td>\n",
       "      <td>False</td>\n",
       "      <td>False</td>\n",
       "      <td>False</td>\n",
       "      <td>False</td>\n",
       "      <td>False</td>\n",
       "    </tr>\n",
       "    <tr>\n",
       "      <th>80172</th>\n",
       "      <td>1.098612</td>\n",
       "      <td>0</td>\n",
       "      <td>1.098612</td>\n",
       "      <td>1.609438</td>\n",
       "      <td>1.386294</td>\n",
       "      <td>0</td>\n",
       "      <td>4.330733</td>\n",
       "      <td>9.507998</td>\n",
       "      <td>0</td>\n",
       "      <td>0.693147</td>\n",
       "      <td>...</td>\n",
       "      <td>False</td>\n",
       "      <td>True</td>\n",
       "      <td>False</td>\n",
       "      <td>False</td>\n",
       "      <td>False</td>\n",
       "      <td>False</td>\n",
       "      <td>False</td>\n",
       "      <td>False</td>\n",
       "      <td>False</td>\n",
       "      <td>False</td>\n",
       "    </tr>\n",
       "    <tr>\n",
       "      <th>80173</th>\n",
       "      <td>1.098612</td>\n",
       "      <td>0</td>\n",
       "      <td>3.401197</td>\n",
       "      <td>4.477337</td>\n",
       "      <td>1.098612</td>\n",
       "      <td>0</td>\n",
       "      <td>3.891820</td>\n",
       "      <td>10.257238</td>\n",
       "      <td>0</td>\n",
       "      <td>3.367296</td>\n",
       "      <td>...</td>\n",
       "      <td>False</td>\n",
       "      <td>False</td>\n",
       "      <td>False</td>\n",
       "      <td>False</td>\n",
       "      <td>False</td>\n",
       "      <td>False</td>\n",
       "      <td>False</td>\n",
       "      <td>False</td>\n",
       "      <td>False</td>\n",
       "      <td>False</td>\n",
       "    </tr>\n",
       "    <tr>\n",
       "      <th>80174</th>\n",
       "      <td>1.098612</td>\n",
       "      <td>0</td>\n",
       "      <td>3.555348</td>\n",
       "      <td>5.488938</td>\n",
       "      <td>1.386294</td>\n",
       "      <td>1</td>\n",
       "      <td>5.147494</td>\n",
       "      <td>11.564369</td>\n",
       "      <td>0</td>\n",
       "      <td>2.833213</td>\n",
       "      <td>...</td>\n",
       "      <td>False</td>\n",
       "      <td>False</td>\n",
       "      <td>False</td>\n",
       "      <td>False</td>\n",
       "      <td>False</td>\n",
       "      <td>False</td>\n",
       "      <td>False</td>\n",
       "      <td>False</td>\n",
       "      <td>False</td>\n",
       "      <td>False</td>\n",
       "    </tr>\n",
       "    <tr>\n",
       "      <th>80175</th>\n",
       "      <td>1.098612</td>\n",
       "      <td>0</td>\n",
       "      <td>1.098612</td>\n",
       "      <td>2.079442</td>\n",
       "      <td>1.098612</td>\n",
       "      <td>0</td>\n",
       "      <td>4.812184</td>\n",
       "      <td>7.811973</td>\n",
       "      <td>0</td>\n",
       "      <td>3.178054</td>\n",
       "      <td>...</td>\n",
       "      <td>False</td>\n",
       "      <td>False</td>\n",
       "      <td>False</td>\n",
       "      <td>False</td>\n",
       "      <td>False</td>\n",
       "      <td>False</td>\n",
       "      <td>False</td>\n",
       "      <td>False</td>\n",
       "      <td>False</td>\n",
       "      <td>False</td>\n",
       "    </tr>\n",
       "  </tbody>\n",
       "</table>\n",
       "<p>80176 rows × 72 columns</p>\n",
       "</div>"
      ],
      "text/plain": [
       "            ccs  bcced    images      urls  salutations  designation  \\\n",
       "0      1.098612      0  3.637586  4.812184     1.098612            0   \n",
       "1      1.098612      0  1.386294  2.302585     1.098612            0   \n",
       "2      1.098612      0  1.945910  2.995732     1.098612            0   \n",
       "3      1.098612      0  1.098612  1.098612     1.098612            0   \n",
       "4      1.386294      0  1.609438  2.639057     1.098612            0   \n",
       "...         ...    ...       ...       ...          ...          ...   \n",
       "80171  1.386294      0  1.098612  2.397895     1.098612            0   \n",
       "80172  1.098612      0  1.098612  1.609438     1.386294            0   \n",
       "80173  1.098612      0  3.401197  4.477337     1.098612            0   \n",
       "80174  1.098612      0  3.555348  5.488938     1.386294            1   \n",
       "80175  1.098612      0  1.098612  2.079442     1.098612            0   \n",
       "\n",
       "       chars_in_subject  chars_in_body  label  day_number  ...  \\\n",
       "0              3.951244      11.290157      2    2.197225  ...   \n",
       "1              4.700480       7.994295      1    2.833213  ...   \n",
       "2              3.637586      10.132693      1    2.197225  ...   \n",
       "3              2.890372      13.361851      1    2.639057  ...   \n",
       "4              3.951244       7.765569      1    2.302585  ...   \n",
       "...                 ...            ...    ...         ...  ...   \n",
       "80171          4.543295       7.177782      3    3.496508  ...   \n",
       "80172          4.330733       9.507998      0    0.693147  ...   \n",
       "80173          3.891820      10.257238      0    3.367296  ...   \n",
       "80174          5.147494      11.564369      0    2.833213  ...   \n",
       "80175          4.812184       7.811973      0    3.178054  ...   \n",
       "\n",
       "       mail2_calendar  mail2_html  mail2_html   mail2_idm  mail2_mixed  \\\n",
       "0               False       False        False      False        False   \n",
       "1               False       False        False      False        False   \n",
       "2               False        True        False      False        False   \n",
       "3               False       False        False      False         True   \n",
       "4               False       False        False      False        False   \n",
       "...               ...         ...          ...        ...          ...   \n",
       "80171           False       False        False      False        False   \n",
       "80172           False        True        False      False        False   \n",
       "80173           False       False        False      False        False   \n",
       "80174           False       False        False      False        False   \n",
       "80175           False       False        False      False        False   \n",
       "\n",
       "       mail2_other  mail2_plain  mail2_related  mail2_report  mail2_signed  \n",
       "0            False        False          False         False         False  \n",
       "1            False        False          False         False         False  \n",
       "2            False        False          False         False         False  \n",
       "3            False        False          False         False         False  \n",
       "4            False        False          False         False         False  \n",
       "...            ...          ...            ...           ...           ...  \n",
       "80171        False        False          False         False         False  \n",
       "80172        False        False          False         False         False  \n",
       "80173        False        False          False         False         False  \n",
       "80174        False        False          False         False         False  \n",
       "80175        False        False          False         False         False  \n",
       "\n",
       "[80176 rows x 72 columns]"
      ]
     },
     "execution_count": 36,
     "metadata": {},
     "output_type": "execute_result"
    }
   ],
   "source": [
    "df_encoded"
   ]
  },
  {
   "cell_type": "markdown",
   "metadata": {},
   "source": [
    "### Train and Test split"
   ]
  },
  {
   "cell_type": "code",
   "execution_count": 37,
   "metadata": {},
   "outputs": [],
   "source": [
    "# Used for deep learning after because it doesn't want a type string\n",
    "df2 = df_encoded.copy()"
   ]
  },
  {
   "cell_type": "markdown",
   "metadata": {},
   "source": [
    "### Stop here for Deep learning"
   ]
  },
  {
   "cell_type": "code",
   "execution_count": 85,
   "metadata": {},
   "outputs": [],
   "source": [
    "df_encoded['label'] = df_encoded['label'].values.astype('str')"
   ]
  },
  {
   "cell_type": "code",
   "execution_count": 86,
   "metadata": {},
   "outputs": [],
   "source": [
    "\n",
    "# Assuming X contains your features and y contains your target variable\n",
    "X = df_encoded.drop(columns=['label'])  # Features (excluding the target variable)\n",
    "y = df_encoded['label']  # Target variable\n",
    "\n",
    "# Splitting the data into training and testing sets (80% train, 20% test)\n",
    "X_train, X_test, y_train, y_test = train_test_split(X, y, test_size=0.2, random_state=42)\n"
   ]
  },
  {
   "cell_type": "markdown",
   "metadata": {},
   "source": [
    "### Modeling"
   ]
  },
  {
   "cell_type": "code",
   "execution_count": 87,
   "metadata": {},
   "outputs": [
    {
     "data": {
      "text/plain": [
       "array(['0', '1', '2', '3', '7', '5', '4', '6'], dtype=object)"
      ]
     },
     "execution_count": 87,
     "metadata": {},
     "output_type": "execute_result"
    }
   ],
   "source": [
    "y_train.unique()"
   ]
  },
  {
   "cell_type": "code",
   "execution_count": 42,
   "metadata": {},
   "outputs": [
    {
     "name": "stderr",
     "output_type": "stream",
     "text": [
      "/opt/homebrew/lib/python3.11/site-packages/sklearn/linear_model/_logistic.py:460: ConvergenceWarning: lbfgs failed to converge (status=1):\n",
      "STOP: TOTAL NO. of ITERATIONS REACHED LIMIT.\n",
      "\n",
      "Increase the number of iterations (max_iter) or scale the data as shown in:\n",
      "    https://scikit-learn.org/stable/modules/preprocessing.html\n",
      "Please also refer to the documentation for alternative solver options:\n",
      "    https://scikit-learn.org/stable/modules/linear_model.html#logistic-regression\n",
      "  n_iter_i = _check_optimize_result(\n"
     ]
    }
   ],
   "source": [
    "\n",
    "# Assuming X_train, X_test, y_train, y_test are already defined from the train-test split\n",
    "# Initialize logistic regression model\n",
    "logistic_regression_model = LogisticRegression(max_iter = 1000)\n",
    "\n",
    "# Train the model\n",
    "logistic_regression_model.fit(X_train, y_train)\n",
    "\n",
    "# Predict on the test data\n",
    "y_pred = logistic_regression_model.predict(X_test)\n",
    "\n",
    "accuracy = accuracy_score(y_test, y_pred)\n"
   ]
  },
  {
   "cell_type": "code",
   "execution_count": 43,
   "metadata": {},
   "outputs": [
    {
     "data": {
      "text/plain": [
       "0.5361062609129459"
      ]
     },
     "execution_count": 43,
     "metadata": {},
     "output_type": "execute_result"
    }
   ],
   "source": [
    "accuracy"
   ]
  },
  {
   "cell_type": "code",
   "execution_count": 44,
   "metadata": {},
   "outputs": [
    {
     "name": "stderr",
     "output_type": "stream",
     "text": [
      "/opt/homebrew/lib/python3.11/site-packages/sklearn/metrics/_classification.py:1471: UndefinedMetricWarning: Precision and F-score are ill-defined and being set to 0.0 in labels with no predicted samples. Use `zero_division` parameter to control this behavior.\n",
      "  _warn_prf(average, modifier, msg_start, len(result))\n",
      "/opt/homebrew/lib/python3.11/site-packages/sklearn/metrics/_classification.py:1471: UndefinedMetricWarning: Precision and F-score are ill-defined and being set to 0.0 in labels with no predicted samples. Use `zero_division` parameter to control this behavior.\n",
      "  _warn_prf(average, modifier, msg_start, len(result))\n",
      "/opt/homebrew/lib/python3.11/site-packages/sklearn/metrics/_classification.py:1471: UndefinedMetricWarning: Precision and F-score are ill-defined and being set to 0.0 in labels with no predicted samples. Use `zero_division` parameter to control this behavior.\n",
      "  _warn_prf(average, modifier, msg_start, len(result))\n"
     ]
    },
    {
     "data": {
      "text/plain": [
       "'              precision    recall  f1-score   support\\n\\n           0       0.55      0.36      0.43      3680\\n           1       0.53      0.66      0.59      7429\\n           2       0.43      0.32      0.36      1719\\n           3       0.59      0.51      0.55      2109\\n           4       0.40      0.04      0.07        50\\n           5       0.00      0.00      0.00        26\\n           6       0.00      0.00      0.00        31\\n           7       0.57      0.76      0.65       992\\n\\n    accuracy                           0.54     16036\\n   macro avg       0.38      0.33      0.33     16036\\nweighted avg       0.53      0.54      0.52     16036\\n'"
      ]
     },
     "execution_count": 44,
     "metadata": {},
     "output_type": "execute_result"
    }
   ],
   "source": [
    "classification_report(y_test, y_pred)"
   ]
  },
  {
   "cell_type": "code",
   "execution_count": 52,
   "metadata": {},
   "outputs": [],
   "source": [
    "cm = confusion_matrix(y_test, y_pred)"
   ]
  },
  {
   "cell_type": "code",
   "execution_count": 55,
   "metadata": {},
   "outputs": [],
   "source": [
    "disp = ConfusionMatrixDisplay(confusion_matrix=cm,display_labels=logistic_regression_model.classes_)"
   ]
  },
  {
   "cell_type": "code",
   "execution_count": 56,
   "metadata": {},
   "outputs": [
    {
     "data": {
      "text/plain": [
       "<sklearn.metrics._plot.confusion_matrix.ConfusionMatrixDisplay at 0x17f4516d0>"
      ]
     },
     "execution_count": 56,
     "metadata": {},
     "output_type": "execute_result"
    },
    {
     "data": {
      "image/png": "[encoded data removed]",
      "text/plain": [
       "<Figure size 640x480 with 2 Axes>"
      ]
     },
     "metadata": {},
     "output_type": "display_data"
    }
   ],
   "source": [
    "disp.plot()"
   ]
  },
  {
   "cell_type": "code",
   "execution_count": 57,
   "metadata": {},
   "outputs": [
    {
     "data": {
      "text/plain": [
       "label\n",
       "1    29766\n",
       "0    14315\n",
       "3     8618\n",
       "2     6848\n",
       "7     4050\n",
       "4      307\n",
       "6      121\n",
       "5      115\n",
       "Name: count, dtype: int64"
      ]
     },
     "execution_count": 57,
     "metadata": {},
     "output_type": "execute_result"
    }
   ],
   "source": [
    "y_train.value_counts()"
   ]
  },
  {
   "cell_type": "markdown",
   "metadata": {},
   "source": [
    "### Dealing with Imbalanced data"
   ]
  },
  {
   "cell_type": "markdown",
   "metadata": {},
   "source": [
    "#### Oversampling"
   ]
  },
  {
   "cell_type": "code",
   "execution_count": 88,
   "metadata": {},
   "outputs": [
    {
     "data": {
      "text/plain": [
       "label\n",
       "2    37195\n",
       "1    37195\n",
       "3    37195\n",
       "7    37195\n",
       "0    37195\n",
       "4    37195\n",
       "6    37195\n",
       "5    37195\n",
       "Name: count, dtype: int64"
      ]
     },
     "execution_count": 88,
     "metadata": {},
     "output_type": "execute_result"
    }
   ],
   "source": [
    "oversample = RandomOverSampler()\n",
    "X_over, y_over = oversample.fit_resample(X, y)\n",
    "y_over.value_counts()"
   ]
  },
  {
   "cell_type": "code",
   "execution_count": 86,
   "metadata": {},
   "outputs": [],
   "source": [
    "def oversample_logistic(X,y):\n",
    "    X_train, X_test, y_train, y_test = train_test_split(X, y, test_size=0.2, random_state=42)\n",
    "\n",
    "    # Assuming X_train, X_test, y_train, y_test are already defined from the train-test split\n",
    "    # Initialize logistic regression model\n",
    "    logistic_regression_model = LogisticRegression(max_iter = 1000)\n",
    "\n",
    "    # Train the model\n",
    "    logistic_regression_model.fit(X_train, y_train)\n",
    "\n",
    "    # Predict on the test data\n",
    "    y_pred = logistic_regression_model.predict(X_test)\n",
    "\n",
    "    cm = confusion_matrix(y_test, y_pred)\n",
    "\n",
    "    disp = ConfusionMatrixDisplay(confusion_matrix=cm,display_labels=logistic_regression_model.classes_)\n",
    "\n",
    "    disp.plot()\n",
    "\n",
    "    return y_pred, y_test"
   ]
  },
  {
   "cell_type": "code",
   "execution_count": 87,
   "metadata": {},
   "outputs": [
    {
     "name": "stderr",
     "output_type": "stream",
     "text": [
      "/opt/homebrew/lib/python3.11/site-packages/sklearn/linear_model/_logistic.py:460: ConvergenceWarning: lbfgs failed to converge (status=1):\n",
      "STOP: TOTAL NO. of ITERATIONS REACHED LIMIT.\n",
      "\n",
      "Increase the number of iterations (max_iter) or scale the data as shown in:\n",
      "    https://scikit-learn.org/stable/modules/preprocessing.html\n",
      "Please also refer to the documentation for alternative solver options:\n",
      "    https://scikit-learn.org/stable/modules/linear_model.html#logistic-regression\n",
      "  n_iter_i = _check_optimize_result(\n"
     ]
    },
    {
     "data": {
      "image/png": "[encoded data removed]",
      "text/plain": [
       "<Figure size 640x480 with 2 Axes>"
      ]
     },
     "metadata": {},
     "output_type": "display_data"
    }
   ],
   "source": [
    "y_pred, y_test = oversample_logistic(X_over,y_over)"
   ]
  },
  {
   "cell_type": "code",
   "execution_count": 88,
   "metadata": {},
   "outputs": [
    {
     "name": "stdout",
     "output_type": "stream",
     "text": [
      "accuracy : 0.7046646054577228\n",
      "f1 score  : 0.6754033589388955\n"
     ]
    }
   ],
   "source": [
    "accuracy = accuracy_score(y_test, y_pred)\n",
    "print('accuracy : ' + str(accuracy))\n",
    "f1_score = f1_score(y_test, y_pred, average='weighted')\n",
    "print('f1 score  : ' + str(f1_score))"
   ]
  },
  {
   "cell_type": "markdown",
   "metadata": {},
   "source": [
    "### No Sampling"
   ]
  },
  {
   "cell_type": "markdown",
   "metadata": {},
   "source": [
    "#### Trying different Models"
   ]
  },
  {
   "cell_type": "code",
   "execution_count": 63,
   "metadata": {},
   "outputs": [
    {
     "name": "stdout",
     "output_type": "stream",
     "text": [
      "Training Logistic Regression...\n"
     ]
    },
    {
     "name": "stderr",
     "output_type": "stream",
     "text": [
      "/opt/homebrew/lib/python3.11/site-packages/sklearn/linear_model/_logistic.py:460: ConvergenceWarning: lbfgs failed to converge (status=1):\n",
      "STOP: TOTAL NO. of ITERATIONS REACHED LIMIT.\n",
      "\n",
      "Increase the number of iterations (max_iter) or scale the data as shown in:\n",
      "    https://scikit-learn.org/stable/modules/preprocessing.html\n",
      "Please also refer to the documentation for alternative solver options:\n",
      "    https://scikit-learn.org/stable/modules/linear_model.html#logistic-regression\n",
      "  n_iter_i = _check_optimize_result(\n",
      "/opt/homebrew/lib/python3.11/site-packages/sklearn/metrics/_classification.py:1471: UndefinedMetricWarning: Precision and F-score are ill-defined and being set to 0.0 in labels with no predicted samples. Use `zero_division` parameter to control this behavior.\n",
      "  _warn_prf(average, modifier, msg_start, len(result))\n"
     ]
    },
    {
     "name": "stdout",
     "output_type": "stream",
     "text": [
      "Accuracy for Logistic Regression: 0.5293\n",
      "Classification Report for Logistic Regression:\n"
     ]
    },
    {
     "name": "stderr",
     "output_type": "stream",
     "text": [
      "/opt/homebrew/lib/python3.11/site-packages/sklearn/metrics/_classification.py:1471: UndefinedMetricWarning: Precision and F-score are ill-defined and being set to 0.0 in labels with no predicted samples. Use `zero_division` parameter to control this behavior.\n",
      "  _warn_prf(average, modifier, msg_start, len(result))\n",
      "/opt/homebrew/lib/python3.11/site-packages/sklearn/metrics/_classification.py:1471: UndefinedMetricWarning: Precision and F-score are ill-defined and being set to 0.0 in labels with no predicted samples. Use `zero_division` parameter to control this behavior.\n",
      "  _warn_prf(average, modifier, msg_start, len(result))\n"
     ]
    },
    {
     "name": "stdout",
     "output_type": "stream",
     "text": [
      "              precision    recall  f1-score   support\n",
      "\n",
      "           0       0.55      0.36      0.44      3680\n",
      "           1       0.53      0.66      0.59      7429\n",
      "           2       0.42      0.35      0.38      1719\n",
      "           3       0.58      0.52      0.55      2109\n",
      "           4       0.00      0.00      0.00        50\n",
      "           5       0.00      0.00      0.00        26\n",
      "           6       0.00      0.00      0.00        31\n",
      "           7       0.56      0.54      0.55       992\n",
      "\n",
      "    accuracy                           0.53     16036\n",
      "   macro avg       0.33      0.30      0.31     16036\n",
      "weighted avg       0.53      0.53      0.52     16036\n",
      "\n",
      "Confusion Matrix for Logistic Regression:\n",
      "[[1338 2031  232   61    0    0    0   18]\n",
      " [ 816 4919  593  714    0    1    0  386]\n",
      " [ 202  894  607    3    0    0    0   13]\n",
      " [  22  994    0 1093    0    0    0    0]\n",
      " [   6   37    7    0    0    0    0    0]\n",
      " [   9   13    4    0    0    0    0    0]\n",
      " [   7   16    8    0    0    0    0    0]\n",
      " [  14  441    6    0    0    0    0  531]]\n",
      "\n",
      "\n",
      "F1 Score: 0.52\n",
      "Training Decision Tree...\n",
      "Accuracy for Decision Tree: 0.4063\n",
      "Classification Report for Decision Tree:\n",
      "              precision    recall  f1-score   support\n",
      "\n",
      "           0       0.46      0.52      0.48      3680\n",
      "           1       0.40      0.41      0.40      7429\n",
      "           2       0.30      0.25      0.27      1719\n",
      "           3       0.46      0.41      0.43      2109\n",
      "           4       0.04      0.04      0.04        50\n",
      "           5       0.15      0.15      0.15        26\n",
      "           6       0.04      0.03      0.03        31\n",
      "           7       0.33      0.27      0.30       992\n",
      "\n",
      "    accuracy                           0.41     16036\n",
      "   macro avg       0.27      0.26      0.26     16036\n",
      "weighted avg       0.40      0.41      0.40     16036\n",
      "\n",
      "Confusion Matrix for Decision Tree:\n",
      "[[1906 1569  137   13   34    9   11    1]\n",
      " [1986 3036  851  981   20   13    5  537]\n",
      " [ 189 1076  432    6    0    0   11    5]\n",
      " [  12 1229    4  863    0    1    0    0]\n",
      " [  36    9    3    0    2    0    0    0]\n",
      " [  15    7    0    0    0    4    0    0]\n",
      " [  15    4   11    0    0    0    1    0]\n",
      " [  21  694    5    0    0    0    0  272]]\n",
      "\n",
      "\n",
      "F1 Score: 0.52\n",
      "Training Random Forest...\n",
      "Accuracy for Random Forest: 0.4467\n",
      "Classification Report for Random Forest:\n",
      "              precision    recall  f1-score   support\n",
      "\n",
      "           0       0.47      0.44      0.45      3680\n",
      "           1       0.43      0.44      0.44      7429\n",
      "           2       0.37      0.34      0.35      1719\n",
      "           3       0.56      0.59      0.58      2109\n",
      "           4       0.08      0.10      0.09        50\n",
      "           5       0.26      0.27      0.26        26\n",
      "           6       0.13      0.10      0.11        31\n",
      "           7       0.40      0.41      0.41       992\n",
      "\n",
      "    accuracy                           0.45     16036\n",
      "   macro avg       0.34      0.34      0.34     16036\n",
      "weighted avg       0.45      0.45      0.45     16036\n",
      "\n",
      "Confusion Matrix for Random Forest:\n",
      "[[1621 1885  100    9   44    8    6    7]\n",
      " [1662 3275  908  958   17   12    6  591]\n",
      " [ 112 1000  591    1    0    0    8    7]\n",
      " [   4  852    0 1253    0    0    0    0]\n",
      " [  23   20    2    0    5    0    0    0]\n",
      " [   9    9    1    0    0    7    0    0]\n",
      " [  15    4    9    0    0    0    3    0]\n",
      " [   5  576    3    0    0    0    0  408]]\n",
      "\n",
      "\n",
      "F1 Score: 0.52\n",
      "Training Support Vector Machine...\n",
      "Accuracy for Support Vector Machine: 0.5261\n",
      "Classification Report for Support Vector Machine:\n",
      "              precision    recall  f1-score   support\n",
      "\n",
      "           0       0.76      0.16      0.26      3680\n",
      "           1       0.50      0.82      0.62      7429\n",
      "           2       0.46      0.03      0.06      1719\n",
      "           3       0.60      0.46      0.52      2109\n",
      "           4       0.00      0.00      0.00        50\n",
      "           5       0.00      0.00      0.00        26\n",
      "           6       0.00      0.00      0.00        31\n",
      "           7       0.55      0.72      0.63       992\n",
      "\n",
      "    accuracy                           0.53     16036\n",
      "   macro avg       0.36      0.27      0.26     16036\n",
      "weighted avg       0.57      0.53      0.46     16036\n",
      "\n",
      "Confusion Matrix for Support Vector Machine:\n",
      "[[ 576 2977   31   50    0    0    0   46]\n",
      " [ 176 6117   36  584    0    0    0  516]\n",
      " [   6 1629   58    1    0    0    0   25]\n",
      " [   0 1141    0  968    0    0    0    0]\n",
      " [   1   49    0    0    0    0    0    0]\n",
      " [   0   26    0    0    0    0    0    0]\n",
      " [   0   31    0    0    0    0    0    0]\n",
      " [   0  274    0    0    0    0    0  718]]\n",
      "\n",
      "\n",
      "F1 Score: 0.52\n"
     ]
    },
    {
     "name": "stderr",
     "output_type": "stream",
     "text": [
      "/opt/homebrew/lib/python3.11/site-packages/sklearn/metrics/_classification.py:1471: UndefinedMetricWarning: Precision and F-score are ill-defined and being set to 0.0 in labels with no predicted samples. Use `zero_division` parameter to control this behavior.\n",
      "  _warn_prf(average, modifier, msg_start, len(result))\n",
      "/opt/homebrew/lib/python3.11/site-packages/sklearn/metrics/_classification.py:1471: UndefinedMetricWarning: Precision and F-score are ill-defined and being set to 0.0 in labels with no predicted samples. Use `zero_division` parameter to control this behavior.\n",
      "  _warn_prf(average, modifier, msg_start, len(result))\n",
      "/opt/homebrew/lib/python3.11/site-packages/sklearn/metrics/_classification.py:1471: UndefinedMetricWarning: Precision and F-score are ill-defined and being set to 0.0 in labels with no predicted samples. Use `zero_division` parameter to control this behavior.\n",
      "  _warn_prf(average, modifier, msg_start, len(result))\n"
     ]
    }
   ],
   "source": [
    "\n",
    "# Define a dictionary to store models\n",
    "models = {\n",
    "    'Logistic Regression': LogisticRegression(),\n",
    "    'Decision Tree': DecisionTreeClassifier(),\n",
    "    'Random Forest': RandomForestClassifier(),\n",
    "    'Support Vector Machine': SVC()\n",
    "}\n",
    "\n",
    "# Train and evaluate each model\n",
    "for name, model in models.items():\n",
    "    print(f\"Training {name}...\")\n",
    "    model.fit(X_train, y_train)\n",
    "    y_pred = model.predict(X_test)\n",
    "    \n",
    "    accuracy = accuracy_score(y_test, y_pred)\n",
    "    print(f\"Accuracy for {name}: {accuracy:.4f}\")\n",
    "    \n",
    "    # Additional evaluation metrics\n",
    "    print(f\"Classification Report for {name}:\")\n",
    "    print(classification_report(y_test, y_pred))\n",
    "    \n",
    "    print(f\"Confusion Matrix for {name}:\")\n",
    "    print(confusion_matrix(y_test, y_pred))\n",
    "    print(\"\\n\")\n",
    "\n",
    "\n",
    "    # Extract F1 score from classification report\n",
    "    f1_score = classification_rep.split()[-2]\n",
    "\n",
    "    print(\"F1 Score:\", f1_score)\n",
    "\n"
   ]
  },
  {
   "cell_type": "code",
   "execution_count": 64,
   "metadata": {},
   "outputs": [
    {
     "data": {
      "text/plain": [
       "label\n",
       "1    37195\n",
       "0    17995\n",
       "3    10727\n",
       "2     8567\n",
       "7     5042\n",
       "4      357\n",
       "6      152\n",
       "5      141\n",
       "Name: count, dtype: int64"
      ]
     },
     "execution_count": 64,
     "metadata": {},
     "output_type": "execute_result"
    }
   ],
   "source": [
    "df_encoded['label'].value_counts()"
   ]
  },
  {
   "cell_type": "code",
   "execution_count": 101,
   "metadata": {},
   "outputs": [],
   "source": [
    "def oversample_multi_models(X,y):\n",
    "    X_train, X_test, y_train, y_test = train_test_split(X, y, test_size=0.2, random_state=42)\n",
    "\n",
    "    # Define a dictionary to store models\n",
    "    models = {\n",
    "        'Logistic Regression': LogisticRegression(),\n",
    "        'Decision Tree': DecisionTreeClassifier(),\n",
    "        'Random Forest': RandomForestClassifier(),\n",
    "        'Support Vector Machine': SVC()\n",
    "    }\n",
    "\n",
    "    # Train and evaluate each model\n",
    "    for name, model in models.items():\n",
    "        print(f\"Training {name}...\")\n",
    "        model.fit(X_train, y_train)\n",
    "        y_pred = model.predict(X_test)\n",
    "        \n",
    "        cm = confusion_matrix(y_test, y_pred)\n",
    "        disp = ConfusionMatrixDisplay(confusion_matrix=cm,display_labels=logistic_regression_model.classes_)\n",
    "\n",
    "        accuracy = accuracy_score(y_test, y_pred)\n",
    "        print('accuracy : ' + str(accuracy))\n",
    "        f1_value = f1_score(y_test, y_pred, average='weighted')\n",
    "        print('f1 score  : ' + str(f1_value))\n",
    "\n",
    "        disp.plot()"
   ]
  },
  {
   "cell_type": "code",
   "execution_count": 102,
   "metadata": {},
   "outputs": [
    {
     "name": "stdout",
     "output_type": "stream",
     "text": [
      "Training Logistic Regression...\n"
     ]
    },
    {
     "name": "stderr",
     "output_type": "stream",
     "text": [
      "/opt/homebrew/lib/python3.11/site-packages/sklearn/linear_model/_logistic.py:460: ConvergenceWarning: lbfgs failed to converge (status=1):\n",
      "STOP: TOTAL NO. of ITERATIONS REACHED LIMIT.\n",
      "\n",
      "Increase the number of iterations (max_iter) or scale the data as shown in:\n",
      "    https://scikit-learn.org/stable/modules/preprocessing.html\n",
      "Please also refer to the documentation for alternative solver options:\n",
      "    https://scikit-learn.org/stable/modules/linear_model.html#logistic-regression\n",
      "  n_iter_i = _check_optimize_result(\n"
     ]
    },
    {
     "name": "stdout",
     "output_type": "stream",
     "text": [
      "accuracy : 0.6864497916386612\n",
      "f1 score  : 0.6631368996488407\n",
      "Training Decision Tree...\n",
      "accuracy : 0.8783102567549402\n",
      "f1 score  : 0.8639599064071858\n",
      "Training Random Forest...\n",
      "accuracy : 0.8813012501680333\n",
      "f1 score  : 0.8658276140795483\n",
      "Training Support Vector Machine...\n"
     ]
    }
   ],
   "source": [
    "y_pred, y_test = oversample_multi_models(X_over,y_over)"
   ]
  },
  {
   "cell_type": "markdown",
   "metadata": {},
   "source": [
    "### Using Deep Learning Algorithms"
   ]
  },
  {
   "cell_type": "code",
   "execution_count": 313,
   "metadata": {},
   "outputs": [],
   "source": [
    "df2 = df_encoded.copy()"
   ]
  },
  {
   "cell_type": "markdown",
   "metadata": {},
   "source": [
    "No Sampling"
   ]
  },
  {
   "cell_type": "code",
   "execution_count": 314,
   "metadata": {},
   "outputs": [],
   "source": [
    "bool_columns = df2.select_dtypes(include=['bool']).columns"
   ]
  },
  {
   "cell_type": "code",
   "execution_count": 315,
   "metadata": {},
   "outputs": [
    {
     "data": {
      "text/plain": [
       "Index(['day_Fri', 'day_Mon', 'day_No day', 'day_Sat', 'day_Sun', 'day_Thu',\n",
       "       'day_Tue', 'day_Wed', 'month_Apr', 'month_Aug', 'month_Dec',\n",
       "       'month_Feb', 'month_Jan', 'month_Jul', 'month_Jun', 'month_Mar',\n",
       "       'month_May', 'month_Missing', 'month_No Month', 'month_Nov',\n",
       "       'month_Oct', 'month_Sep', 'top_org_Others', 'top_org_amazon',\n",
       "       'top_org_github', 'top_org_gmail', 'top_org_google', 'top_org_iiitd',\n",
       "       'top_org_linkedin', 'top_org_nrsc', 'top_org_quora', 'top_org_twitter',\n",
       "       'top_org_usebackpack', 'top_org_youtube', 'top_tld_Others',\n",
       "       'top_tld_ac.in', 'top_tld_ai', 'top_tld_co.in', 'top_tld_com',\n",
       "       'top_tld_fr', 'top_tld_gov.in', 'top_tld_in', 'top_tld_net',\n",
       "       'top_tld_netflix.com', 'top_tld_org', 'mail1_multipart', 'mail1_other',\n",
       "       'mail1_text', 'mail2_alternative', 'mail2_calendar', 'mail2_html',\n",
       "       'mail2_html ', 'mail2_idm', 'mail2_mixed', 'mail2_other', 'mail2_plain',\n",
       "       'mail2_related', 'mail2_report', 'mail2_signed'],\n",
       "      dtype='object')"
      ]
     },
     "execution_count": 315,
     "metadata": {},
     "output_type": "execute_result"
    }
   ],
   "source": [
    "bool_columns"
   ]
  },
  {
   "cell_type": "code",
   "execution_count": 316,
   "metadata": {},
   "outputs": [],
   "source": [
    "df2[bool_columns] = df2[bool_columns].astype(int)"
   ]
  },
  {
   "cell_type": "code",
   "execution_count": 317,
   "metadata": {},
   "outputs": [
    {
     "data": {
      "text/html": [
       "<div>\n",
       "<style scoped>\n",
       "    .dataframe tbody tr th:only-of-type {\n",
       "        vertical-align: middle;\n",
       "    }\n",
       "\n",
       "    .dataframe tbody tr th {\n",
       "        vertical-align: top;\n",
       "    }\n",
       "\n",
       "    .dataframe thead th {\n",
       "        text-align: right;\n",
       "    }\n",
       "</style>\n",
       "<table border=\"1\" class=\"dataframe\">\n",
       "  <thead>\n",
       "    <tr style=\"text-align: right;\">\n",
       "      <th></th>\n",
       "      <th>class_0</th>\n",
       "      <th>class_1</th>\n",
       "      <th>class_2</th>\n",
       "      <th>class_3</th>\n",
       "      <th>class_4</th>\n",
       "      <th>class_5</th>\n",
       "      <th>class_6</th>\n",
       "      <th>class_7</th>\n",
       "    </tr>\n",
       "  </thead>\n",
       "  <tbody>\n",
       "    <tr>\n",
       "      <th>0</th>\n",
       "      <td>False</td>\n",
       "      <td>False</td>\n",
       "      <td>True</td>\n",
       "      <td>False</td>\n",
       "      <td>False</td>\n",
       "      <td>False</td>\n",
       "      <td>False</td>\n",
       "      <td>False</td>\n",
       "    </tr>\n",
       "    <tr>\n",
       "      <th>1</th>\n",
       "      <td>False</td>\n",
       "      <td>True</td>\n",
       "      <td>False</td>\n",
       "      <td>False</td>\n",
       "      <td>False</td>\n",
       "      <td>False</td>\n",
       "      <td>False</td>\n",
       "      <td>False</td>\n",
       "    </tr>\n",
       "    <tr>\n",
       "      <th>2</th>\n",
       "      <td>False</td>\n",
       "      <td>True</td>\n",
       "      <td>False</td>\n",
       "      <td>False</td>\n",
       "      <td>False</td>\n",
       "      <td>False</td>\n",
       "      <td>False</td>\n",
       "      <td>False</td>\n",
       "    </tr>\n",
       "    <tr>\n",
       "      <th>3</th>\n",
       "      <td>False</td>\n",
       "      <td>True</td>\n",
       "      <td>False</td>\n",
       "      <td>False</td>\n",
       "      <td>False</td>\n",
       "      <td>False</td>\n",
       "      <td>False</td>\n",
       "      <td>False</td>\n",
       "    </tr>\n",
       "    <tr>\n",
       "      <th>4</th>\n",
       "      <td>False</td>\n",
       "      <td>True</td>\n",
       "      <td>False</td>\n",
       "      <td>False</td>\n",
       "      <td>False</td>\n",
       "      <td>False</td>\n",
       "      <td>False</td>\n",
       "      <td>False</td>\n",
       "    </tr>\n",
       "    <tr>\n",
       "      <th>...</th>\n",
       "      <td>...</td>\n",
       "      <td>...</td>\n",
       "      <td>...</td>\n",
       "      <td>...</td>\n",
       "      <td>...</td>\n",
       "      <td>...</td>\n",
       "      <td>...</td>\n",
       "      <td>...</td>\n",
       "    </tr>\n",
       "    <tr>\n",
       "      <th>80171</th>\n",
       "      <td>False</td>\n",
       "      <td>False</td>\n",
       "      <td>False</td>\n",
       "      <td>True</td>\n",
       "      <td>False</td>\n",
       "      <td>False</td>\n",
       "      <td>False</td>\n",
       "      <td>False</td>\n",
       "    </tr>\n",
       "    <tr>\n",
       "      <th>80172</th>\n",
       "      <td>True</td>\n",
       "      <td>False</td>\n",
       "      <td>False</td>\n",
       "      <td>False</td>\n",
       "      <td>False</td>\n",
       "      <td>False</td>\n",
       "      <td>False</td>\n",
       "      <td>False</td>\n",
       "    </tr>\n",
       "    <tr>\n",
       "      <th>80173</th>\n",
       "      <td>True</td>\n",
       "      <td>False</td>\n",
       "      <td>False</td>\n",
       "      <td>False</td>\n",
       "      <td>False</td>\n",
       "      <td>False</td>\n",
       "      <td>False</td>\n",
       "      <td>False</td>\n",
       "    </tr>\n",
       "    <tr>\n",
       "      <th>80174</th>\n",
       "      <td>True</td>\n",
       "      <td>False</td>\n",
       "      <td>False</td>\n",
       "      <td>False</td>\n",
       "      <td>False</td>\n",
       "      <td>False</td>\n",
       "      <td>False</td>\n",
       "      <td>False</td>\n",
       "    </tr>\n",
       "    <tr>\n",
       "      <th>80175</th>\n",
       "      <td>True</td>\n",
       "      <td>False</td>\n",
       "      <td>False</td>\n",
       "      <td>False</td>\n",
       "      <td>False</td>\n",
       "      <td>False</td>\n",
       "      <td>False</td>\n",
       "      <td>False</td>\n",
       "    </tr>\n",
       "  </tbody>\n",
       "</table>\n",
       "<p>80176 rows × 8 columns</p>\n",
       "</div>"
      ],
      "text/plain": [
       "       class_0  class_1  class_2  class_3  class_4  class_5  class_6  class_7\n",
       "0        False    False     True    False    False    False    False    False\n",
       "1        False     True    False    False    False    False    False    False\n",
       "2        False     True    False    False    False    False    False    False\n",
       "3        False     True    False    False    False    False    False    False\n",
       "4        False     True    False    False    False    False    False    False\n",
       "...        ...      ...      ...      ...      ...      ...      ...      ...\n",
       "80171    False    False    False     True    False    False    False    False\n",
       "80172     True    False    False    False    False    False    False    False\n",
       "80173     True    False    False    False    False    False    False    False\n",
       "80174     True    False    False    False    False    False    False    False\n",
       "80175     True    False    False    False    False    False    False    False\n",
       "\n",
       "[80176 rows x 8 columns]"
      ]
     },
     "execution_count": 317,
     "metadata": {},
     "output_type": "execute_result"
    }
   ],
   "source": [
    "one_hot_encoded = pd.get_dummies(df2['label'], prefix='class')\n",
    "one_hot_encoded"
   ]
  },
  {
   "cell_type": "code",
   "execution_count": 318,
   "metadata": {},
   "outputs": [],
   "source": [
    "# If you want to ensure the resulting DataFrame has exactly 8 columns, you can use the reindex function\n",
    "# This is useful in case some categories are missing in the data\n",
    "#one_hot_encoded = one_hot_encoded.reindex(columns=[f'class_{i}' for i in range(8)], fill_value=0)\n"
   ]
  },
  {
   "cell_type": "code",
   "execution_count": 319,
   "metadata": {},
   "outputs": [
    {
     "data": {
      "text/plain": [
       "(80176, 8)"
      ]
     },
     "execution_count": 319,
     "metadata": {},
     "output_type": "execute_result"
    }
   ],
   "source": [
    "one_hot_encoded.shape"
   ]
  },
  {
   "cell_type": "code",
   "execution_count": 334,
   "metadata": {},
   "outputs": [],
   "source": [
    "X2 = df2.drop(columns=['label']) \n",
    "y2 = one_hot_encoded\n",
    "X_train2, X_test2, y_train2, y_test2 = train_test_split(X2, y2, test_size=0.2, random_state=42)\n"
   ]
  },
  {
   "cell_type": "code",
   "execution_count": 335,
   "metadata": {},
   "outputs": [],
   "source": [
    "Xtensor = tf.convert_to_tensor(X_train2)\n",
    "ytensor = tf.convert_to_tensor(y_train2)"
   ]
  },
  {
   "cell_type": "code",
   "execution_count": 336,
   "metadata": {},
   "outputs": [
    {
     "data": {
      "text/plain": [
       "TensorShape([64140, 8])"
      ]
     },
     "execution_count": 336,
     "metadata": {},
     "output_type": "execute_result"
    }
   ],
   "source": [
    "ytensor.shape"
   ]
  },
  {
   "cell_type": "markdown",
   "metadata": {},
   "source": [
    "Define"
   ]
  },
  {
   "cell_type": "code",
   "execution_count": 337,
   "metadata": {},
   "outputs": [],
   "source": [
    "model = Sequential(\n",
    "    [\n",
    "        Dense(15, activation='relu', name = 'layer1'),\n",
    "        Dense(13, activation='relu', name = 'layer2'),\n",
    "        Dense(11, activation='relu', name = 'layer3'),\n",
    "        Dense(8, activation='softmax') \n",
    "     ]\n",
    ")"
   ]
  },
  {
   "cell_type": "markdown",
   "metadata": {},
   "source": [
    "Compile"
   ]
  },
  {
   "cell_type": "code",
   "execution_count": 340,
   "metadata": {},
   "outputs": [
    {
     "data": {
      "text/plain": [
       "'\\nmodel.compile(\\n    loss = tf.keras.losses.SparseCategoricalCrossentropy(),\\n    optimizer = tf.keras.optimizers.Adam(learning_rate=0.01)\\n)\\n'"
      ]
     },
     "execution_count": 340,
     "metadata": {},
     "output_type": "execute_result"
    }
   ],
   "source": [
    "\"\"\"\n",
    "model.compile(\n",
    "    loss = tf.keras.losses.SparseCategoricalCrossentropy(),\n",
    "    optimizer = tf.keras.optimizers.Adam(learning_rate=0.01)\n",
    ")\n",
    "\"\"\""
   ]
  },
  {
   "cell_type": "code",
   "execution_count": 324,
   "metadata": {},
   "outputs": [
    {
     "name": "stderr",
     "output_type": "stream",
     "text": [
      "WARNING:absl:At this time, the v2.11+ optimizer `tf.keras.optimizers.Adam` runs slowly on M1/M2 Macs, please use the legacy Keras optimizer instead, located at `tf.keras.optimizers.legacy.Adam`.\n"
     ]
    }
   ],
   "source": [
    "model.compile(\n",
    "    loss = tf.keras.losses.BinaryCrossentropy(),\n",
    "    optimizer = tf.keras.optimizers.Adam(learning_rate=0.01)\n",
    ")"
   ]
  },
  {
   "cell_type": "markdown",
   "metadata": {},
   "source": [
    "Fit"
   ]
  },
  {
   "cell_type": "code",
   "execution_count": 339,
   "metadata": {},
   "outputs": [
    {
     "name": "stdout",
     "output_type": "stream",
     "text": [
      "Epoch 1/10\n"
     ]
    },
    {
     "ename": "InvalidArgumentError",
     "evalue": "Graph execution error:\n\nDetected at node sparse_categorical_crossentropy/SparseSoftmaxCrossEntropyWithLogits/SparseSoftmaxCrossEntropyWithLogits defined at (most recent call last):\n  File \"<frozen runpy>\", line 198, in _run_module_as_main\n\n  File \"<frozen runpy>\", line 88, in _run_code\n\n  File \"/Users/mitsoufortunat/Library/Python/3.11/lib/python/site-packages/ipykernel_launcher.py\", line 17, in <module>\n\n  File \"/Users/mitsoufortunat/Library/Python/3.11/lib/python/site-packages/traitlets/config/application.py\", line 1053, in launch_instance\n\n  File \"/Users/mitsoufortunat/Library/Python/3.11/lib/python/site-packages/ipykernel/kernelapp.py\", line 737, in start\n\n  File \"/opt/homebrew/lib/python3.11/site-packages/tornado/platform/asyncio.py\", line 195, in start\n\n  File \"/opt/homebrew/Cellar/python@3.11/3.11.6_1/Frameworks/Python.framework/Versions/3.11/lib/python3.11/asyncio/base_events.py\", line 607, in run_forever\n\n  File \"/opt/homebrew/Cellar/python@3.11/3.11.6_1/Frameworks/Python.framework/Versions/3.11/lib/python3.11/asyncio/base_events.py\", line 1922, in _run_once\n\n  File \"/opt/homebrew/Cellar/python@3.11/3.11.6_1/Frameworks/Python.framework/Versions/3.11/lib/python3.11/asyncio/events.py\", line 80, in _run\n\n  File \"/Users/mitsoufortunat/Library/Python/3.11/lib/python/site-packages/ipykernel/kernelbase.py\", line 524, in dispatch_queue\n\n  File \"/Users/mitsoufortunat/Library/Python/3.11/lib/python/site-packages/ipykernel/kernelbase.py\", line 513, in process_one\n\n  File \"/Users/mitsoufortunat/Library/Python/3.11/lib/python/site-packages/ipykernel/kernelbase.py\", line 418, in dispatch_shell\n\n  File \"/Users/mitsoufortunat/Library/Python/3.11/lib/python/site-packages/ipykernel/kernelbase.py\", line 758, in execute_request\n\n  File \"/Users/mitsoufortunat/Library/Python/3.11/lib/python/site-packages/ipykernel/ipkernel.py\", line 426, in do_execute\n\n  File \"/Users/mitsoufortunat/Library/Python/3.11/lib/python/site-packages/ipykernel/zmqshell.py\", line 549, in run_cell\n\n  File \"/Users/mitsoufortunat/Library/Python/3.11/lib/python/site-packages/IPython/core/interactiveshell.py\", line 3046, in run_cell\n\n  File \"/Users/mitsoufortunat/Library/Python/3.11/lib/python/site-packages/IPython/core/interactiveshell.py\", line 3101, in _run_cell\n\n  File \"/Users/mitsoufortunat/Library/Python/3.11/lib/python/site-packages/IPython/core/async_helpers.py\", line 129, in _pseudo_sync_runner\n\n  File \"/Users/mitsoufortunat/Library/Python/3.11/lib/python/site-packages/IPython/core/interactiveshell.py\", line 3306, in run_cell_async\n\n  File \"/Users/mitsoufortunat/Library/Python/3.11/lib/python/site-packages/IPython/core/interactiveshell.py\", line 3488, in run_ast_nodes\n\n  File \"/Users/mitsoufortunat/Library/Python/3.11/lib/python/site-packages/IPython/core/interactiveshell.py\", line 3548, in run_code\n\n  File \"/var/folders/5w/0rbr_3m55zvcks3pv8gm43s40000gn/T/ipykernel_627/3206322695.py\", line 1, in <module>\n\n  File \"/opt/homebrew/lib/python3.11/site-packages/keras/src/utils/traceback_utils.py\", line 65, in error_handler\n\n  File \"/opt/homebrew/lib/python3.11/site-packages/keras/src/engine/training.py\", line 1807, in fit\n\n  File \"/opt/homebrew/lib/python3.11/site-packages/keras/src/engine/training.py\", line 1401, in train_function\n\n  File \"/opt/homebrew/lib/python3.11/site-packages/keras/src/engine/training.py\", line 1384, in step_function\n\n  File \"/opt/homebrew/lib/python3.11/site-packages/keras/src/engine/training.py\", line 1373, in run_step\n\n  File \"/opt/homebrew/lib/python3.11/site-packages/keras/src/engine/training.py\", line 1151, in train_step\n\n  File \"/opt/homebrew/lib/python3.11/site-packages/keras/src/engine/training.py\", line 1209, in compute_loss\n\n  File \"/opt/homebrew/lib/python3.11/site-packages/keras/src/engine/compile_utils.py\", line 277, in __call__\n\n  File \"/opt/homebrew/lib/python3.11/site-packages/keras/src/losses.py\", line 143, in __call__\n\n  File \"/opt/homebrew/lib/python3.11/site-packages/keras/src/losses.py\", line 270, in call\n\n  File \"/opt/homebrew/lib/python3.11/site-packages/keras/src/losses.py\", line 2454, in sparse_categorical_crossentropy\n\n  File \"/opt/homebrew/lib/python3.11/site-packages/keras/src/backend.py\", line 5775, in sparse_categorical_crossentropy\n\nlogits and labels must have the same first dimension, got logits shape [32,8] and labels shape [256]\n\t [[{{node sparse_categorical_crossentropy/SparseSoftmaxCrossEntropyWithLogits/SparseSoftmaxCrossEntropyWithLogits}}]] [Op:__inference_train_function_9938650]",
     "output_type": "error",
     "traceback": [
      "\u001b[0;31m---------------------------------------------------------------------------\u001b[0m",
      "\u001b[0;31mInvalidArgumentError\u001b[0m                      Traceback (most recent call last)",
      "Cell \u001b[0;32mIn[339], line 1\u001b[0m\n\u001b[0;32m----> 1\u001b[0m \u001b[43mmodel\u001b[49m\u001b[38;5;241;43m.\u001b[39;49m\u001b[43mfit\u001b[49m\u001b[43m(\u001b[49m\n\u001b[1;32m      2\u001b[0m \u001b[43m    \u001b[49m\u001b[43mXtensor\u001b[49m\u001b[43m,\u001b[49m\u001b[43mytensor\u001b[49m\u001b[43m,\u001b[49m\u001b[43m            \u001b[49m\n\u001b[1;32m      3\u001b[0m \u001b[43m    \u001b[49m\u001b[43mepochs\u001b[49m\u001b[38;5;241;43m=\u001b[39;49m\u001b[38;5;241;43m10\u001b[39;49m\u001b[43m,\u001b[49m\n\u001b[1;32m      4\u001b[0m \u001b[43m)\u001b[49m\n",
      "File \u001b[0;32m/opt/homebrew/lib/python3.11/site-packages/keras/src/utils/traceback_utils.py:70\u001b[0m, in \u001b[0;36mfilter_traceback.<locals>.error_handler\u001b[0;34m(*args, **kwargs)\u001b[0m\n\u001b[1;32m     67\u001b[0m     filtered_tb \u001b[38;5;241m=\u001b[39m _process_traceback_frames(e\u001b[38;5;241m.\u001b[39m__traceback__)\n\u001b[1;32m     68\u001b[0m     \u001b[38;5;66;03m# To get the full stack trace, call:\u001b[39;00m\n\u001b[1;32m     69\u001b[0m     \u001b[38;5;66;03m# `tf.debugging.disable_traceback_filtering()`\u001b[39;00m\n\u001b[0;32m---> 70\u001b[0m     \u001b[38;5;28;01mraise\u001b[39;00m e\u001b[38;5;241m.\u001b[39mwith_traceback(filtered_tb) \u001b[38;5;28;01mfrom\u001b[39;00m \u001b[38;5;28;01mNone\u001b[39;00m\n\u001b[1;32m     71\u001b[0m \u001b[38;5;28;01mfinally\u001b[39;00m:\n\u001b[1;32m     72\u001b[0m     \u001b[38;5;28;01mdel\u001b[39;00m filtered_tb\n",
      "File \u001b[0;32m/opt/homebrew/lib/python3.11/site-packages/tensorflow/python/eager/execute.py:53\u001b[0m, in \u001b[0;36mquick_execute\u001b[0;34m(op_name, num_outputs, inputs, attrs, ctx, name)\u001b[0m\n\u001b[1;32m     51\u001b[0m \u001b[38;5;28;01mtry\u001b[39;00m:\n\u001b[1;32m     52\u001b[0m   ctx\u001b[38;5;241m.\u001b[39mensure_initialized()\n\u001b[0;32m---> 53\u001b[0m   tensors \u001b[38;5;241m=\u001b[39m pywrap_tfe\u001b[38;5;241m.\u001b[39mTFE_Py_Execute(ctx\u001b[38;5;241m.\u001b[39m_handle, device_name, op_name,\n\u001b[1;32m     54\u001b[0m                                       inputs, attrs, num_outputs)\n\u001b[1;32m     55\u001b[0m \u001b[38;5;28;01mexcept\u001b[39;00m core\u001b[38;5;241m.\u001b[39m_NotOkStatusException \u001b[38;5;28;01mas\u001b[39;00m e:\n\u001b[1;32m     56\u001b[0m   \u001b[38;5;28;01mif\u001b[39;00m name \u001b[38;5;129;01mis\u001b[39;00m \u001b[38;5;129;01mnot\u001b[39;00m \u001b[38;5;28;01mNone\u001b[39;00m:\n",
      "\u001b[0;31mInvalidArgumentError\u001b[0m: Graph execution error:\n\nDetected at node sparse_categorical_crossentropy/SparseSoftmaxCrossEntropyWithLogits/SparseSoftmaxCrossEntropyWithLogits defined at (most recent call last):\n  File \"<frozen runpy>\", line 198, in _run_module_as_main\n\n  File \"<frozen runpy>\", line 88, in _run_code\n\n  File \"/Users/mitsoufortunat/Library/Python/3.11/lib/python/site-packages/ipykernel_launcher.py\", line 17, in <module>\n\n  File \"/Users/mitsoufortunat/Library/Python/3.11/lib/python/site-packages/traitlets/config/application.py\", line 1053, in launch_instance\n\n  File \"/Users/mitsoufortunat/Library/Python/3.11/lib/python/site-packages/ipykernel/kernelapp.py\", line 737, in start\n\n  File \"/opt/homebrew/lib/python3.11/site-packages/tornado/platform/asyncio.py\", line 195, in start\n\n  File \"/opt/homebrew/Cellar/python@3.11/3.11.6_1/Frameworks/Python.framework/Versions/3.11/lib/python3.11/asyncio/base_events.py\", line 607, in run_forever\n\n  File \"/opt/homebrew/Cellar/python@3.11/3.11.6_1/Frameworks/Python.framework/Versions/3.11/lib/python3.11/asyncio/base_events.py\", line 1922, in _run_once\n\n  File \"/opt/homebrew/Cellar/python@3.11/3.11.6_1/Frameworks/Python.framework/Versions/3.11/lib/python3.11/asyncio/events.py\", line 80, in _run\n\n  File \"/Users/mitsoufortunat/Library/Python/3.11/lib/python/site-packages/ipykernel/kernelbase.py\", line 524, in dispatch_queue\n\n  File \"/Users/mitsoufortunat/Library/Python/3.11/lib/python/site-packages/ipykernel/kernelbase.py\", line 513, in process_one\n\n  File \"/Users/mitsoufortunat/Library/Python/3.11/lib/python/site-packages/ipykernel/kernelbase.py\", line 418, in dispatch_shell\n\n  File \"/Users/mitsoufortunat/Library/Python/3.11/lib/python/site-packages/ipykernel/kernelbase.py\", line 758, in execute_request\n\n  File \"/Users/mitsoufortunat/Library/Python/3.11/lib/python/site-packages/ipykernel/ipkernel.py\", line 426, in do_execute\n\n  File \"/Users/mitsoufortunat/Library/Python/3.11/lib/python/site-packages/ipykernel/zmqshell.py\", line 549, in run_cell\n\n  File \"/Users/mitsoufortunat/Library/Python/3.11/lib/python/site-packages/IPython/core/interactiveshell.py\", line 3046, in run_cell\n\n  File \"/Users/mitsoufortunat/Library/Python/3.11/lib/python/site-packages/IPython/core/interactiveshell.py\", line 3101, in _run_cell\n\n  File \"/Users/mitsoufortunat/Library/Python/3.11/lib/python/site-packages/IPython/core/async_helpers.py\", line 129, in _pseudo_sync_runner\n\n  File \"/Users/mitsoufortunat/Library/Python/3.11/lib/python/site-packages/IPython/core/interactiveshell.py\", line 3306, in run_cell_async\n\n  File \"/Users/mitsoufortunat/Library/Python/3.11/lib/python/site-packages/IPython/core/interactiveshell.py\", line 3488, in run_ast_nodes\n\n  File \"/Users/mitsoufortunat/Library/Python/3.11/lib/python/site-packages/IPython/core/interactiveshell.py\", line 3548, in run_code\n\n  File \"/var/folders/5w/0rbr_3m55zvcks3pv8gm43s40000gn/T/ipykernel_627/3206322695.py\", line 1, in <module>\n\n  File \"/opt/homebrew/lib/python3.11/site-packages/keras/src/utils/traceback_utils.py\", line 65, in error_handler\n\n  File \"/opt/homebrew/lib/python3.11/site-packages/keras/src/engine/training.py\", line 1807, in fit\n\n  File \"/opt/homebrew/lib/python3.11/site-packages/keras/src/engine/training.py\", line 1401, in train_function\n\n  File \"/opt/homebrew/lib/python3.11/site-packages/keras/src/engine/training.py\", line 1384, in step_function\n\n  File \"/opt/homebrew/lib/python3.11/site-packages/keras/src/engine/training.py\", line 1373, in run_step\n\n  File \"/opt/homebrew/lib/python3.11/site-packages/keras/src/engine/training.py\", line 1151, in train_step\n\n  File \"/opt/homebrew/lib/python3.11/site-packages/keras/src/engine/training.py\", line 1209, in compute_loss\n\n  File \"/opt/homebrew/lib/python3.11/site-packages/keras/src/engine/compile_utils.py\", line 277, in __call__\n\n  File \"/opt/homebrew/lib/python3.11/site-packages/keras/src/losses.py\", line 143, in __call__\n\n  File \"/opt/homebrew/lib/python3.11/site-packages/keras/src/losses.py\", line 270, in call\n\n  File \"/opt/homebrew/lib/python3.11/site-packages/keras/src/losses.py\", line 2454, in sparse_categorical_crossentropy\n\n  File \"/opt/homebrew/lib/python3.11/site-packages/keras/src/backend.py\", line 5775, in sparse_categorical_crossentropy\n\nlogits and labels must have the same first dimension, got logits shape [32,8] and labels shape [256]\n\t [[{{node sparse_categorical_crossentropy/SparseSoftmaxCrossEntropyWithLogits/SparseSoftmaxCrossEntropyWithLogits}}]] [Op:__inference_train_function_9938650]"
     ]
    }
   ],
   "source": [
    "model.fit(\n",
    "    Xtensor,ytensor,            \n",
    "    epochs=10,\n",
    ")"
   ]
  },
  {
   "cell_type": "code",
   "execution_count": 327,
   "metadata": {},
   "outputs": [
    {
     "data": {
      "text/plain": [
       "0.23886878788471222"
      ]
     },
     "execution_count": 327,
     "metadata": {},
     "output_type": "execute_result"
    }
   ],
   "source": [
    "loss = model.evaluate(Xtensor, ytensor, verbose=0)\n",
    "loss"
   ]
  },
  {
   "cell_type": "code",
   "execution_count": 328,
   "metadata": {},
   "outputs": [
    {
     "name": "stdout",
     "output_type": "stream",
     "text": [
      "2005/2005 [==============================] - 1s 276us/step\n"
     ]
    }
   ],
   "source": [
    "yhat = model.predict(X_train2)"
   ]
  },
  {
   "cell_type": "code",
   "execution_count": 329,
   "metadata": {},
   "outputs": [
    {
     "name": "stdout",
     "output_type": "stream",
     "text": [
      "              precision    recall  f1-score   support\n",
      "\n",
      "           0       0.68      0.18      0.29     14315\n",
      "           1       0.48      0.97      0.64     29766\n",
      "           2       0.00      0.00      0.00      6848\n",
      "           3       0.00      0.00      0.00      8618\n",
      "           4       0.00      0.00      0.00       307\n",
      "           5       0.00      0.00      0.00       115\n",
      "           6       0.00      0.00      0.00       121\n",
      "           7       0.00      0.00      0.00      4050\n",
      "\n",
      "    accuracy                           0.49     64140\n",
      "   macro avg       0.15      0.14      0.12     64140\n",
      "weighted avg       0.37      0.49      0.36     64140\n",
      "\n"
     ]
    },
    {
     "name": "stderr",
     "output_type": "stream",
     "text": [
      "/opt/homebrew/lib/python3.11/site-packages/sklearn/metrics/_classification.py:1471: UndefinedMetricWarning: Precision and F-score are ill-defined and being set to 0.0 in labels with no predicted samples. Use `zero_division` parameter to control this behavior.\n",
      "  _warn_prf(average, modifier, msg_start, len(result))\n",
      "/opt/homebrew/lib/python3.11/site-packages/sklearn/metrics/_classification.py:1471: UndefinedMetricWarning: Precision and F-score are ill-defined and being set to 0.0 in labels with no predicted samples. Use `zero_division` parameter to control this behavior.\n",
      "  _warn_prf(average, modifier, msg_start, len(result))\n",
      "/opt/homebrew/lib/python3.11/site-packages/sklearn/metrics/_classification.py:1471: UndefinedMetricWarning: Precision and F-score are ill-defined and being set to 0.0 in labels with no predicted samples. Use `zero_division` parameter to control this behavior.\n",
      "  _warn_prf(average, modifier, msg_start, len(result))\n"
     ]
    }
   ],
   "source": [
    "# Convert one-hot encoded arrays back to class labels\n",
    "y_true = y_train2.values.argmax(axis=1)  # Convert one-hot encoded y to class labels\n",
    "y_pred = yhat.argmax(axis=1)  # Convert one-hot encoded y_hat to class labels\n",
    "\n",
    "# Generate classification report\n",
    "report = classification_report(y_true, y_pred)\n",
    "\n",
    "# Print the classification report\n",
    "print(report)"
   ]
  },
  {
   "cell_type": "markdown",
   "metadata": {},
   "source": [
    "Remember that the dataset is quite inbalanced"
   ]
  },
  {
   "cell_type": "code",
   "execution_count": 234,
   "metadata": {},
   "outputs": [
    {
     "data": {
      "text/plain": [
       "label\n",
       "1    29766\n",
       "0    14315\n",
       "3     8618\n",
       "2     6848\n",
       "7     4050\n",
       "4      307\n",
       "6      121\n",
       "5      115\n",
       "Name: count, dtype: int64"
      ]
     },
     "execution_count": 234,
     "metadata": {},
     "output_type": "execute_result"
    }
   ],
   "source": [
    "y_train.value_counts()"
   ]
  },
  {
   "cell_type": "markdown",
   "metadata": {},
   "source": [
    "### Using oversampling"
   ]
  },
  {
   "cell_type": "code",
   "execution_count": 341,
   "metadata": {},
   "outputs": [],
   "source": [
    "oversample = RandomOverSampler()"
   ]
  },
  {
   "cell_type": "code",
   "execution_count": 342,
   "metadata": {},
   "outputs": [],
   "source": [
    "X2 = df2.drop(columns=['label']) \n",
    "y2 = df2['label']"
   ]
  },
  {
   "cell_type": "code",
   "execution_count": 343,
   "metadata": {},
   "outputs": [
    {
     "data": {
      "text/plain": [
       "label\n",
       "2    37195\n",
       "1    37195\n",
       "3    37195\n",
       "7    37195\n",
       "0    37195\n",
       "4    37195\n",
       "6    37195\n",
       "5    37195\n",
       "Name: count, dtype: int64"
      ]
     },
     "execution_count": 343,
     "metadata": {},
     "output_type": "execute_result"
    }
   ],
   "source": [
    "X_over, y_over = oversample.fit_resample(X2, y2)\n",
    "y_over.value_counts()"
   ]
  },
  {
   "cell_type": "code",
   "execution_count": 344,
   "metadata": {},
   "outputs": [],
   "source": [
    "df_over_sample = X_over.copy()"
   ]
  },
  {
   "cell_type": "code",
   "execution_count": 345,
   "metadata": {},
   "outputs": [],
   "source": [
    "df_over_sample['label'] = y_over"
   ]
  },
  {
   "cell_type": "code",
   "execution_count": 346,
   "metadata": {},
   "outputs": [
    {
     "data": {
      "text/html": [
       "<div>\n",
       "<style scoped>\n",
       "    .dataframe tbody tr th:only-of-type {\n",
       "        vertical-align: middle;\n",
       "    }\n",
       "\n",
       "    .dataframe tbody tr th {\n",
       "        vertical-align: top;\n",
       "    }\n",
       "\n",
       "    .dataframe thead th {\n",
       "        text-align: right;\n",
       "    }\n",
       "</style>\n",
       "<table border=\"1\" class=\"dataframe\">\n",
       "  <thead>\n",
       "    <tr style=\"text-align: right;\">\n",
       "      <th></th>\n",
       "      <th>class_0</th>\n",
       "      <th>class_1</th>\n",
       "      <th>class_2</th>\n",
       "      <th>class_3</th>\n",
       "      <th>class_4</th>\n",
       "      <th>class_5</th>\n",
       "      <th>class_6</th>\n",
       "      <th>class_7</th>\n",
       "    </tr>\n",
       "  </thead>\n",
       "  <tbody>\n",
       "    <tr>\n",
       "      <th>0</th>\n",
       "      <td>False</td>\n",
       "      <td>False</td>\n",
       "      <td>True</td>\n",
       "      <td>False</td>\n",
       "      <td>False</td>\n",
       "      <td>False</td>\n",
       "      <td>False</td>\n",
       "      <td>False</td>\n",
       "    </tr>\n",
       "    <tr>\n",
       "      <th>1</th>\n",
       "      <td>False</td>\n",
       "      <td>True</td>\n",
       "      <td>False</td>\n",
       "      <td>False</td>\n",
       "      <td>False</td>\n",
       "      <td>False</td>\n",
       "      <td>False</td>\n",
       "      <td>False</td>\n",
       "    </tr>\n",
       "    <tr>\n",
       "      <th>2</th>\n",
       "      <td>False</td>\n",
       "      <td>True</td>\n",
       "      <td>False</td>\n",
       "      <td>False</td>\n",
       "      <td>False</td>\n",
       "      <td>False</td>\n",
       "      <td>False</td>\n",
       "      <td>False</td>\n",
       "    </tr>\n",
       "    <tr>\n",
       "      <th>3</th>\n",
       "      <td>False</td>\n",
       "      <td>True</td>\n",
       "      <td>False</td>\n",
       "      <td>False</td>\n",
       "      <td>False</td>\n",
       "      <td>False</td>\n",
       "      <td>False</td>\n",
       "      <td>False</td>\n",
       "    </tr>\n",
       "    <tr>\n",
       "      <th>4</th>\n",
       "      <td>False</td>\n",
       "      <td>True</td>\n",
       "      <td>False</td>\n",
       "      <td>False</td>\n",
       "      <td>False</td>\n",
       "      <td>False</td>\n",
       "      <td>False</td>\n",
       "      <td>False</td>\n",
       "    </tr>\n",
       "    <tr>\n",
       "      <th>...</th>\n",
       "      <td>...</td>\n",
       "      <td>...</td>\n",
       "      <td>...</td>\n",
       "      <td>...</td>\n",
       "      <td>...</td>\n",
       "      <td>...</td>\n",
       "      <td>...</td>\n",
       "      <td>...</td>\n",
       "    </tr>\n",
       "    <tr>\n",
       "      <th>297555</th>\n",
       "      <td>False</td>\n",
       "      <td>False</td>\n",
       "      <td>False</td>\n",
       "      <td>False</td>\n",
       "      <td>False</td>\n",
       "      <td>False</td>\n",
       "      <td>False</td>\n",
       "      <td>True</td>\n",
       "    </tr>\n",
       "    <tr>\n",
       "      <th>297556</th>\n",
       "      <td>False</td>\n",
       "      <td>False</td>\n",
       "      <td>False</td>\n",
       "      <td>False</td>\n",
       "      <td>False</td>\n",
       "      <td>False</td>\n",
       "      <td>False</td>\n",
       "      <td>True</td>\n",
       "    </tr>\n",
       "    <tr>\n",
       "      <th>297557</th>\n",
       "      <td>False</td>\n",
       "      <td>False</td>\n",
       "      <td>False</td>\n",
       "      <td>False</td>\n",
       "      <td>False</td>\n",
       "      <td>False</td>\n",
       "      <td>False</td>\n",
       "      <td>True</td>\n",
       "    </tr>\n",
       "    <tr>\n",
       "      <th>297558</th>\n",
       "      <td>False</td>\n",
       "      <td>False</td>\n",
       "      <td>False</td>\n",
       "      <td>False</td>\n",
       "      <td>False</td>\n",
       "      <td>False</td>\n",
       "      <td>False</td>\n",
       "      <td>True</td>\n",
       "    </tr>\n",
       "    <tr>\n",
       "      <th>297559</th>\n",
       "      <td>False</td>\n",
       "      <td>False</td>\n",
       "      <td>False</td>\n",
       "      <td>False</td>\n",
       "      <td>False</td>\n",
       "      <td>False</td>\n",
       "      <td>False</td>\n",
       "      <td>True</td>\n",
       "    </tr>\n",
       "  </tbody>\n",
       "</table>\n",
       "<p>297560 rows × 8 columns</p>\n",
       "</div>"
      ],
      "text/plain": [
       "        class_0  class_1  class_2  class_3  class_4  class_5  class_6  class_7\n",
       "0         False    False     True    False    False    False    False    False\n",
       "1         False     True    False    False    False    False    False    False\n",
       "2         False     True    False    False    False    False    False    False\n",
       "3         False     True    False    False    False    False    False    False\n",
       "4         False     True    False    False    False    False    False    False\n",
       "...         ...      ...      ...      ...      ...      ...      ...      ...\n",
       "297555    False    False    False    False    False    False    False     True\n",
       "297556    False    False    False    False    False    False    False     True\n",
       "297557    False    False    False    False    False    False    False     True\n",
       "297558    False    False    False    False    False    False    False     True\n",
       "297559    False    False    False    False    False    False    False     True\n",
       "\n",
       "[297560 rows x 8 columns]"
      ]
     },
     "execution_count": 346,
     "metadata": {},
     "output_type": "execute_result"
    }
   ],
   "source": [
    "one_hot_encoded = pd.get_dummies(df_over_sample['label'], prefix='class')\n",
    "one_hot_encoded"
   ]
  },
  {
   "cell_type": "code",
   "execution_count": 347,
   "metadata": {},
   "outputs": [],
   "source": [
    "X2 = df_over_sample.drop(columns=['label']) \n",
    "y2 = one_hot_encoded\n",
    "X_train2, X_test2, y_train2, y_test2 = train_test_split(X2, y2, test_size=0.2, random_state=42)\n"
   ]
  },
  {
   "cell_type": "code",
   "execution_count": 348,
   "metadata": {},
   "outputs": [],
   "source": [
    "Xtensor = tf.convert_to_tensor(X_train2)\n",
    "ytensor = tf.convert_to_tensor(y_train2)"
   ]
  },
  {
   "cell_type": "code",
   "execution_count": 349,
   "metadata": {},
   "outputs": [],
   "source": [
    "model = Sequential(\n",
    "    [\n",
    "        Dense(15, activation='relu', name = 'layer1'),\n",
    "        Dense(13, activation='relu', name = 'layer2'),\n",
    "        Dense(11, activation='relu', name = 'layer3'),\n",
    "        Dense(20, activation='relu', name = 'layer4'),\n",
    "        Dense(8, activation='softmax') \n",
    "     ]\n",
    ")"
   ]
  },
  {
   "cell_type": "code",
   "execution_count": 352,
   "metadata": {},
   "outputs": [
    {
     "name": "stderr",
     "output_type": "stream",
     "text": [
      "WARNING:absl:At this time, the v2.11+ optimizer `tf.keras.optimizers.Adam` runs slowly on M1/M2 Macs, please use the legacy Keras optimizer instead, located at `tf.keras.optimizers.legacy.Adam`.\n"
     ]
    }
   ],
   "source": [
    "\"\"\"\n",
    "model.compile(\n",
    "    loss = tf.keras.losses.SparseCategoricalCrossentropy(),\n",
    "    optimizer = tf.keras.optimizers.Adam(learning_rate=0.01)\n",
    ")\n",
    "\"\"\""
   ]
  },
  {
   "cell_type": "code",
   "execution_count": 350,
   "metadata": {},
   "outputs": [
    {
     "name": "stderr",
     "output_type": "stream",
     "text": [
      "WARNING:absl:At this time, the v2.11+ optimizer `tf.keras.optimizers.Adam` runs slowly on M1/M2 Macs, please use the legacy Keras optimizer instead, located at `tf.keras.optimizers.legacy.Adam`.\n"
     ]
    }
   ],
   "source": [
    "model.compile(\n",
    "    loss = tf.keras.losses.BinaryCrossentropy(),\n",
    "    optimizer = tf.keras.optimizers.Adam(learning_rate=0.01)\n",
    ")"
   ]
  },
  {
   "cell_type": "code",
   "execution_count": 353,
   "metadata": {},
   "outputs": [
    {
     "name": "stdout",
     "output_type": "stream",
     "text": [
      "Epoch 1/30\n"
     ]
    },
    {
     "ename": "ValueError",
     "evalue": "in user code:\n\n    File \"/opt/homebrew/lib/python3.11/site-packages/keras/src/engine/training.py\", line 1401, in train_function  *\n        return step_function(self, iterator)\n    File \"/opt/homebrew/lib/python3.11/site-packages/keras/src/engine/training.py\", line 1384, in step_function  **\n        outputs = model.distribute_strategy.run(run_step, args=(data,))\n    File \"/opt/homebrew/lib/python3.11/site-packages/keras/src/engine/training.py\", line 1373, in run_step  **\n        outputs = model.train_step(data)\n    File \"/opt/homebrew/lib/python3.11/site-packages/keras/src/engine/training.py\", line 1151, in train_step\n        loss = self.compute_loss(x, y, y_pred, sample_weight)\n    File \"/opt/homebrew/lib/python3.11/site-packages/keras/src/engine/training.py\", line 1209, in compute_loss\n        return self.compiled_loss(\n    File \"/opt/homebrew/lib/python3.11/site-packages/keras/src/engine/compile_utils.py\", line 277, in __call__\n        loss_value = loss_obj(y_t, y_p, sample_weight=sw)\n    File \"/opt/homebrew/lib/python3.11/site-packages/keras/src/losses.py\", line 143, in __call__\n        losses = call_fn(y_true, y_pred)\n    File \"/opt/homebrew/lib/python3.11/site-packages/keras/src/losses.py\", line 270, in call  **\n        return ag_fn(y_true, y_pred, **self._fn_kwargs)\n    File \"/opt/homebrew/lib/python3.11/site-packages/keras/src/losses.py\", line 2454, in sparse_categorical_crossentropy\n        return backend.sparse_categorical_crossentropy(\n    File \"/opt/homebrew/lib/python3.11/site-packages/keras/src/backend.py\", line 5775, in sparse_categorical_crossentropy\n        res = tf.nn.sparse_softmax_cross_entropy_with_logits(\n\n    ValueError: `labels.shape` must equal `logits.shape` except for the last dimension. Received: labels.shape=(256,) and logits.shape=(32, 8)\n",
     "output_type": "error",
     "traceback": [
      "\u001b[0;31m---------------------------------------------------------------------------\u001b[0m",
      "\u001b[0;31mValueError\u001b[0m                                Traceback (most recent call last)",
      "Cell \u001b[0;32mIn[353], line 1\u001b[0m\n\u001b[0;32m----> 1\u001b[0m \u001b[43mmodel\u001b[49m\u001b[38;5;241;43m.\u001b[39;49m\u001b[43mfit\u001b[49m\u001b[43m(\u001b[49m\n\u001b[1;32m      2\u001b[0m \u001b[43m    \u001b[49m\u001b[43mXtensor\u001b[49m\u001b[43m,\u001b[49m\u001b[43mytensor\u001b[49m\u001b[43m,\u001b[49m\u001b[43m            \u001b[49m\n\u001b[1;32m      3\u001b[0m \u001b[43m    \u001b[49m\u001b[43mepochs\u001b[49m\u001b[38;5;241;43m=\u001b[39;49m\u001b[38;5;241;43m30\u001b[39;49m\u001b[43m,\u001b[49m\n\u001b[1;32m      4\u001b[0m \u001b[43m)\u001b[49m\n",
      "File \u001b[0;32m/opt/homebrew/lib/python3.11/site-packages/keras/src/utils/traceback_utils.py:70\u001b[0m, in \u001b[0;36mfilter_traceback.<locals>.error_handler\u001b[0;34m(*args, **kwargs)\u001b[0m\n\u001b[1;32m     67\u001b[0m     filtered_tb \u001b[38;5;241m=\u001b[39m _process_traceback_frames(e\u001b[38;5;241m.\u001b[39m__traceback__)\n\u001b[1;32m     68\u001b[0m     \u001b[38;5;66;03m# To get the full stack trace, call:\u001b[39;00m\n\u001b[1;32m     69\u001b[0m     \u001b[38;5;66;03m# `tf.debugging.disable_traceback_filtering()`\u001b[39;00m\n\u001b[0;32m---> 70\u001b[0m     \u001b[38;5;28;01mraise\u001b[39;00m e\u001b[38;5;241m.\u001b[39mwith_traceback(filtered_tb) \u001b[38;5;28;01mfrom\u001b[39;00m \u001b[38;5;28;01mNone\u001b[39;00m\n\u001b[1;32m     71\u001b[0m \u001b[38;5;28;01mfinally\u001b[39;00m:\n\u001b[1;32m     72\u001b[0m     \u001b[38;5;28;01mdel\u001b[39;00m filtered_tb\n",
      "File \u001b[0;32m/var/folders/5w/0rbr_3m55zvcks3pv8gm43s40000gn/T/__autograph_generated_fileejosnoo8.py:15\u001b[0m, in \u001b[0;36mouter_factory.<locals>.inner_factory.<locals>.tf__train_function\u001b[0;34m(iterator)\u001b[0m\n\u001b[1;32m     13\u001b[0m \u001b[38;5;28;01mtry\u001b[39;00m:\n\u001b[1;32m     14\u001b[0m     do_return \u001b[38;5;241m=\u001b[39m \u001b[38;5;28;01mTrue\u001b[39;00m\n\u001b[0;32m---> 15\u001b[0m     retval_ \u001b[38;5;241m=\u001b[39m ag__\u001b[38;5;241m.\u001b[39mconverted_call(ag__\u001b[38;5;241m.\u001b[39mld(step_function), (ag__\u001b[38;5;241m.\u001b[39mld(\u001b[38;5;28mself\u001b[39m), ag__\u001b[38;5;241m.\u001b[39mld(iterator)), \u001b[38;5;28;01mNone\u001b[39;00m, fscope)\n\u001b[1;32m     16\u001b[0m \u001b[38;5;28;01mexcept\u001b[39;00m:\n\u001b[1;32m     17\u001b[0m     do_return \u001b[38;5;241m=\u001b[39m \u001b[38;5;28;01mFalse\u001b[39;00m\n",
      "\u001b[0;31mValueError\u001b[0m: in user code:\n\n    File \"/opt/homebrew/lib/python3.11/site-packages/keras/src/engine/training.py\", line 1401, in train_function  *\n        return step_function(self, iterator)\n    File \"/opt/homebrew/lib/python3.11/site-packages/keras/src/engine/training.py\", line 1384, in step_function  **\n        outputs = model.distribute_strategy.run(run_step, args=(data,))\n    File \"/opt/homebrew/lib/python3.11/site-packages/keras/src/engine/training.py\", line 1373, in run_step  **\n        outputs = model.train_step(data)\n    File \"/opt/homebrew/lib/python3.11/site-packages/keras/src/engine/training.py\", line 1151, in train_step\n        loss = self.compute_loss(x, y, y_pred, sample_weight)\n    File \"/opt/homebrew/lib/python3.11/site-packages/keras/src/engine/training.py\", line 1209, in compute_loss\n        return self.compiled_loss(\n    File \"/opt/homebrew/lib/python3.11/site-packages/keras/src/engine/compile_utils.py\", line 277, in __call__\n        loss_value = loss_obj(y_t, y_p, sample_weight=sw)\n    File \"/opt/homebrew/lib/python3.11/site-packages/keras/src/losses.py\", line 143, in __call__\n        losses = call_fn(y_true, y_pred)\n    File \"/opt/homebrew/lib/python3.11/site-packages/keras/src/losses.py\", line 270, in call  **\n        return ag_fn(y_true, y_pred, **self._fn_kwargs)\n    File \"/opt/homebrew/lib/python3.11/site-packages/keras/src/losses.py\", line 2454, in sparse_categorical_crossentropy\n        return backend.sparse_categorical_crossentropy(\n    File \"/opt/homebrew/lib/python3.11/site-packages/keras/src/backend.py\", line 5775, in sparse_categorical_crossentropy\n        res = tf.nn.sparse_softmax_cross_entropy_with_logits(\n\n    ValueError: `labels.shape` must equal `logits.shape` except for the last dimension. Received: labels.shape=(256,) and logits.shape=(32, 8)\n"
     ]
    }
   ],
   "source": [
    "model.fit(\n",
    "    Xtensor,ytensor,            \n",
    "    epochs=30,\n",
    ")"
   ]
  },
  {
   "cell_type": "code",
   "execution_count": 307,
   "metadata": {},
   "outputs": [
    {
     "data": {
      "text/plain": [
       "0.1566612869501114"
      ]
     },
     "execution_count": 307,
     "metadata": {},
     "output_type": "execute_result"
    }
   ],
   "source": [
    "loss = model.evaluate(Xtensor, ytensor, verbose=0)\n",
    "loss"
   ]
  },
  {
   "cell_type": "code",
   "execution_count": 308,
   "metadata": {},
   "outputs": [
    {
     "name": "stdout",
     "output_type": "stream",
     "text": [
      "7439/7439 [==============================] - 2s 284us/step\n"
     ]
    }
   ],
   "source": [
    "yhat = model.predict(X_train2)"
   ]
  },
  {
   "cell_type": "code",
   "execution_count": 309,
   "metadata": {},
   "outputs": [
    {
     "name": "stdout",
     "output_type": "stream",
     "text": [
      "              precision    recall  f1-score   support\n",
      "\n",
      "           0       0.49      0.65      0.56     29752\n",
      "           1       0.73      0.03      0.06     29721\n",
      "           2       0.56      0.66      0.61     29826\n",
      "           3       0.73      0.95      0.82     29777\n",
      "           4       0.82      0.84      0.83     29641\n",
      "           5       0.94      0.90      0.92     29733\n",
      "           6       0.89      0.99      0.94     29812\n",
      "           7       0.87      0.94      0.90     29786\n",
      "\n",
      "    accuracy                           0.74    238048\n",
      "   macro avg       0.76      0.74      0.71    238048\n",
      "weighted avg       0.76      0.74      0.71    238048\n",
      "\n"
     ]
    }
   ],
   "source": [
    "# Convert one-hot encoded arrays back to class labels\n",
    "y_true = y_train2.values.argmax(axis=1)  # Convert one-hot encoded y to class labels\n",
    "y_pred = yhat.argmax(axis=1)  # Convert one-hot encoded y_hat to class labels\n",
    "\n",
    "# Generate classification report\n",
    "report = classification_report(y_true, y_pred)\n",
    "\n",
    "# Print the classification report\n",
    "print(report)"
   ]
  },
  {
   "cell_type": "code",
   "execution_count": 310,
   "metadata": {},
   "outputs": [
    {
     "name": "stdout",
     "output_type": "stream",
     "text": [
      "1860/1860 [==============================] - 1s 335us/step\n"
     ]
    }
   ],
   "source": [
    "yhat = model.predict(X_test2)"
   ]
  },
  {
   "cell_type": "code",
   "execution_count": 311,
   "metadata": {},
   "outputs": [
    {
     "name": "stdout",
     "output_type": "stream",
     "text": [
      "              precision    recall  f1-score   support\n",
      "\n",
      "           0       0.50      0.66      0.57      7443\n",
      "           1       0.70      0.03      0.05      7474\n",
      "           2       0.57      0.67      0.61      7369\n",
      "           3       0.73      0.95      0.82      7418\n",
      "           4       0.83      0.83      0.83      7554\n",
      "           5       0.94      0.90      0.92      7462\n",
      "           6       0.89      0.99      0.93      7383\n",
      "           7       0.87      0.94      0.90      7409\n",
      "\n",
      "    accuracy                           0.74     59512\n",
      "   macro avg       0.75      0.74      0.70     59512\n",
      "weighted avg       0.75      0.74      0.70     59512\n",
      "\n"
     ]
    }
   ],
   "source": [
    "# Convert one-hot encoded arrays back to class labels\n",
    "y_true = y_test2.values.argmax(axis=1)  # Convert one-hot encoded y to class labels\n",
    "y_pred = yhat.argmax(axis=1)  # Convert one-hot encoded y_hat to class labels\n",
    "\n",
    "# Generate classification report\n",
    "report = classification_report(y_true, y_pred)\n",
    "\n",
    "# Print the classification report\n",
    "print(report)"
   ]
  },
  {
   "cell_type": "code",
   "execution_count": null,
   "metadata": {},
   "outputs": [],
   "source": []
  }
 ],
 "metadata": {
  "kernelspec": {
   "display_name": "Python 3",
   "language": "python",
   "name": "python3"
  },
  "language_info": {
   "codemirror_mode": {
    "name": "ipython",
    "version": 3
   },
   "file_extension": ".py",
   "mimetype": "text/x-python",
   "name": "python",
   "nbconvert_exporter": "python",
   "pygments_lexer": "ipython3",
   "version": "3.11.6"
  }
 },
 "nbformat": 4,
 "nbformat_minor": 2
}
